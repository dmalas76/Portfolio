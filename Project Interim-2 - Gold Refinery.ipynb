{
 "cells": [
  {
   "cell_type": "markdown",
   "metadata": {},
   "source": [
    "# Эффективность восстановления золота из золотосодержащей руды"
   ]
  },
  {
   "cell_type": "markdown",
   "metadata": {},
   "source": [
    "### Введение"
   ]
  },
  {
   "cell_type": "markdown",
   "metadata": {},
   "source": [
    "#### Постановка задачи\n",
    "\n",
    "Имеются данные с параметрами добычи и очистки золотосодержащей руды. \n",
    "\n",
    "Задача - подготовить прототип модели, которая должна предсказывать коэффициент восстановления золота из руды. \n",
    "Модель поможет оптимизировать производство, чтобы не запускать предприятие с убыточными характеристиками.  \n",
    "\n",
    "Эффективность обогащения рассчитывается по формуле:  \n",
    "\n",
    "***Recovery = (C x (F-T)) / (F x (C-T)) x 100%***  \n",
    "\n",
    "где:  \n",
    "•\tC — доля золота в концентрате после флотации/очистки;  \n",
    "•\tF — доля золота в сырье до флотации/очистки;  \n",
    "•\tT — доля золота в отвальных хвостах после флотации/очистки.  \n",
    "\n",
    "В качестве метрики качества будем использовать метрику ***sMAPE*** (Symmetric Mean Absolute Percentage Error, «симметричное среднее абсолютное процентное отклонение»).  \n",
    "Итоговая sMAPE складывается из двух величин:  \n",
    "\n",
    "***Итоговая sMAPE = 25% x sMAPE(rougher) + 75% x sMAPE(final)***  \n",
    "\n",
    "где:  \n",
    "- sMAPE(rougher) - эффективность обогащения чернового концентрата;  \n",
    "- sMAPE(final) - эффективность обогащения финального концентрата. "
   ]
  },
  {
   "cell_type": "markdown",
   "metadata": {},
   "source": [
    "#### Описание данных\n",
    "\n",
    "*Технологический процесс*\n",
    "\n",
    "•\tRougher feed — исходное сырье  \n",
    "•\tRougher additions (или reagent additions) — флотационные реагенты: Xanthate, Sulphate, Depressant  \n",
    "o\tXanthate **— ксантогенат (промотер, или активатор флотации);  \n",
    "o\tSulphate — сульфат (на данном производстве сульфид натрия);  \n",
    "o\tDepressant — депрессант (силикат натрия).  \n",
    "•\tRougher process (англ. «грубый процесс») — флотация  \n",
    "•\tRougher tails — отвальные хвосты  \n",
    "•\tFloat banks — флотационная установка  \n",
    "•\tCleaner process — очистка  \n",
    "•\tRougher Au — черновой концентрат золота  \n",
    "•\tFinal Au — финальный концентрат золота  \n",
    "\n",
    "*Параметры этапов*  \n",
    "\n",
    "•\tair amount — объём воздуха  \n",
    "•\tfluid levels — уровень жидкости  \n",
    "•\tfeed size — размер гранул сырья  \n",
    "•\tfeed rate — скорость подачи  \n",
    "\n",
    "*Наименование признаков*  \n",
    "\n",
    "Наименования признаков представлены в формате:  \n",
    "[этап].[тип_параметра].[название_параметра]  \n",
    "Пример: rougher.input.feed_ag \n",
    "\n",
    "Значения для блока [этап]:  \n",
    "•\trougher — флотация  \n",
    "•\tprimary_cleaner — первичная очистка  \n",
    "•\tsecondary_cleaner — вторичная очистка  \n",
    "•\tfinal — финальные характеристики \n",
    "\n",
    "Значения для блока [тип_параметра]:  \n",
    "•\tinput — параметры сырья  \n",
    "•\toutput — параметры продукта  \n",
    "•\tstate — параметры, характеризующие текущее состояние этапа  \n",
    "•\tcalculation — расчётные характеристики  "
   ]
  },
  {
   "cell_type": "markdown",
   "metadata": {},
   "source": [
    "#### План работы\n",
    "\n",
    "1. Подготовка данных.\n",
    "2. Aнализ технологических данных.\n",
    "3. Модель.\n",
    "4. Вывод."
   ]
  },
  {
   "cell_type": "markdown",
   "metadata": {},
   "source": [
    "### 1. Подготовка данных."
   ]
  },
  {
   "cell_type": "markdown",
   "metadata": {},
   "source": [
    "### 1.1. Загрузка и изучение данных."
   ]
  },
  {
   "cell_type": "code",
   "execution_count": 1,
   "metadata": {},
   "outputs": [],
   "source": [
    "# импорт библиотек\n",
    "import pandas as pd\n",
    "import numpy as np\n",
    "pd.set_option('display.max_columns', None)"
   ]
  },
  {
   "cell_type": "code",
   "execution_count": 2,
   "metadata": {},
   "outputs": [],
   "source": [
    "# загрузка данных\n",
    "train = pd.read_csv('/datasets/gold_recovery_train.csv')\n",
    "test = pd.read_csv('/datasets/gold_recovery_test.csv')\n",
    "full = pd.read_csv('/datasets/gold_recovery_full.csv')"
   ]
  },
  {
   "cell_type": "code",
   "execution_count": 3,
   "metadata": {},
   "outputs": [
    {
     "name": "stdout",
     "output_type": "stream",
     "text": [
      "training_data    Общая информация - проверка на наличие пропусков, проверка типа данных\n",
      "\n",
      "<class 'pandas.core.frame.DataFrame'>\n",
      "RangeIndex: 16860 entries, 0 to 16859\n",
      "Data columns (total 87 columns):\n",
      "date                                                  16860 non-null object\n",
      "final.output.concentrate_ag                           16788 non-null float64\n",
      "final.output.concentrate_pb                           16788 non-null float64\n",
      "final.output.concentrate_sol                          16490 non-null float64\n",
      "final.output.concentrate_au                           16789 non-null float64\n",
      "final.output.recovery                                 15339 non-null float64\n",
      "final.output.tail_ag                                  16794 non-null float64\n",
      "final.output.tail_pb                                  16677 non-null float64\n",
      "final.output.tail_sol                                 16715 non-null float64\n",
      "final.output.tail_au                                  16794 non-null float64\n",
      "primary_cleaner.input.sulfate                         15553 non-null float64\n",
      "primary_cleaner.input.depressant                      15598 non-null float64\n",
      "primary_cleaner.input.feed_size                       16860 non-null float64\n",
      "primary_cleaner.input.xanthate                        15875 non-null float64\n",
      "primary_cleaner.output.concentrate_ag                 16778 non-null float64\n",
      "primary_cleaner.output.concentrate_pb                 16502 non-null float64\n",
      "primary_cleaner.output.concentrate_sol                16224 non-null float64\n",
      "primary_cleaner.output.concentrate_au                 16778 non-null float64\n",
      "primary_cleaner.output.tail_ag                        16777 non-null float64\n",
      "primary_cleaner.output.tail_pb                        16761 non-null float64\n",
      "primary_cleaner.output.tail_sol                       16579 non-null float64\n",
      "primary_cleaner.output.tail_au                        16777 non-null float64\n",
      "primary_cleaner.state.floatbank8_a_air                16820 non-null float64\n",
      "primary_cleaner.state.floatbank8_a_level              16827 non-null float64\n",
      "primary_cleaner.state.floatbank8_b_air                16820 non-null float64\n",
      "primary_cleaner.state.floatbank8_b_level              16833 non-null float64\n",
      "primary_cleaner.state.floatbank8_c_air                16822 non-null float64\n",
      "primary_cleaner.state.floatbank8_c_level              16833 non-null float64\n",
      "primary_cleaner.state.floatbank8_d_air                16821 non-null float64\n",
      "primary_cleaner.state.floatbank8_d_level              16833 non-null float64\n",
      "rougher.calculation.sulfate_to_au_concentrate         16833 non-null float64\n",
      "rougher.calculation.floatbank10_sulfate_to_au_feed    16833 non-null float64\n",
      "rougher.calculation.floatbank11_sulfate_to_au_feed    16833 non-null float64\n",
      "rougher.calculation.au_pb_ratio                       15618 non-null float64\n",
      "rougher.input.feed_ag                                 16778 non-null float64\n",
      "rougher.input.feed_pb                                 16632 non-null float64\n",
      "rougher.input.feed_rate                               16347 non-null float64\n",
      "rougher.input.feed_size                               16443 non-null float64\n",
      "rougher.input.feed_sol                                16568 non-null float64\n",
      "rougher.input.feed_au                                 16777 non-null float64\n",
      "rougher.input.floatbank10_sulfate                     15816 non-null float64\n",
      "rougher.input.floatbank10_xanthate                    16514 non-null float64\n",
      "rougher.input.floatbank11_sulfate                     16237 non-null float64\n",
      "rougher.input.floatbank11_xanthate                    14956 non-null float64\n",
      "rougher.output.concentrate_ag                         16778 non-null float64\n",
      "rougher.output.concentrate_pb                         16778 non-null float64\n",
      "rougher.output.concentrate_sol                        16698 non-null float64\n",
      "rougher.output.concentrate_au                         16778 non-null float64\n",
      "rougher.output.recovery                               14287 non-null float64\n",
      "rougher.output.tail_ag                                14610 non-null float64\n",
      "rougher.output.tail_pb                                16778 non-null float64\n",
      "rougher.output.tail_sol                               14611 non-null float64\n",
      "rougher.output.tail_au                                14611 non-null float64\n",
      "rougher.state.floatbank10_a_air                       16807 non-null float64\n",
      "rougher.state.floatbank10_a_level                     16807 non-null float64\n",
      "rougher.state.floatbank10_b_air                       16807 non-null float64\n",
      "rougher.state.floatbank10_b_level                     16807 non-null float64\n",
      "rougher.state.floatbank10_c_air                       16807 non-null float64\n",
      "rougher.state.floatbank10_c_level                     16814 non-null float64\n",
      "rougher.state.floatbank10_d_air                       16802 non-null float64\n",
      "rougher.state.floatbank10_d_level                     16809 non-null float64\n",
      "rougher.state.floatbank10_e_air                       16257 non-null float64\n",
      "rougher.state.floatbank10_e_level                     16809 non-null float64\n",
      "rougher.state.floatbank10_f_air                       16802 non-null float64\n",
      "rougher.state.floatbank10_f_level                     16802 non-null float64\n",
      "secondary_cleaner.output.tail_ag                      16776 non-null float64\n",
      "secondary_cleaner.output.tail_pb                      16764 non-null float64\n",
      "secondary_cleaner.output.tail_sol                     14874 non-null float64\n",
      "secondary_cleaner.output.tail_au                      16778 non-null float64\n",
      "secondary_cleaner.state.floatbank2_a_air              16497 non-null float64\n",
      "secondary_cleaner.state.floatbank2_a_level            16751 non-null float64\n",
      "secondary_cleaner.state.floatbank2_b_air              16705 non-null float64\n",
      "secondary_cleaner.state.floatbank2_b_level            16748 non-null float64\n",
      "secondary_cleaner.state.floatbank3_a_air              16763 non-null float64\n",
      "secondary_cleaner.state.floatbank3_a_level            16747 non-null float64\n",
      "secondary_cleaner.state.floatbank3_b_air              16752 non-null float64\n",
      "secondary_cleaner.state.floatbank3_b_level            16750 non-null float64\n",
      "secondary_cleaner.state.floatbank4_a_air              16731 non-null float64\n",
      "secondary_cleaner.state.floatbank4_a_level            16747 non-null float64\n",
      "secondary_cleaner.state.floatbank4_b_air              16768 non-null float64\n",
      "secondary_cleaner.state.floatbank4_b_level            16767 non-null float64\n",
      "secondary_cleaner.state.floatbank5_a_air              16775 non-null float64\n",
      "secondary_cleaner.state.floatbank5_a_level            16775 non-null float64\n",
      "secondary_cleaner.state.floatbank5_b_air              16775 non-null float64\n",
      "secondary_cleaner.state.floatbank5_b_level            16776 non-null float64\n",
      "secondary_cleaner.state.floatbank6_a_air              16757 non-null float64\n",
      "secondary_cleaner.state.floatbank6_a_level            16775 non-null float64\n",
      "dtypes: float64(86), object(1)\n",
      "memory usage: 11.2+ MB\n",
      "None\n",
      "\n",
      "training_data    Количество дупликатов строк: 0\n",
      "\n",
      "test_data    Общая информация - проверка на наличие пропусков, проверка типа данных\n",
      "\n",
      "<class 'pandas.core.frame.DataFrame'>\n",
      "RangeIndex: 5856 entries, 0 to 5855\n",
      "Data columns (total 53 columns):\n",
      "date                                          5856 non-null object\n",
      "primary_cleaner.input.sulfate                 5554 non-null float64\n",
      "primary_cleaner.input.depressant              5572 non-null float64\n",
      "primary_cleaner.input.feed_size               5856 non-null float64\n",
      "primary_cleaner.input.xanthate                5690 non-null float64\n",
      "primary_cleaner.state.floatbank8_a_air        5840 non-null float64\n",
      "primary_cleaner.state.floatbank8_a_level      5840 non-null float64\n",
      "primary_cleaner.state.floatbank8_b_air        5840 non-null float64\n",
      "primary_cleaner.state.floatbank8_b_level      5840 non-null float64\n",
      "primary_cleaner.state.floatbank8_c_air        5840 non-null float64\n",
      "primary_cleaner.state.floatbank8_c_level      5840 non-null float64\n",
      "primary_cleaner.state.floatbank8_d_air        5840 non-null float64\n",
      "primary_cleaner.state.floatbank8_d_level      5840 non-null float64\n",
      "rougher.input.feed_ag                         5840 non-null float64\n",
      "rougher.input.feed_pb                         5840 non-null float64\n",
      "rougher.input.feed_rate                       5816 non-null float64\n",
      "rougher.input.feed_size                       5834 non-null float64\n",
      "rougher.input.feed_sol                        5789 non-null float64\n",
      "rougher.input.feed_au                         5840 non-null float64\n",
      "rougher.input.floatbank10_sulfate             5599 non-null float64\n",
      "rougher.input.floatbank10_xanthate            5733 non-null float64\n",
      "rougher.input.floatbank11_sulfate             5801 non-null float64\n",
      "rougher.input.floatbank11_xanthate            5503 non-null float64\n",
      "rougher.state.floatbank10_a_air               5839 non-null float64\n",
      "rougher.state.floatbank10_a_level             5840 non-null float64\n",
      "rougher.state.floatbank10_b_air               5839 non-null float64\n",
      "rougher.state.floatbank10_b_level             5840 non-null float64\n",
      "rougher.state.floatbank10_c_air               5839 non-null float64\n",
      "rougher.state.floatbank10_c_level             5840 non-null float64\n",
      "rougher.state.floatbank10_d_air               5839 non-null float64\n",
      "rougher.state.floatbank10_d_level             5840 non-null float64\n",
      "rougher.state.floatbank10_e_air               5839 non-null float64\n",
      "rougher.state.floatbank10_e_level             5840 non-null float64\n",
      "rougher.state.floatbank10_f_air               5839 non-null float64\n",
      "rougher.state.floatbank10_f_level             5840 non-null float64\n",
      "secondary_cleaner.state.floatbank2_a_air      5836 non-null float64\n",
      "secondary_cleaner.state.floatbank2_a_level    5840 non-null float64\n",
      "secondary_cleaner.state.floatbank2_b_air      5833 non-null float64\n",
      "secondary_cleaner.state.floatbank2_b_level    5840 non-null float64\n",
      "secondary_cleaner.state.floatbank3_a_air      5822 non-null float64\n",
      "secondary_cleaner.state.floatbank3_a_level    5840 non-null float64\n",
      "secondary_cleaner.state.floatbank3_b_air      5840 non-null float64\n",
      "secondary_cleaner.state.floatbank3_b_level    5840 non-null float64\n",
      "secondary_cleaner.state.floatbank4_a_air      5840 non-null float64\n",
      "secondary_cleaner.state.floatbank4_a_level    5840 non-null float64\n",
      "secondary_cleaner.state.floatbank4_b_air      5840 non-null float64\n",
      "secondary_cleaner.state.floatbank4_b_level    5840 non-null float64\n",
      "secondary_cleaner.state.floatbank5_a_air      5840 non-null float64\n",
      "secondary_cleaner.state.floatbank5_a_level    5840 non-null float64\n",
      "secondary_cleaner.state.floatbank5_b_air      5840 non-null float64\n",
      "secondary_cleaner.state.floatbank5_b_level    5840 non-null float64\n",
      "secondary_cleaner.state.floatbank6_a_air      5840 non-null float64\n",
      "secondary_cleaner.state.floatbank6_a_level    5840 non-null float64\n",
      "dtypes: float64(52), object(1)\n",
      "memory usage: 2.4+ MB\n",
      "None\n",
      "\n",
      "test_data    Количество дупликатов строк: 0\n",
      "\n",
      "full_data    Общая информация - проверка на наличие пропусков, проверка типа данных\n",
      "\n",
      "<class 'pandas.core.frame.DataFrame'>\n",
      "RangeIndex: 22716 entries, 0 to 22715\n",
      "Data columns (total 87 columns):\n",
      "date                                                  22716 non-null object\n",
      "final.output.concentrate_ag                           22627 non-null float64\n",
      "final.output.concentrate_pb                           22629 non-null float64\n",
      "final.output.concentrate_sol                          22331 non-null float64\n",
      "final.output.concentrate_au                           22630 non-null float64\n",
      "final.output.recovery                                 20753 non-null float64\n",
      "final.output.tail_ag                                  22633 non-null float64\n",
      "final.output.tail_pb                                  22516 non-null float64\n",
      "final.output.tail_sol                                 22445 non-null float64\n",
      "final.output.tail_au                                  22635 non-null float64\n",
      "primary_cleaner.input.sulfate                         21107 non-null float64\n",
      "primary_cleaner.input.depressant                      21170 non-null float64\n",
      "primary_cleaner.input.feed_size                       22716 non-null float64\n",
      "primary_cleaner.input.xanthate                        21565 non-null float64\n",
      "primary_cleaner.output.concentrate_ag                 22618 non-null float64\n",
      "primary_cleaner.output.concentrate_pb                 22268 non-null float64\n",
      "primary_cleaner.output.concentrate_sol                21918 non-null float64\n",
      "primary_cleaner.output.concentrate_au                 22618 non-null float64\n",
      "primary_cleaner.output.tail_ag                        22614 non-null float64\n",
      "primary_cleaner.output.tail_pb                        22594 non-null float64\n",
      "primary_cleaner.output.tail_sol                       22365 non-null float64\n",
      "primary_cleaner.output.tail_au                        22617 non-null float64\n",
      "primary_cleaner.state.floatbank8_a_air                22660 non-null float64\n",
      "primary_cleaner.state.floatbank8_a_level              22667 non-null float64\n",
      "primary_cleaner.state.floatbank8_b_air                22660 non-null float64\n",
      "primary_cleaner.state.floatbank8_b_level              22673 non-null float64\n",
      "primary_cleaner.state.floatbank8_c_air                22662 non-null float64\n",
      "primary_cleaner.state.floatbank8_c_level              22673 non-null float64\n",
      "primary_cleaner.state.floatbank8_d_air                22661 non-null float64\n",
      "primary_cleaner.state.floatbank8_d_level              22673 non-null float64\n",
      "rougher.calculation.sulfate_to_au_concentrate         22672 non-null float64\n",
      "rougher.calculation.floatbank10_sulfate_to_au_feed    22672 non-null float64\n",
      "rougher.calculation.floatbank11_sulfate_to_au_feed    22672 non-null float64\n",
      "rougher.calculation.au_pb_ratio                       21089 non-null float64\n",
      "rougher.input.feed_ag                                 22618 non-null float64\n",
      "rougher.input.feed_pb                                 22472 non-null float64\n",
      "rougher.input.feed_rate                               22163 non-null float64\n",
      "rougher.input.feed_size                               22277 non-null float64\n",
      "rougher.input.feed_sol                                22357 non-null float64\n",
      "rougher.input.feed_au                                 22617 non-null float64\n",
      "rougher.input.floatbank10_sulfate                     21415 non-null float64\n",
      "rougher.input.floatbank10_xanthate                    22247 non-null float64\n",
      "rougher.input.floatbank11_sulfate                     22038 non-null float64\n",
      "rougher.input.floatbank11_xanthate                    20459 non-null float64\n",
      "rougher.output.concentrate_ag                         22618 non-null float64\n",
      "rougher.output.concentrate_pb                         22618 non-null float64\n",
      "rougher.output.concentrate_sol                        22526 non-null float64\n",
      "rougher.output.concentrate_au                         22618 non-null float64\n",
      "rougher.output.recovery                               19597 non-null float64\n",
      "rougher.output.tail_ag                                19979 non-null float64\n",
      "rougher.output.tail_pb                                22618 non-null float64\n",
      "rougher.output.tail_sol                               19980 non-null float64\n",
      "rougher.output.tail_au                                19980 non-null float64\n",
      "rougher.state.floatbank10_a_air                       22646 non-null float64\n",
      "rougher.state.floatbank10_a_level                     22647 non-null float64\n",
      "rougher.state.floatbank10_b_air                       22646 non-null float64\n",
      "rougher.state.floatbank10_b_level                     22647 non-null float64\n",
      "rougher.state.floatbank10_c_air                       22646 non-null float64\n",
      "rougher.state.floatbank10_c_level                     22654 non-null float64\n",
      "rougher.state.floatbank10_d_air                       22641 non-null float64\n",
      "rougher.state.floatbank10_d_level                     22649 non-null float64\n",
      "rougher.state.floatbank10_e_air                       22096 non-null float64\n",
      "rougher.state.floatbank10_e_level                     22649 non-null float64\n",
      "rougher.state.floatbank10_f_air                       22641 non-null float64\n",
      "rougher.state.floatbank10_f_level                     22642 non-null float64\n",
      "secondary_cleaner.output.tail_ag                      22616 non-null float64\n",
      "secondary_cleaner.output.tail_pb                      22600 non-null float64\n",
      "secondary_cleaner.output.tail_sol                     20501 non-null float64\n",
      "secondary_cleaner.output.tail_au                      22618 non-null float64\n",
      "secondary_cleaner.state.floatbank2_a_air              22333 non-null float64\n",
      "secondary_cleaner.state.floatbank2_a_level            22591 non-null float64\n",
      "secondary_cleaner.state.floatbank2_b_air              22538 non-null float64\n",
      "secondary_cleaner.state.floatbank2_b_level            22588 non-null float64\n",
      "secondary_cleaner.state.floatbank3_a_air              22585 non-null float64\n",
      "secondary_cleaner.state.floatbank3_a_level            22587 non-null float64\n",
      "secondary_cleaner.state.floatbank3_b_air              22592 non-null float64\n",
      "secondary_cleaner.state.floatbank3_b_level            22590 non-null float64\n",
      "secondary_cleaner.state.floatbank4_a_air              22571 non-null float64\n",
      "secondary_cleaner.state.floatbank4_a_level            22587 non-null float64\n",
      "secondary_cleaner.state.floatbank4_b_air              22608 non-null float64\n",
      "secondary_cleaner.state.floatbank4_b_level            22607 non-null float64\n",
      "secondary_cleaner.state.floatbank5_a_air              22615 non-null float64\n",
      "secondary_cleaner.state.floatbank5_a_level            22615 non-null float64\n",
      "secondary_cleaner.state.floatbank5_b_air              22615 non-null float64\n",
      "secondary_cleaner.state.floatbank5_b_level            22616 non-null float64\n",
      "secondary_cleaner.state.floatbank6_a_air              22597 non-null float64\n",
      "secondary_cleaner.state.floatbank6_a_level            22615 non-null float64\n",
      "dtypes: float64(86), object(1)\n",
      "memory usage: 15.1+ MB\n",
      "None\n",
      "\n",
      "full_data    Количество дупликатов строк: 0\n",
      "\n"
     ]
    }
   ],
   "source": [
    "# проверка на наличие пропусков, проверка типа данных, поиск дупликатов строк\n",
    "dataset = {'training_data': train, 'test_data': test, 'full_data': full}\n",
    "for name, data in dataset.items():\n",
    "    print (name, '   Общая информация - проверка на наличие пропусков, проверка типа данных')\n",
    "    print ()\n",
    "    print (data.info())\n",
    "    print ()\n",
    "    print (name, '   Количество дупликатов строк:',data.duplicated().sum())\n",
    "    print ()"
   ]
  },
  {
   "cell_type": "markdown",
   "metadata": {},
   "source": [
    "#### Вывод по изучению данных\n",
    "\n",
    "Во всех трех файлах обнаружены пропуски строк, данные о дате и времени получения информации представлены в формате object - потребуется обработка. Дупликаты строк не обнаружены."
   ]
  },
  {
   "cell_type": "markdown",
   "metadata": {},
   "source": [
    "### 1.2. Проверка правильности расчёта эффективности обогащения. "
   ]
  },
  {
   "cell_type": "markdown",
   "metadata": {},
   "source": [
    "Вычислим эффективность обогащения на обучающей выборке для признака rougher.output.recovery и найдем значение среднего абсолютного отклонения (MAE) между нашими расчётами и значением признака. "
   ]
  },
  {
   "cell_type": "markdown",
   "metadata": {},
   "source": [
    "Эффективность обогащения рассчитаем по формуле:  \n",
    "\n",
    "***Recovery = (C x (F-T)) / (F x (C-T)) x 100%***  \n",
    "\n",
    "где:  \n",
    "•\tRecovery — эффективность обогащения - train['rougher.output.recovery'];    \n",
    "•\tC — доля золота в концентрате после флотации/очистки - train['rougher.output.concentrate_au'];  \n",
    "•\tF — доля золота в сырье до флотации/очистки - train['rougher.input.feed_au'];  \n",
    "•\tT — доля золота в отвальных хвостах после флотации/очистки - train['rougher.output.tail_au']. "
   ]
  },
  {
   "cell_type": "code",
   "execution_count": 4,
   "metadata": {},
   "outputs": [],
   "source": [
    "# импорт функции МАЕ\n",
    "from sklearn.metrics import mean_absolute_error as mae"
   ]
  },
  {
   "cell_type": "code",
   "execution_count": 5,
   "metadata": {},
   "outputs": [],
   "source": [
    "# добавим столбец со значениями эффективности обогащения, рассчитанными по формуле\n",
    "train['check'] = (train['rougher.output.concentrate_au']*(train['rougher.input.feed_au']-train['rougher.output.tail_au']))/(train['rougher.input.feed_au']*(train['rougher.output.concentrate_au']-train['rougher.output.tail_au']))*100"
   ]
  },
  {
   "cell_type": "code",
   "execution_count": 6,
   "metadata": {},
   "outputs": [],
   "source": [
    "# удалим строки с пропусками значений в столбцах 'check' и 'rougher.output.recovery'\n",
    "train_mae_check = train.dropna(subset=['check','rougher.output.recovery'])"
   ]
  },
  {
   "cell_type": "code",
   "execution_count": 7,
   "metadata": {},
   "outputs": [
    {
     "data": {
      "text/plain": [
       "9.444891926100695e-15"
      ]
     },
     "execution_count": 7,
     "metadata": {},
     "output_type": "execute_result"
    }
   ],
   "source": [
    "# рассчитаем МАЕ (единицы измерения те же, что и эффективности обогащения, - проценты)\n",
    "mae_rougher_output_recovery = mae(train_mae_check['check'],train_mae_check['rougher.output.recovery'])\n",
    "mae_rougher_output_recovery"
   ]
  },
  {
   "cell_type": "code",
   "execution_count": 8,
   "metadata": {},
   "outputs": [],
   "source": [
    "# удалим столбец train['check'], он больше не нужен\n",
    "train = train.drop(columns='check')"
   ]
  },
  {
   "cell_type": "markdown",
   "metadata": {},
   "source": [
    "#### Вывод по проверке правильности расчёта эффективности обогащения.\n",
    "\n",
    "Значение среднего абсолютного отклонения (МАЕ) близко к нулю. Следовательно, расчёт эффективности обогащения в базе данных произведен правильно."
   ]
  },
  {
   "cell_type": "markdown",
   "metadata": {},
   "source": [
    "### 1.3. Признаки, недоступные в тестовой выборке. "
   ]
  },
  {
   "cell_type": "code",
   "execution_count": 9,
   "metadata": {},
   "outputs": [
    {
     "data": {
      "text/plain": [
       "34"
      ]
     },
     "execution_count": 9,
     "metadata": {},
     "output_type": "execute_result"
    }
   ],
   "source": [
    "# количество признаков, отсутствующих в тестовой выборке\n",
    "len(full.columns)-len(test.columns)"
   ]
  },
  {
   "cell_type": "code",
   "execution_count": 10,
   "metadata": {},
   "outputs": [
    {
     "data": {
      "text/plain": [
       "{'final.output.concentrate_ag',\n",
       " 'final.output.concentrate_au',\n",
       " 'final.output.concentrate_pb',\n",
       " 'final.output.concentrate_sol',\n",
       " 'final.output.recovery',\n",
       " 'final.output.tail_ag',\n",
       " 'final.output.tail_au',\n",
       " 'final.output.tail_pb',\n",
       " 'final.output.tail_sol',\n",
       " 'primary_cleaner.output.concentrate_ag',\n",
       " 'primary_cleaner.output.concentrate_au',\n",
       " 'primary_cleaner.output.concentrate_pb',\n",
       " 'primary_cleaner.output.concentrate_sol',\n",
       " 'primary_cleaner.output.tail_ag',\n",
       " 'primary_cleaner.output.tail_au',\n",
       " 'primary_cleaner.output.tail_pb',\n",
       " 'primary_cleaner.output.tail_sol',\n",
       " 'rougher.calculation.au_pb_ratio',\n",
       " 'rougher.calculation.floatbank10_sulfate_to_au_feed',\n",
       " 'rougher.calculation.floatbank11_sulfate_to_au_feed',\n",
       " 'rougher.calculation.sulfate_to_au_concentrate',\n",
       " 'rougher.output.concentrate_ag',\n",
       " 'rougher.output.concentrate_au',\n",
       " 'rougher.output.concentrate_pb',\n",
       " 'rougher.output.concentrate_sol',\n",
       " 'rougher.output.recovery',\n",
       " 'rougher.output.tail_ag',\n",
       " 'rougher.output.tail_au',\n",
       " 'rougher.output.tail_pb',\n",
       " 'rougher.output.tail_sol',\n",
       " 'secondary_cleaner.output.tail_ag',\n",
       " 'secondary_cleaner.output.tail_au',\n",
       " 'secondary_cleaner.output.tail_pb',\n",
       " 'secondary_cleaner.output.tail_sol'}"
      ]
     },
     "execution_count": 10,
     "metadata": {},
     "output_type": "execute_result"
    }
   ],
   "source": [
    "# список признаков, отсутствующих в тестовой выборке\n",
    "set(full.columns)-set(test.columns)"
   ]
  },
  {
   "cell_type": "markdown",
   "metadata": {},
   "source": [
    "#### Вывод по списку признаков, недоступных в тестовой выборке.\n",
    "\n",
    "В тестовой выборке отсутствуют признаки, описывающие параметры продукта и сырья, прошедшего частичную обработку, а также расчётные характеристики применения сульфата натрия как флотационного реагента."
   ]
  },
  {
   "cell_type": "markdown",
   "metadata": {},
   "source": [
    "### 1.4. Предобработка данных. "
   ]
  },
  {
   "cell_type": "markdown",
   "metadata": {},
   "source": [
    "Проведем следующие операции: \n",
    "- поменяем формат object данных о дате и времени получения информации на формат datetime;  \n",
    "- отсортируем данные по возрастанию даты и  времени получения информации;   \n",
    "- скопируем значения целевых признаков из полного датасета в тестовую выборку;    \n",
    "- удалим строки с пропущенными значениями целевых признаков (rougher.output.recovery и final.output.recovery);  \n",
    "- заполним пропуски нецелевых признаков ближайшими значениями методом ffill (forward fill); метод ffill может быть использован, т.к. по условиям задания соседние по времени параметры часто похожи.  "
   ]
  },
  {
   "cell_type": "code",
   "execution_count": 11,
   "metadata": {},
   "outputs": [],
   "source": [
    "# перевод данных даты/времени получения информации из формата object в формат datetime\n",
    "train['date'] = pd.to_datetime(train['date'])\n",
    "test['date'] = pd.to_datetime(test['date'])\n",
    "full['date'] = pd.to_datetime(full['date'])"
   ]
  },
  {
   "cell_type": "code",
   "execution_count": 12,
   "metadata": {},
   "outputs": [],
   "source": [
    "# сортировка данных по возрастанию даты и времени получения информации\n",
    "train = train.sort_values(by = ['date'])\n",
    "test = test.sort_values(by = ['date'])\n",
    "full = full.sort_values(by = ['date'])"
   ]
  },
  {
   "cell_type": "code",
   "execution_count": 13,
   "metadata": {},
   "outputs": [],
   "source": [
    "# копирование значений целевых признаков из полного датасета в тестовую выборку\n",
    "\n",
    "# чтобы обеспечить корректный перенос данных, произведем переиндексацию таблицы 'full'\n",
    "full = full.set_index(['date'])\n",
    "\n",
    "# добавим значения целевых признаков в таблицу 'test'\n",
    "test = test.join(full['rougher.output.recovery'], on='date')\n",
    "test = test.join(full['final.output.recovery'], on='date')"
   ]
  },
  {
   "cell_type": "code",
   "execution_count": 14,
   "metadata": {},
   "outputs": [],
   "source": [
    "# удаление строк с пропущенными значениями целевых признаков\n",
    "train = train.dropna(subset=['rougher.output.recovery','final.output.recovery'])\n",
    "test = test.dropna(subset=['rougher.output.recovery','final.output.recovery'])\n",
    "full = full.dropna(subset=['rougher.output.recovery','final.output.recovery'])"
   ]
  },
  {
   "cell_type": "code",
   "execution_count": 15,
   "metadata": {},
   "outputs": [
    {
     "name": "stdout",
     "output_type": "stream",
     "text": [
      "Обучающая выборка: 14149\n",
      "Тестовая выборка: 5290\n",
      "Полный датасет: 19439\n"
     ]
    }
   ],
   "source": [
    "# проверим, сколько наблюдений осталось в каждом датасете\n",
    "print('Обучающая выборка:', len(train))\n",
    "print('Тестовая выборка:', len(test))\n",
    "print('Полный датасет:', len(full))"
   ]
  },
  {
   "cell_type": "code",
   "execution_count": 16,
   "metadata": {},
   "outputs": [],
   "source": [
    "# заполнение пропусков нецелевых признаков ближайшими значениями\n",
    "train = train.fillna(method='ffill')\n",
    "test = test.fillna(method='ffill')\n",
    "full = full.fillna(method='ffill')"
   ]
  },
  {
   "cell_type": "markdown",
   "metadata": {},
   "source": [
    "#### Вывод по предобработке данных.\n",
    "В результате удаления строк с пропущенными значениями целевых признаков было потеряно 14% наблюдений в обучающем и полном датасетах и 10% в тестовой выборке. Это значительное количество, но вопрос заполнения этих пропусков и есть задача разрабатываемой модели.  \n",
    "Теперь данные готовы к работе."
   ]
  },
  {
   "cell_type": "markdown",
   "metadata": {},
   "source": [
    "### 2. Анализ технологических данных."
   ]
  },
  {
   "cell_type": "markdown",
   "metadata": {},
   "source": [
    "### 2.1. Концентрации металлов (Au, Ag, Pb) на различных этапах очистки. "
   ]
  },
  {
   "cell_type": "markdown",
   "metadata": {},
   "source": [
    "Найдем среднюю концентрацию каждого металла на различных этапах очистки."
   ]
  },
  {
   "cell_type": "code",
   "execution_count": 17,
   "metadata": {},
   "outputs": [],
   "source": [
    "# заготовка таблицы концентрации металлов на различных этапах очистки\n",
    "columns = ['metal','rougher','primary_cleaner','final']\n",
    "data = []"
   ]
  },
  {
   "cell_type": "code",
   "execution_count": 18,
   "metadata": {},
   "outputs": [],
   "source": [
    "# расчёт концентрации металлов на различных этапах очистки\n",
    "for metal in ['au','ag','pb']:\n",
    "    rougher = ''.join(['rougher.output.concentrate_',metal])\n",
    "    cleaner = ''.join(['primary_cleaner.output.concentrate_',metal])\n",
    "    final = ''.join(['final.output.concentrate_',metal])\n",
    "    r = full[rougher].mean().round(2)\n",
    "    c = full[cleaner].mean().round(2)\n",
    "    f = full[final].mean().round(2)\n",
    "    data.append([metal,r,c,f])"
   ]
  },
  {
   "cell_type": "code",
   "execution_count": 19,
   "metadata": {},
   "outputs": [
    {
     "data": {
      "text/html": [
       "<div>\n",
       "<style scoped>\n",
       "    .dataframe tbody tr th:only-of-type {\n",
       "        vertical-align: middle;\n",
       "    }\n",
       "\n",
       "    .dataframe tbody tr th {\n",
       "        vertical-align: top;\n",
       "    }\n",
       "\n",
       "    .dataframe thead th {\n",
       "        text-align: right;\n",
       "    }\n",
       "</style>\n",
       "<table border=\"1\" class=\"dataframe\">\n",
       "  <thead>\n",
       "    <tr style=\"text-align: right;\">\n",
       "      <th></th>\n",
       "      <th>rougher</th>\n",
       "      <th>primary_cleaner</th>\n",
       "      <th>final</th>\n",
       "    </tr>\n",
       "    <tr>\n",
       "      <th>metal</th>\n",
       "      <th></th>\n",
       "      <th></th>\n",
       "      <th></th>\n",
       "    </tr>\n",
       "  </thead>\n",
       "  <tbody>\n",
       "    <tr>\n",
       "      <td>au</td>\n",
       "      <td>19.77</td>\n",
       "      <td>32.12</td>\n",
       "      <td>44.08</td>\n",
       "    </tr>\n",
       "    <tr>\n",
       "      <td>ag</td>\n",
       "      <td>11.99</td>\n",
       "      <td>8.44</td>\n",
       "      <td>5.17</td>\n",
       "    </tr>\n",
       "    <tr>\n",
       "      <td>pb</td>\n",
       "      <td>7.61</td>\n",
       "      <td>9.81</td>\n",
       "      <td>9.98</td>\n",
       "    </tr>\n",
       "  </tbody>\n",
       "</table>\n",
       "</div>"
      ],
      "text/plain": [
       "       rougher  primary_cleaner  final\n",
       "metal                                 \n",
       "au       19.77            32.12  44.08\n",
       "ag       11.99             8.44   5.17\n",
       "pb        7.61             9.81   9.98"
      ]
     },
     "execution_count": 19,
     "metadata": {},
     "output_type": "execute_result"
    }
   ],
   "source": [
    "# вывод таблицы концентрации металлов на различных этапах очистки\n",
    "conc = pd.DataFrame(columns=columns, data=data).set_index(['metal'])\n",
    "conc"
   ]
  },
  {
   "cell_type": "code",
   "execution_count": 20,
   "metadata": {},
   "outputs": [
    {
     "data": {
      "text/plain": [
       "<matplotlib.axes._subplots.AxesSubplot at 0x7f37231cfd10>"
      ]
     },
     "execution_count": 20,
     "metadata": {},
     "output_type": "execute_result"
    },
    {
     "data": {
      "image/png": "[encoded data removed]",
      "text/plain": [
       "<Figure size 432x288 with 1 Axes>"
      ]
     },
     "metadata": {
      "needs_background": "light"
     },
     "output_type": "display_data"
    }
   ],
   "source": [
    "# гистограммы концентрации металлов на различных этапах очистки\n",
    "conc.plot.bar(grid=True, rot=0)"
   ]
  },
  {
   "cell_type": "markdown",
   "metadata": {},
   "source": [
    "#### Вывод по концентрации металлов на различных этапах очистки.\n",
    "Ожидаемо концентрация золота растет. Концентрация свинца тоже увеличивается, но не значительно, а концентрация серебра падает."
   ]
  },
  {
   "cell_type": "markdown",
   "metadata": {},
   "source": [
    "### 2.2. Сравнение распределения размеров гранул сырья на обучающей и тестовой выборках."
   ]
  },
  {
   "cell_type": "code",
   "execution_count": 21,
   "metadata": {},
   "outputs": [],
   "source": [
    "# импорт библиотеки matplotlib\n",
    "import matplotlib.pyplot as plt"
   ]
  },
  {
   "cell_type": "code",
   "execution_count": 22,
   "metadata": {},
   "outputs": [
    {
     "data": {
      "text/plain": [
       "count    14149.000000\n",
       "mean        60.239856\n",
       "std         23.005310\n",
       "min          9.659576\n",
       "25%         48.966751\n",
       "50%         55.269784\n",
       "75%         66.007526\n",
       "max        484.967466\n",
       "Name: rougher.input.feed_size, dtype: float64"
      ]
     },
     "execution_count": 22,
     "metadata": {},
     "output_type": "execute_result"
    }
   ],
   "source": [
    "# числовое описание обучающей выборки\n",
    "train['rougher.input.feed_size'].describe()"
   ]
  },
  {
   "cell_type": "code",
   "execution_count": 23,
   "metadata": {},
   "outputs": [
    {
     "data": {
      "image/png": "[encoded data removed]",
      "text/plain": [
       "<Figure size 432x288 with 1 Axes>"
      ]
     },
     "metadata": {
      "needs_background": "light"
     },
     "output_type": "display_data"
    }
   ],
   "source": [
    "# диаграмма размаха обучающей выборки\n",
    "train.boxplot(['rougher.input.feed_size'])\n",
    "plt.show()"
   ]
  },
  {
   "cell_type": "code",
   "execution_count": 24,
   "metadata": {},
   "outputs": [
    {
     "data": {
      "text/plain": [
       "count    5290.000000\n",
       "mean       55.952754\n",
       "std        19.080334\n",
       "min         0.046369\n",
       "25%        43.906504\n",
       "50%        50.846843\n",
       "75%        62.451165\n",
       "max       392.494040\n",
       "Name: rougher.input.feed_size, dtype: float64"
      ]
     },
     "execution_count": 24,
     "metadata": {},
     "output_type": "execute_result"
    }
   ],
   "source": [
    "# числовое описание тестовой выборки\n",
    "test['rougher.input.feed_size'].describe()"
   ]
  },
  {
   "cell_type": "code",
   "execution_count": 25,
   "metadata": {},
   "outputs": [
    {
     "data": {
      "image/png": "[encoded data removed]",
      "text/plain": [
       "<Figure size 432x288 with 1 Axes>"
      ]
     },
     "metadata": {
      "needs_background": "light"
     },
     "output_type": "display_data"
    }
   ],
   "source": [
    "# диаграмма размаха тестовой выборки\n",
    "test.boxplot(['rougher.input.feed_size'])\n",
    "plt.show()"
   ]
  },
  {
   "cell_type": "code",
   "execution_count": 26,
   "metadata": {},
   "outputs": [
    {
     "data": {
      "text/plain": [
       "<matplotlib.axes._subplots.AxesSubplot at 0x7f37169aabd0>"
      ]
     },
     "execution_count": 26,
     "metadata": {},
     "output_type": "execute_result"
    },
    {
     "data": {
      "image/png": "[encoded data removed]",
      "text/plain": [
       "<Figure size 720x360 with 1 Axes>"
      ]
     },
     "metadata": {
      "needs_background": "light"
     },
     "output_type": "display_data"
    }
   ],
   "source": [
    "# сравнение гистограмм\n",
    "train['rougher.input.feed_size'].plot(kind='hist', y='rougher.input.feed_size', histtype='step', bins=200, linewidth=3, alpha=1, label='training_data', legend=True)\n",
    "test['rougher.input.feed_size'].plot(kind='hist', y='rougher.input.feed_size', histtype='step', bins=200, linewidth=3, alpha=1, label='test_data', legend=True, grid=True, figsize=(10,5))"
   ]
  },
  {
   "cell_type": "markdown",
   "metadata": {},
   "source": [
    "На диаграммах размаха заметно значительное количество аномальных значений (выбросов). Удалим их и построим гистограммы на нормализованных данных. Аномальными будем считать значения меньше 25%-квартиля минус (k x IQR) и больше 75%-квартиля плюс (k x IQR), где IQR - межквартильный интервал, а k - коэффициент."
   ]
  },
  {
   "cell_type": "code",
   "execution_count": 27,
   "metadata": {},
   "outputs": [],
   "source": [
    "# вычислим пределы нормальных значений гранул сырья (в полном датасете), чтобы удалить выбросы\n",
    "k_s = 1.5 # коэффициент IQR\n",
    "q1_s = full['rougher.input.feed_size'].quantile(0.25) # квартиль 25%\n",
    "q3_s = full['rougher.input.feed_size'].quantile(0.75) # квартиль 75%\n",
    "iqr_s = q3_s - q1_s # межквартильный интервал\n",
    "low_s = q1_s - k_s*iqr_s # минимальное нормальное значение\n",
    "high_s = q3_s + k_s*iqr_s # максимальное нормальное значение"
   ]
  },
  {
   "cell_type": "code",
   "execution_count": 28,
   "metadata": {},
   "outputs": [],
   "source": [
    "# чтобы проконтролировать количество удаленных наблюдений (выбросов) сохраним оригинальное количество\n",
    "# наблюдений в каждой выборке\n",
    "len_train2 = len(train)\n",
    "len_test2 = len(test)\n",
    "len_full2 = len(full)"
   ]
  },
  {
   "cell_type": "code",
   "execution_count": 29,
   "metadata": {},
   "outputs": [],
   "source": [
    "# удалим выбросы из всех трех датасетов\n",
    "train = train[(train['rougher.input.feed_size']>=low_s) & (train['rougher.input.feed_size']<=high_s)]\n",
    "test = test[(test['rougher.input.feed_size']>=low_s) & (test['rougher.input.feed_size']<=high_s)]\n",
    "full = full[(full['rougher.input.feed_size']>=low_s) & (full['rougher.input.feed_size']<=high_s)]"
   ]
  },
  {
   "cell_type": "code",
   "execution_count": 30,
   "metadata": {},
   "outputs": [
    {
     "name": "stdout",
     "output_type": "stream",
     "text": [
      "Обучающая выборка: 13671    удалено 3 %\n",
      "Тестовая выборка: 5122    удалено 3 %\n",
      "Полный датасет: 18793    удалено 3 %\n"
     ]
    }
   ],
   "source": [
    "# проверим, сколько наблюдений осталось в каждом датасете, и процент аномальных (удаленных) данных\n",
    "print('Обучающая выборка:', len(train), '   удалено', int((1-len(train)/len_train2)*100), '%')\n",
    "print('Тестовая выборка:', len(test), '   удалено', int((1-len(test)/len_test2)*100), '%')\n",
    "print('Полный датасет:', len(full), '   удалено', int((1-len(full)/len_full2)*100), '%')"
   ]
  },
  {
   "cell_type": "code",
   "execution_count": 31,
   "metadata": {},
   "outputs": [],
   "source": [
    "import scipy.stats as st"
   ]
  },
  {
   "cell_type": "code",
   "execution_count": 32,
   "metadata": {},
   "outputs": [
    {
     "name": "stdout",
     "output_type": "stream",
     "text": [
      "Обучающая выборка: (57.33999261661179, 57.73964291864015)\n",
      "Тестовая выборка: (53.5918633922028, 54.261198866998896)\n"
     ]
    }
   ],
   "source": [
    "# 95% доверительные интервалы\n",
    "ci_train = st.t.interval(0.95, len(train['rougher.input.feed_size'])-1,loc=train['rougher.input.feed_size'].mean(), scale=train['rougher.input.feed_size'].sem())\n",
    "ci_test = st.t.interval(0.95, len(test['rougher.input.feed_size'])-1,loc=test['rougher.input.feed_size'].mean(), scale=test['rougher.input.feed_size'].sem())\n",
    "print('Обучающая выборка:', ci_train)\n",
    "print('Тестовая выборка:', ci_test)"
   ]
  },
  {
   "cell_type": "code",
   "execution_count": 33,
   "metadata": {},
   "outputs": [
    {
     "data": {
      "text/plain": [
       "<matplotlib.axes._subplots.AxesSubplot at 0x7f37168f5ed0>"
      ]
     },
     "execution_count": 33,
     "metadata": {},
     "output_type": "execute_result"
    },
    {
     "data": {
      "image/png": "[encoded data removed]",
      "text/plain": [
       "<Figure size 720x360 with 1 Axes>"
      ]
     },
     "metadata": {
      "needs_background": "light"
     },
     "output_type": "display_data"
    }
   ],
   "source": [
    "train['rougher.input.feed_size'].plot(kind='hist', y='rougher.input.feed_size', histtype='step', bins=200, linewidth=3, alpha=1, label='training_data', legend=True)\n",
    "test['rougher.input.feed_size'].plot(kind='hist', y='rougher.input.feed_size', histtype='step', bins=200, linewidth=3, alpha=1, label='test_data', legend=True, grid=True, figsize=(10,5))"
   ]
  },
  {
   "cell_type": "markdown",
   "metadata": {},
   "source": [
    "#### Вывод по сравнению распределения размеров гранул сырья на обучающей и тестовой выборках.\n",
    "Судя по числовому описанию распределение на обучающей и тестовой выборках различается незначительно. Но 95% доверительные интервалы смещены и заметно значительное различие гистограмм в районе наиболее частых значений. Можно ожидать, что модель будет работать неточно."
   ]
  },
  {
   "cell_type": "markdown",
   "metadata": {},
   "source": [
    "### 2.3. Суммарная концентрация всех веществ на разных стадиях."
   ]
  },
  {
   "cell_type": "markdown",
   "metadata": {},
   "source": [
    "Исследуем суммарную концентрацию всех веществ на разных стадиях: в сырье, в черновом и финальном концентратах. Удалим аномалии. Аномальными будем считать значения меньше 25%-квартиля минус (k x IQR) и больше 75%-квартиля плюс (k x IQR), где IQR - межквартильный интервал, а k - коэффициент. "
   ]
  },
  {
   "cell_type": "code",
   "execution_count": 34,
   "metadata": {},
   "outputs": [],
   "source": [
    "# коэффициент IQR\n",
    "k = 1.5"
   ]
  },
  {
   "cell_type": "code",
   "execution_count": 35,
   "metadata": {},
   "outputs": [],
   "source": [
    "# чтобы проконтролировать количество удаленной информации (аномальных данных о концентрации) сохраним оригинальное количество\n",
    "# наблюдений в каждой выборке\n",
    "len_train1 = len(train)\n",
    "len_test1 = len(test)\n",
    "len_full1 = len(full)"
   ]
  },
  {
   "cell_type": "code",
   "execution_count": 36,
   "metadata": {},
   "outputs": [
    {
     "data": {
      "text/plain": [
       "Index(['final.output.concentrate_ag', 'final.output.concentrate_pb',\n",
       "       'final.output.concentrate_sol', 'final.output.concentrate_au',\n",
       "       'primary_cleaner.output.concentrate_ag',\n",
       "       'primary_cleaner.output.concentrate_pb',\n",
       "       'primary_cleaner.output.concentrate_sol',\n",
       "       'primary_cleaner.output.concentrate_au',\n",
       "       'rougher.calculation.sulfate_to_au_concentrate',\n",
       "       'rougher.output.concentrate_ag', 'rougher.output.concentrate_pb',\n",
       "       'rougher.output.concentrate_sol', 'rougher.output.concentrate_au'],\n",
       "      dtype='object')"
      ]
     },
     "execution_count": 36,
     "metadata": {},
     "output_type": "execute_result"
    }
   ],
   "source": [
    "# список столбцов, содержащих данные о концентрации\n",
    "full.columns[full.columns.str.contains('concentrate')]"
   ]
  },
  {
   "cell_type": "code",
   "execution_count": 37,
   "metadata": {},
   "outputs": [],
   "source": [
    "# добавим столбцы значений суммарной концентрации всех веществ на каждой стадии:\n",
    "# rougher_conc_sum, cleaner_conc_sum, final_conc_sum\n",
    "full['rougher_conc_sum'] = full['rougher.output.concentrate_ag'] + full['rougher.output.concentrate_pb'] + full['rougher.output.concentrate_au']+ full['rougher.output.concentrate_sol']\n",
    "full['primary_cleaner_conc_sum'] = full['primary_cleaner.output.concentrate_ag'] + full['primary_cleaner.output.concentrate_pb'] + full['primary_cleaner.output.concentrate_au'] + full['primary_cleaner.output.concentrate_sol']\n",
    "full['final_conc_sum'] = full['final.output.concentrate_ag'] + full['final.output.concentrate_pb'] + full['final.output.concentrate_au'] + full['final.output.concentrate_sol']               "
   ]
  },
  {
   "cell_type": "code",
   "execution_count": 38,
   "metadata": {},
   "outputs": [],
   "source": [
    "# вычислим пределы нормальных значений суммарной концентрации на каждой стадии\n",
    "# и удалим аномальные наблюдения из полного датасета\n",
    "for step in ['rougher','primary_cleaner','final']:\n",
    "    column = ''.join([step,'_conc_sum'])\n",
    "    q1 = full[column].quantile(0.25) # квартиль 25%\n",
    "    q3 = full[column].quantile(0.75) # квартиль 75%\n",
    "    iqr = q3 - q1 # межквартильный интервал\n",
    "    low = q1 - k*iqr # минимальное нормальное значение\n",
    "    high = q3 + k*iqr # максимальное нормальное значение\n",
    "    full = full[(full[column]>=low) & (full[column]<=high)] # полный датасет за исключением аномальных значений   "
   ]
  },
  {
   "cell_type": "code",
   "execution_count": 39,
   "metadata": {},
   "outputs": [],
   "source": [
    "# переиндексируем обучающую и тестовую выборки по дате/времени\n",
    "train = train.set_index(['date'])\n",
    "test = test.set_index(['date'])"
   ]
  },
  {
   "cell_type": "code",
   "execution_count": 40,
   "metadata": {},
   "outputs": [],
   "source": [
    "# создадим списки индексов наблюдений с нормальными значениями концентрации\n",
    "train_norm_index = set(train.index) & set(full.index) # обучающая выборка\n",
    "test_norm_index = set(test.index) & set(full.index) # тестовая выборка"
   ]
  },
  {
   "cell_type": "code",
   "execution_count": 41,
   "metadata": {},
   "outputs": [],
   "source": [
    "# удалим аномальные наблюдения из обучающей и тестовой выборок\n",
    "train = train.loc[train_norm_index]\n",
    "test = test.loc[test_norm_index]"
   ]
  },
  {
   "cell_type": "code",
   "execution_count": 42,
   "metadata": {},
   "outputs": [
    {
     "name": "stdout",
     "output_type": "stream",
     "text": [
      "Обучающая выборка: 11507    удалено 15 %\n",
      "Тестовая выборка: 4569    удалено 10 %\n",
      "Полный датасет: 16076    удалено 14 %\n"
     ]
    }
   ],
   "source": [
    "# проверим, сколько наблюдений осталось в каждом датасете, и процент аномальных (удаленных) данных\n",
    "print('Обучающая выборка:', len(train), '   удалено', int((1-len(train)/len_train1)*100), '%')\n",
    "print('Тестовая выборка:', len(test), '   удалено', int((1-len(test)/len_test1)*100), '%')\n",
    "print('Полный датасет:', len(full), '   удалено', int((1-len(full)/len_full1)*100), '%')"
   ]
  },
  {
   "cell_type": "markdown",
   "metadata": {},
   "source": [
    "#### Вывод по исследованию суммарной концентрации металлов на разных стадиях.\n",
    "Было обнаружено, что 14% наблюдений содержат аномально высокие значения суммарной концентрации металлов. За пределы нормальной концентрации были приняты значения 25%-квартиля минус межквартильный интервал c коэффициентом 1.5 (1.5хIQR) и 75%-квартиль плюс 1.5хIQR. Возможной причиной может быть ошибочное определение концентрации веществ либо случайный вброс нестандартного сырья.   \n",
    "Наблюдения с аномальными значениями были исключены из обучающей и тестовой выборок.  \n",
    "\n",
    "*Примечание:  \n",
    "На первый взгляд представляется неправильным удалять аномальные значения из тестовой выборки.  \n",
    "Но само понятие \"аномалия\" подразумевает нестандартность и исключительность данных. Такие данные не должны использоваться для теста модели.  \n",
    "Если же считать, что в реальном тестовом наборе данных будут присутствовать такие значения, тогда не следует удалять их из обучающей выборки, дабы модель \"знала\" о их существовании и могла корректно обучиться. В этом случае будет неправильно называть такие данные \"аномальными\".* "
   ]
  },
  {
   "cell_type": "markdown",
   "metadata": {},
   "source": [
    "### 3. Модель."
   ]
  },
  {
   "cell_type": "markdown",
   "metadata": {},
   "source": [
    "### 3.1. Функция для вычисления sMAPE."
   ]
  },
  {
   "cell_type": "code",
   "execution_count": 43,
   "metadata": {},
   "outputs": [],
   "source": [
    "def smape_function (targ, pred):\n",
    "    return sum(abs(targ-pred)/((abs(targ)+abs(pred))/2))/len(targ)*100"
   ]
  },
  {
   "cell_type": "code",
   "execution_count": 44,
   "metadata": {},
   "outputs": [],
   "source": [
    "# итоговая sMAPE\n",
    "def rsmape_function(smape1, smape2):\n",
    "    return 0.25*smape1+0.75*smape2"
   ]
  },
  {
   "cell_type": "code",
   "execution_count": 45,
   "metadata": {},
   "outputs": [],
   "source": [
    "# подготовим функцию smape для использования в качестве метрики при кросс-валидации\n",
    "from sklearn.metrics import make_scorer\n",
    "smape_score = make_scorer(smape_function)"
   ]
  },
  {
   "cell_type": "markdown",
   "metadata": {},
   "source": [
    "### 3.2. Выбор модели."
   ]
  },
  {
   "cell_type": "code",
   "execution_count": 46,
   "metadata": {},
   "outputs": [],
   "source": [
    "# список признаков, присутствующих в обучающей, но отсутствующих в тестовой выборке\n",
    "extra_features = set(train.columns)-set(test.columns)"
   ]
  },
  {
   "cell_type": "code",
   "execution_count": 47,
   "metadata": {},
   "outputs": [],
   "source": [
    "# удалим extra_features из обучающей выборки\n",
    "train = train.drop(columns = extra_features)"
   ]
  },
  {
   "cell_type": "code",
   "execution_count": 48,
   "metadata": {},
   "outputs": [],
   "source": [
    "# импорт функции масштабирования\n",
    "from sklearn.preprocessing import StandardScaler\n",
    "scaler = StandardScaler()"
   ]
  },
  {
   "cell_type": "code",
   "execution_count": 49,
   "metadata": {},
   "outputs": [],
   "source": [
    "# список признаков, которые будем масштабировать\n",
    "numeric = list(set(train.columns) - set(['rougher.output.recovery', 'final.output.recovery']))"
   ]
  },
  {
   "cell_type": "code",
   "execution_count": 50,
   "metadata": {},
   "outputs": [
    {
     "data": {
      "text/plain": [
       "StandardScaler(copy=True, with_mean=True, with_std=True)"
      ]
     },
     "execution_count": 50,
     "metadata": {},
     "output_type": "execute_result"
    }
   ],
   "source": [
    "# настраиваем scaler по обучающей выборке\n",
    "scaler.fit(train[numeric])"
   ]
  },
  {
   "cell_type": "code",
   "execution_count": 51,
   "metadata": {},
   "outputs": [],
   "source": [
    "# применяем scaler к обучающей выборке\n",
    "# правильнее было бы применить scaler отдельно к валидационной выборке и к непосредственно обучающей, но это невозможно,\n",
    "# т.к. выделение валидационной выборки из обучающей будет проходить автоматически при выполнении функции cross_val_score\n",
    "train[numeric] = scaler.transform(train[numeric])"
   ]
  },
  {
   "cell_type": "code",
   "execution_count": 52,
   "metadata": {},
   "outputs": [],
   "source": [
    "# переменные для признаков и целевого признака rougher.output.recovery \n",
    "# (это только те признаки, которые участвуют в технологическом процессе до и во время прохождения флотации)\n",
    "features1_list = train.columns[train.columns.str.contains('rougher.')]\n",
    "features1 = train[features1_list].drop(columns='rougher.output.recovery')\n",
    "target1 = train['rougher.output.recovery']"
   ]
  },
  {
   "cell_type": "code",
   "execution_count": 53,
   "metadata": {},
   "outputs": [],
   "source": [
    "# переменные для признаков и целевого признака final.output.recovery\n",
    "# (должны учитываться все признаки, т.к. все они влияют на эффективность степени обогащения конечного продукта)\n",
    "features2 = train[numeric]\n",
    "target2 = train['final.output.recovery']"
   ]
  },
  {
   "cell_type": "code",
   "execution_count": 54,
   "metadata": {},
   "outputs": [],
   "source": [
    "# заготовка таблицы результатов исследования моделей\n",
    "columns_mod = ['method', 'n_estimators', 'depth', 'rougher_output_smape', 'final_output_smape', 'resulting_smape']\n",
    "data_mod=[]"
   ]
  },
  {
   "cell_type": "code",
   "execution_count": 55,
   "metadata": {},
   "outputs": [],
   "source": [
    "# импорт необходимых функций\n",
    "from sklearn.linear_model import LinearRegression\n",
    "from sklearn.tree import DecisionTreeRegressor\n",
    "from sklearn.ensemble import RandomForestRegressor\n",
    "from sklearn.model_selection import cross_val_score"
   ]
  },
  {
   "cell_type": "code",
   "execution_count": 56,
   "metadata": {},
   "outputs": [],
   "source": [
    "# модель линейная регрессия\n",
    "\n",
    "# создание модели\n",
    "model1_lr = LinearRegression() # для rougher.output.recovery\n",
    "model2_lr = LinearRegression() # для final.output.recovery\n",
    "\n",
    "# расчет значения метрики\n",
    "scores1_lr = cross_val_score(model1_lr, features1, target1, scoring=smape_score, cv=10)\n",
    "smape1_lr = scores1_lr.mean() # для rougher.output.recovery\n",
    "scores2_lr = cross_val_score(model2_lr, features2, target2, scoring=smape_score, cv=10)\n",
    "smape2_lr = scores2_lr.mean() # для final.output.recovery\n",
    "rsmape_lr = rsmape_function(smape1_lr, smape2_lr) # итоговая метрика\n",
    "\n",
    "# добавление строки в таблицу сравнения моделей\n",
    "data_mod.append(['linear_regression',np.nan, np.nan, smape1_lr, smape2_lr, rsmape_lr])"
   ]
  },
  {
   "cell_type": "code",
   "execution_count": 57,
   "metadata": {},
   "outputs": [
    {
     "data": {
      "text/html": [
       "<div>\n",
       "<style scoped>\n",
       "    .dataframe tbody tr th:only-of-type {\n",
       "        vertical-align: middle;\n",
       "    }\n",
       "\n",
       "    .dataframe tbody tr th {\n",
       "        vertical-align: top;\n",
       "    }\n",
       "\n",
       "    .dataframe thead th {\n",
       "        text-align: right;\n",
       "    }\n",
       "</style>\n",
       "<table border=\"1\" class=\"dataframe\">\n",
       "  <thead>\n",
       "    <tr style=\"text-align: right;\">\n",
       "      <th></th>\n",
       "      <th>method</th>\n",
       "      <th>n_estimators</th>\n",
       "      <th>depth</th>\n",
       "      <th>rougher_output_smape</th>\n",
       "      <th>final_output_smape</th>\n",
       "      <th>resulting_smape</th>\n",
       "    </tr>\n",
       "  </thead>\n",
       "  <tbody>\n",
       "    <tr>\n",
       "      <td>0</td>\n",
       "      <td>linear_regression</td>\n",
       "      <td>NaN</td>\n",
       "      <td>NaN</td>\n",
       "      <td>4.704702</td>\n",
       "      <td>7.103468</td>\n",
       "      <td>6.503776</td>\n",
       "    </tr>\n",
       "  </tbody>\n",
       "</table>\n",
       "</div>"
      ],
      "text/plain": [
       "              method  n_estimators  depth  rougher_output_smape  \\\n",
       "0  linear_regression           NaN    NaN              4.704702   \n",
       "\n",
       "   final_output_smape  resulting_smape  \n",
       "0            7.103468         6.503776  "
      ]
     },
     "execution_count": 57,
     "metadata": {},
     "output_type": "execute_result"
    }
   ],
   "source": [
    "# вывод результата работы линейной регрессии\n",
    "summary_mod = pd.DataFrame(data=data_mod, columns=columns_mod)\n",
    "summary_mod"
   ]
  },
  {
   "cell_type": "code",
   "execution_count": 58,
   "metadata": {},
   "outputs": [],
   "source": [
    "# модель \"решающее дерево\" (oграничим глубину дерева)\n",
    "\n",
    "for md_t in range (6,11,2):\n",
    "    \n",
    "    # создание и обучение модели\n",
    "    model1_t = DecisionTreeRegressor(random_state=12345, max_depth=md_t) # для rougher.output.recovery\n",
    "    model2_t = DecisionTreeRegressor(random_state=12345, max_depth=md_t) # для final.output.recovery\n",
    "\n",
    "    # расчет значения метрики\n",
    "    scores1_t = cross_val_score(model1_t, features1, target1, scoring=smape_score, cv=10)\n",
    "    smape1_t = scores1_t.mean() # для rougher.output.recovery\n",
    "    scores2_t = cross_val_score(model2_t, features2, target2, scoring=smape_score, cv=10)\n",
    "    smape2_t = scores2_t.mean() # для final.output.recovery\n",
    "    rsmape_t = rsmape_function(smape1_t, smape2_t) # итоговая метрика\n",
    "\n",
    "    # добавление строк в таблицу сравнения моделей\n",
    "    data_mod.append(['decision_tree',np.nan, md_t, smape1_t, smape2_t, rsmape_t])"
   ]
  },
  {
   "cell_type": "code",
   "execution_count": 59,
   "metadata": {},
   "outputs": [
    {
     "data": {
      "text/html": [
       "<div>\n",
       "<style scoped>\n",
       "    .dataframe tbody tr th:only-of-type {\n",
       "        vertical-align: middle;\n",
       "    }\n",
       "\n",
       "    .dataframe tbody tr th {\n",
       "        vertical-align: top;\n",
       "    }\n",
       "\n",
       "    .dataframe thead th {\n",
       "        text-align: right;\n",
       "    }\n",
       "</style>\n",
       "<table border=\"1\" class=\"dataframe\">\n",
       "  <thead>\n",
       "    <tr style=\"text-align: right;\">\n",
       "      <th></th>\n",
       "      <th>method</th>\n",
       "      <th>n_estimators</th>\n",
       "      <th>depth</th>\n",
       "      <th>rougher_output_smape</th>\n",
       "      <th>final_output_smape</th>\n",
       "      <th>resulting_smape</th>\n",
       "    </tr>\n",
       "  </thead>\n",
       "  <tbody>\n",
       "    <tr>\n",
       "      <td>0</td>\n",
       "      <td>linear_regression</td>\n",
       "      <td>NaN</td>\n",
       "      <td>NaN</td>\n",
       "      <td>4.704702</td>\n",
       "      <td>7.103468</td>\n",
       "      <td>6.503776</td>\n",
       "    </tr>\n",
       "    <tr>\n",
       "      <td>1</td>\n",
       "      <td>decision_tree</td>\n",
       "      <td>NaN</td>\n",
       "      <td>6.0</td>\n",
       "      <td>3.861998</td>\n",
       "      <td>6.732230</td>\n",
       "      <td>6.014672</td>\n",
       "    </tr>\n",
       "    <tr>\n",
       "      <td>2</td>\n",
       "      <td>decision_tree</td>\n",
       "      <td>NaN</td>\n",
       "      <td>8.0</td>\n",
       "      <td>3.426871</td>\n",
       "      <td>6.455891</td>\n",
       "      <td>5.698636</td>\n",
       "    </tr>\n",
       "    <tr>\n",
       "      <td>3</td>\n",
       "      <td>decision_tree</td>\n",
       "      <td>NaN</td>\n",
       "      <td>10.0</td>\n",
       "      <td>3.139133</td>\n",
       "      <td>6.359250</td>\n",
       "      <td>5.554221</td>\n",
       "    </tr>\n",
       "  </tbody>\n",
       "</table>\n",
       "</div>"
      ],
      "text/plain": [
       "              method  n_estimators  depth  rougher_output_smape  \\\n",
       "0  linear_regression           NaN    NaN              4.704702   \n",
       "1      decision_tree           NaN    6.0              3.861998   \n",
       "2      decision_tree           NaN    8.0              3.426871   \n",
       "3      decision_tree           NaN   10.0              3.139133   \n",
       "\n",
       "   final_output_smape  resulting_smape  \n",
       "0            7.103468         6.503776  \n",
       "1            6.732230         6.014672  \n",
       "2            6.455891         5.698636  \n",
       "3            6.359250         5.554221  "
      ]
     },
     "execution_count": 59,
     "metadata": {},
     "output_type": "execute_result"
    }
   ],
   "source": [
    "# вывод таблицы сравнения моделей линейной регрессии и дерева решений\n",
    "summary_mod = pd.DataFrame(data=data_mod, columns=columns_mod)\n",
    "summary_mod"
   ]
  },
  {
   "cell_type": "code",
   "execution_count": 60,
   "metadata": {},
   "outputs": [
    {
     "data": {
      "text/plain": [
       "10"
      ]
     },
     "execution_count": 60,
     "metadata": {},
     "output_type": "execute_result"
    }
   ],
   "source": [
    "# выбор глубины лучшего решающего дерева\n",
    "tree = summary_mod.query('method==\"decision_tree\"')\n",
    "md_f = int(tree.loc[(tree['resulting_smape']== tree['resulting_smape'].min()),'depth'])\n",
    "md_f"
   ]
  },
  {
   "cell_type": "code",
   "execution_count": 61,
   "metadata": {},
   "outputs": [
    {
     "name": "stdout",
     "output_type": "stream",
     "text": [
      "CPU times: user 9min 19s, sys: 316 ms, total: 9min 19s\n",
      "Wall time: 9min 25s\n"
     ]
    }
   ],
   "source": [
    "%%time\n",
    "\n",
    "# модель \"случайный лес\"\n",
    "\n",
    "# переберем значения n_estimators,\n",
    "# oграничим макс глубину деревьев глубиной лучшего варианта из модели решающего дерева (в целях экономии времени расчета),\n",
    "\n",
    "for estim in range (30,51,10):\n",
    "\n",
    "    # создание и обучение модели\n",
    "    model1_f = RandomForestRegressor(n_estimators=estim, max_depth=md_f, random_state=12345) # для rougher.output.recovery\n",
    "    model2_f = RandomForestRegressor(n_estimators=estim, max_depth=md_f, random_state=12345) # для final.output.recovery\n",
    "        \n",
    "    # расчет значения метрики\n",
    "    scores1_f = cross_val_score(model1_f, features1, target1, scoring=smape_score, cv=10)\n",
    "    smape1_f = scores1_f.mean() # для rougher.output.recovery\n",
    "    scores2_f = cross_val_score(model2_f, features2, target2, scoring=smape_score, cv=10)\n",
    "    smape2_f = scores2_f.mean() # для final.output.recovery\n",
    "    rsmape_f = rsmape_function(smape1_f,smape2_f) # итоговая метрика\n",
    "\n",
    "    # добавление строк в таблицу сравнения моделей\n",
    "    data_mod.append(['random_forest', estim, md_f, smape1_f, smape2_f, rsmape_f])"
   ]
  },
  {
   "cell_type": "code",
   "execution_count": 62,
   "metadata": {},
   "outputs": [
    {
     "data": {
      "text/html": [
       "<div>\n",
       "<style scoped>\n",
       "    .dataframe tbody tr th:only-of-type {\n",
       "        vertical-align: middle;\n",
       "    }\n",
       "\n",
       "    .dataframe tbody tr th {\n",
       "        vertical-align: top;\n",
       "    }\n",
       "\n",
       "    .dataframe thead th {\n",
       "        text-align: right;\n",
       "    }\n",
       "</style>\n",
       "<table border=\"1\" class=\"dataframe\">\n",
       "  <thead>\n",
       "    <tr style=\"text-align: right;\">\n",
       "      <th></th>\n",
       "      <th>method</th>\n",
       "      <th>n_estimators</th>\n",
       "      <th>depth</th>\n",
       "      <th>rougher_output_smape</th>\n",
       "      <th>final_output_smape</th>\n",
       "      <th>resulting_smape</th>\n",
       "    </tr>\n",
       "  </thead>\n",
       "  <tbody>\n",
       "    <tr>\n",
       "      <td>0</td>\n",
       "      <td>linear_regression</td>\n",
       "      <td>NaN</td>\n",
       "      <td>NaN</td>\n",
       "      <td>4.704702</td>\n",
       "      <td>7.103468</td>\n",
       "      <td>6.503776</td>\n",
       "    </tr>\n",
       "    <tr>\n",
       "      <td>1</td>\n",
       "      <td>decision_tree</td>\n",
       "      <td>NaN</td>\n",
       "      <td>6.0</td>\n",
       "      <td>3.861998</td>\n",
       "      <td>6.732230</td>\n",
       "      <td>6.014672</td>\n",
       "    </tr>\n",
       "    <tr>\n",
       "      <td>2</td>\n",
       "      <td>decision_tree</td>\n",
       "      <td>NaN</td>\n",
       "      <td>8.0</td>\n",
       "      <td>3.426871</td>\n",
       "      <td>6.455891</td>\n",
       "      <td>5.698636</td>\n",
       "    </tr>\n",
       "    <tr>\n",
       "      <td>3</td>\n",
       "      <td>decision_tree</td>\n",
       "      <td>NaN</td>\n",
       "      <td>10.0</td>\n",
       "      <td>3.139133</td>\n",
       "      <td>6.359250</td>\n",
       "      <td>5.554221</td>\n",
       "    </tr>\n",
       "    <tr>\n",
       "      <td>4</td>\n",
       "      <td>random_forest</td>\n",
       "      <td>30.0</td>\n",
       "      <td>10.0</td>\n",
       "      <td>2.740096</td>\n",
       "      <td>5.521785</td>\n",
       "      <td>4.826362</td>\n",
       "    </tr>\n",
       "    <tr>\n",
       "      <td>5</td>\n",
       "      <td>random_forest</td>\n",
       "      <td>40.0</td>\n",
       "      <td>10.0</td>\n",
       "      <td>2.731695</td>\n",
       "      <td>5.523139</td>\n",
       "      <td>4.825278</td>\n",
       "    </tr>\n",
       "    <tr>\n",
       "      <td>6</td>\n",
       "      <td>random_forest</td>\n",
       "      <td>50.0</td>\n",
       "      <td>10.0</td>\n",
       "      <td>2.729067</td>\n",
       "      <td>5.508589</td>\n",
       "      <td>4.813709</td>\n",
       "    </tr>\n",
       "  </tbody>\n",
       "</table>\n",
       "</div>"
      ],
      "text/plain": [
       "              method  n_estimators  depth  rougher_output_smape  \\\n",
       "0  linear_regression           NaN    NaN              4.704702   \n",
       "1      decision_tree           NaN    6.0              3.861998   \n",
       "2      decision_tree           NaN    8.0              3.426871   \n",
       "3      decision_tree           NaN   10.0              3.139133   \n",
       "4      random_forest          30.0   10.0              2.740096   \n",
       "5      random_forest          40.0   10.0              2.731695   \n",
       "6      random_forest          50.0   10.0              2.729067   \n",
       "\n",
       "   final_output_smape  resulting_smape  \n",
       "0            7.103468         6.503776  \n",
       "1            6.732230         6.014672  \n",
       "2            6.455891         5.698636  \n",
       "3            6.359250         5.554221  \n",
       "4            5.521785         4.826362  \n",
       "5            5.523139         4.825278  \n",
       "6            5.508589         4.813709  "
      ]
     },
     "execution_count": 62,
     "metadata": {},
     "output_type": "execute_result"
    }
   ],
   "source": [
    "# вывод таблицы сравнения моделей\n",
    "summary_mod = pd.DataFrame(data=data_mod, columns=columns_mod)\n",
    "summary_mod"
   ]
  },
  {
   "cell_type": "code",
   "execution_count": 63,
   "metadata": {},
   "outputs": [
    {
     "data": {
      "text/html": [
       "<div>\n",
       "<style scoped>\n",
       "    .dataframe tbody tr th:only-of-type {\n",
       "        vertical-align: middle;\n",
       "    }\n",
       "\n",
       "    .dataframe tbody tr th {\n",
       "        vertical-align: top;\n",
       "    }\n",
       "\n",
       "    .dataframe thead th {\n",
       "        text-align: right;\n",
       "    }\n",
       "</style>\n",
       "<table border=\"1\" class=\"dataframe\">\n",
       "  <thead>\n",
       "    <tr style=\"text-align: right;\">\n",
       "      <th></th>\n",
       "      <th>method</th>\n",
       "      <th>n_estimators</th>\n",
       "      <th>depth</th>\n",
       "      <th>rougher_output_smape</th>\n",
       "      <th>final_output_smape</th>\n",
       "      <th>resulting_smape</th>\n",
       "    </tr>\n",
       "  </thead>\n",
       "  <tbody>\n",
       "    <tr>\n",
       "      <td>0</td>\n",
       "      <td>random_forest</td>\n",
       "      <td>50.0</td>\n",
       "      <td>10.0</td>\n",
       "      <td>2.729067</td>\n",
       "      <td>5.508589</td>\n",
       "      <td>4.813709</td>\n",
       "    </tr>\n",
       "  </tbody>\n",
       "</table>\n",
       "</div>"
      ],
      "text/plain": [
       "          method  n_estimators  depth  rougher_output_smape  \\\n",
       "0  random_forest          50.0   10.0              2.729067   \n",
       "\n",
       "   final_output_smape  resulting_smape  \n",
       "0            5.508589         4.813709  "
      ]
     },
     "execution_count": 63,
     "metadata": {},
     "output_type": "execute_result"
    }
   ],
   "source": [
    "# выбор лучшей модели\n",
    "best_mod=summary_mod[summary_mod['resulting_smape']==summary_mod['resulting_smape'].min()].reset_index(drop=True)\n",
    "best_mod"
   ]
  },
  {
   "cell_type": "code",
   "execution_count": 64,
   "metadata": {},
   "outputs": [],
   "source": [
    "estim_best = int(best_mod.loc[0,'n_estimators'])\n",
    "depth_best = int(best_mod.loc[0,'depth'])"
   ]
  },
  {
   "cell_type": "markdown",
   "metadata": {},
   "source": [
    "### 3.3. Проверка модели на тестовой выборке."
   ]
  },
  {
   "cell_type": "code",
   "execution_count": 65,
   "metadata": {},
   "outputs": [],
   "source": [
    "# масштабирование тестовой выборки (scaler уже настроен по обучающей)\n",
    "test[numeric] = scaler.transform(test[numeric])"
   ]
  },
  {
   "cell_type": "code",
   "execution_count": 66,
   "metadata": {},
   "outputs": [],
   "source": [
    "# переменные для признаков и целевого признака rougher.output.recovery \n",
    "# (это только те признаки, которые участвуют в технологическом процессе до и во время прохождения флотации)\n",
    "features1_list_test = test.columns[test.columns.str.contains('rougher.')]\n",
    "features1_test = test[features1_list_test].drop(columns='rougher.output.recovery')\n",
    "target1_test = test['rougher.output.recovery']"
   ]
  },
  {
   "cell_type": "code",
   "execution_count": 67,
   "metadata": {},
   "outputs": [],
   "source": [
    "# переменные для признаков и целевого признака final.output.recovery\n",
    "# (должны учитываться все признаки, т.к. все они влияют на эффективность степени обогащения конечного продукта)\n",
    "features2_test = test[numeric]\n",
    "target2_test = test['final.output.recovery']"
   ]
  },
  {
   "cell_type": "code",
   "execution_count": 68,
   "metadata": {},
   "outputs": [],
   "source": [
    "# создание модели\n",
    "model1 = RandomForestRegressor(n_estimators=estim_best, max_depth=depth_best, random_state=12345)\n",
    "model2 = RandomForestRegressor(n_estimators=estim_best, max_depth=depth_best, random_state=12345)"
   ]
  },
  {
   "cell_type": "code",
   "execution_count": 69,
   "metadata": {},
   "outputs": [
    {
     "data": {
      "text/plain": [
       "RandomForestRegressor(bootstrap=True, criterion='mse', max_depth=10,\n",
       "                      max_features='auto', max_leaf_nodes=None,\n",
       "                      min_impurity_decrease=0.0, min_impurity_split=None,\n",
       "                      min_samples_leaf=1, min_samples_split=2,\n",
       "                      min_weight_fraction_leaf=0.0, n_estimators=50,\n",
       "                      n_jobs=None, oob_score=False, random_state=12345,\n",
       "                      verbose=0, warm_start=False)"
      ]
     },
     "execution_count": 69,
     "metadata": {},
     "output_type": "execute_result"
    }
   ],
   "source": [
    "# обучение модели\n",
    "model1.fit(features1, target1)\n",
    "model2.fit(features2, target2)"
   ]
  },
  {
   "cell_type": "code",
   "execution_count": 70,
   "metadata": {},
   "outputs": [],
   "source": [
    "# работа модели - формирование предсказанных значений\n",
    "pred1_test = model1.predict(features1_test)\n",
    "pred2_test = model2.predict(features2_test)"
   ]
  },
  {
   "cell_type": "code",
   "execution_count": 71,
   "metadata": {},
   "outputs": [],
   "source": [
    "# расчет метрики\n",
    "smape1_test = smape_function(target1_test, pred1_test)\n",
    "smape2_test = smape_function(target2_test, pred2_test)\n",
    "rsmape_test = rsmape_function(smape1_test, smape2_test)"
   ]
  },
  {
   "cell_type": "code",
   "execution_count": 72,
   "metadata": {},
   "outputs": [],
   "source": [
    "# формирование таблицы результата\n",
    "result_test = best_mod\n",
    "result_test['rougher_output_smape'] = smape1_test\n",
    "result_test['final_output_smape'] = smape2_test\n",
    "result_test['resulting_smape'] = rsmape_test"
   ]
  },
  {
   "cell_type": "code",
   "execution_count": 73,
   "metadata": {},
   "outputs": [
    {
     "data": {
      "text/html": [
       "<div>\n",
       "<style scoped>\n",
       "    .dataframe tbody tr th:only-of-type {\n",
       "        vertical-align: middle;\n",
       "    }\n",
       "\n",
       "    .dataframe tbody tr th {\n",
       "        vertical-align: top;\n",
       "    }\n",
       "\n",
       "    .dataframe thead th {\n",
       "        text-align: right;\n",
       "    }\n",
       "</style>\n",
       "<table border=\"1\" class=\"dataframe\">\n",
       "  <thead>\n",
       "    <tr style=\"text-align: right;\">\n",
       "      <th></th>\n",
       "      <th>method</th>\n",
       "      <th>n_estimators</th>\n",
       "      <th>depth</th>\n",
       "      <th>rougher_output_smape</th>\n",
       "      <th>final_output_smape</th>\n",
       "      <th>resulting_smape</th>\n",
       "    </tr>\n",
       "  </thead>\n",
       "  <tbody>\n",
       "    <tr>\n",
       "      <td>0</td>\n",
       "      <td>random_forest</td>\n",
       "      <td>50.0</td>\n",
       "      <td>10.0</td>\n",
       "      <td>4.022642</td>\n",
       "      <td>7.278134</td>\n",
       "      <td>6.464261</td>\n",
       "    </tr>\n",
       "  </tbody>\n",
       "</table>\n",
       "</div>"
      ],
      "text/plain": [
       "          method  n_estimators  depth  rougher_output_smape  \\\n",
       "0  random_forest          50.0   10.0              4.022642   \n",
       "\n",
       "   final_output_smape  resulting_smape  \n",
       "0            7.278134         6.464261  "
      ]
     },
     "execution_count": 73,
     "metadata": {},
     "output_type": "execute_result"
    }
   ],
   "source": [
    "# вывод результата\n",
    "result_test"
   ]
  },
  {
   "cell_type": "markdown",
   "metadata": {},
   "source": [
    "Проверим выбранную модель на адекватность - сравненим с константной dummy-моделью."
   ]
  },
  {
   "cell_type": "code",
   "execution_count": 74,
   "metadata": {},
   "outputs": [],
   "source": [
    "from sklearn.dummy import DummyRegressor"
   ]
  },
  {
   "cell_type": "code",
   "execution_count": 75,
   "metadata": {},
   "outputs": [],
   "source": [
    "# создание dummy-модели\n",
    "dummy1 = DummyRegressor(strategy='mean')\n",
    "dummy2 = DummyRegressor(strategy='mean')"
   ]
  },
  {
   "cell_type": "code",
   "execution_count": 76,
   "metadata": {},
   "outputs": [
    {
     "data": {
      "text/plain": [
       "DummyRegressor(constant=None, quantile=None, strategy='mean')"
      ]
     },
     "execution_count": 76,
     "metadata": {},
     "output_type": "execute_result"
    }
   ],
   "source": [
    "# обучение dummy-модели\n",
    "dummy1.fit(features1, target1)\n",
    "dummy2.fit(features2, target2)"
   ]
  },
  {
   "cell_type": "code",
   "execution_count": 77,
   "metadata": {},
   "outputs": [],
   "source": [
    "# работа dummy-модели - формирование предсказанных значений\n",
    "pred1_dummy = dummy1.predict(features1_test)\n",
    "pred2_dummy = dummy2.predict(features2_test)"
   ]
  },
  {
   "cell_type": "code",
   "execution_count": 78,
   "metadata": {},
   "outputs": [],
   "source": [
    "# расчет метрики\n",
    "smape1_dummy = smape_function(target1_test, pred1_dummy)\n",
    "smape2_dummy = smape_function(target2_test, pred2_dummy)\n",
    "rsmape_dummy = rsmape_function(smape1_dummy, smape2_dummy)"
   ]
  },
  {
   "cell_type": "code",
   "execution_count": 79,
   "metadata": {},
   "outputs": [
    {
     "data": {
      "text/html": [
       "<div>\n",
       "<style scoped>\n",
       "    .dataframe tbody tr th:only-of-type {\n",
       "        vertical-align: middle;\n",
       "    }\n",
       "\n",
       "    .dataframe tbody tr th {\n",
       "        vertical-align: top;\n",
       "    }\n",
       "\n",
       "    .dataframe thead th {\n",
       "        text-align: right;\n",
       "    }\n",
       "</style>\n",
       "<table border=\"1\" class=\"dataframe\">\n",
       "  <thead>\n",
       "    <tr style=\"text-align: right;\">\n",
       "      <th></th>\n",
       "      <th>method</th>\n",
       "      <th>n_estimators</th>\n",
       "      <th>depth</th>\n",
       "      <th>rougher_output_smape</th>\n",
       "      <th>final_output_smape</th>\n",
       "      <th>resulting_smape</th>\n",
       "    </tr>\n",
       "  </thead>\n",
       "  <tbody>\n",
       "    <tr>\n",
       "      <td>0</td>\n",
       "      <td>random_forest</td>\n",
       "      <td>50.0</td>\n",
       "      <td>10.0</td>\n",
       "      <td>4.022642</td>\n",
       "      <td>7.278134</td>\n",
       "      <td>6.464261</td>\n",
       "    </tr>\n",
       "    <tr>\n",
       "      <td>1</td>\n",
       "      <td>dummy</td>\n",
       "      <td>NaN</td>\n",
       "      <td>NaN</td>\n",
       "      <td>4.767457</td>\n",
       "      <td>7.703849</td>\n",
       "      <td>6.969751</td>\n",
       "    </tr>\n",
       "  </tbody>\n",
       "</table>\n",
       "</div>"
      ],
      "text/plain": [
       "          method  n_estimators  depth  rougher_output_smape  \\\n",
       "0  random_forest          50.0   10.0              4.022642   \n",
       "1          dummy           NaN    NaN              4.767457   \n",
       "\n",
       "   final_output_smape  resulting_smape  \n",
       "0            7.278134         6.464261  \n",
       "1            7.703849         6.969751  "
      ]
     },
     "execution_count": 79,
     "metadata": {},
     "output_type": "execute_result"
    }
   ],
   "source": [
    "# добавление строки dummy в таблицу результата\n",
    "line_dummy = ['dummy', np.nan, np.nan, smape1_dummy, smape2_dummy, rsmape_dummy]\n",
    "result_test.loc[1,:] = line_dummy\n",
    "result_test"
   ]
  },
  {
   "cell_type": "markdown",
   "metadata": {},
   "source": [
    "Значение метрики (ошибки) выбранной модели меньше ошибки dummy-модели, т.е. выбранная модель адекватна. "
   ]
  },
  {
   "cell_type": "markdown",
   "metadata": {},
   "source": [
    "### 4. Вывод."
   ]
  },
  {
   "cell_type": "markdown",
   "metadata": {},
   "source": [
    "Была проделана следующая работа.\n",
    "\n",
    "Данные загружены, изучены и подготовлены к работе:  \n",
    "Проверена правильность расчёта эффективности обогащения. Выяснено, что в тестовой выборке отсутствуют признаки, описывающие параметры конечного продукта и сырья, прошедшего частичную обработку. Поэтому значения целевых признаков были скопированы из полного датасета в тестовую выборку. Строки с пропущенными значениями целевых признаков (rougher.output.recovery и\n",
    "final.output.recovery) были удалены. Пропуски нецелевых признаков были заполнены ближайшими значениями.  \n",
    "\n",
    "Произведен анализ технологических данных:\n",
    "Проанализировали концентрацию металлов (Au, Ag, Pb) на различных этапах очистки. Было выяснено, что концентрация золота растет. Концентрация свинца тоже увеличивается, но не значительно, а концентрация серебра падает.  \n",
    "Сравнили распределения размеров гранул сырья на обучающей и тестовой выборках. Сравнение произвели путем анализа числового описания, 95% доверительного интервала и построения гистограмм. Судя по числовому описанию распределение на обучающей и тестовой выборках различается незначительно. Но 95% доверительные интервалы смещены и заметно значительное различие гистограмм в районе наиболее частых значений. Можно ожидать, что модель будет работать неточно. Наблюдения с аномальными значениями размеров гранул удалили.    \n",
    "Исследовали суммарную концентрацию всех веществ на разных стадиях, аномалии удалили.  \n",
    "\n",
    "Введена метрика sMAPE для оценки эффективности обогащения чернового и финального концентратов. В качестве итоговой метрики использовано взвешенное значение sMAPE чернового и финального концентратов.\n",
    "\n",
    "Были изучены результаты работы моделей линейной регрессии, дерева решений и случайного леса.  \n",
    "В качестве признаков для предсказания оценки эффективности обогащения чернового концентрата (rougher.output.recovery) были использованы только те данные, которые участвуют в технологическом процессе до и во время прохождения флотации (стадия rougher).  \n",
    "Для предсказания оценки эффективности обогащения финального концентрата (final.output.recovery) учли все признаки, т.к. все они влияют на эффективность степени обогащения конечного продукта.  \n",
    "Выбор модели производился с применением метода кросс-валидации, реализованного с помощью библиотеки scikit.  \n",
    "\n",
    "Лучший результат показала модель \"случайный лес\". sMAPE обогащения чернового и финального концентрата и итоговая sMAPE тестовой выборки приведены в таблице result_test.  \n",
    "Адекватность выбранной модели проверили путем сравнения с константной моделью (с использованием среднего значения)."
   ]
  },
  {
   "cell_type": "markdown",
   "metadata": {},
   "source": [
    "#### Чек-лист"
   ]
  },
  {
   "cell_type": "markdown",
   "metadata": {},
   "source": [
    "- [x]  Jupyter Notebook открыт\n",
    "- [x]  Весь код выполняется без ошибок\n",
    "- [x]  Ячейки с кодом расположены в порядке выполнения\n",
    "- [x]  Выполнен шаг 1: данные подготовлены\n",
    "    - [x]  Проверена формула вычисления эффективности обогащения\n",
    "    - [x]  Проанализированы признаки, недоступные в тестовой выборке\n",
    "    - [x]  Проведена предобработка данных\n",
    "- [x]  Выполнен шаг 2: данные проанализированы\n",
    "    - [x]  Исследовано изменение концентрации элементов на каждом этапе\n",
    "    - [x]  Проанализированы распределения размеров гранул на обучающей и тестовой выборках\n",
    "    - [x]  Исследованы суммарные концентрации\n",
    "    - [x]  Проанализированы и обработаны аномальные значения\n",
    "- [x]  Выполнен шаг 3: построена модель прогнозирования\n",
    "    - [x]  Написана функция для вычисления итогового *sMAPE*\n",
    "    - [x]  Обучено и проверено несколько моделей\n",
    "    - [x]  Выбрана лучшая модель, её качество проверено на тестовой выборке"
   ]
  }
 ],
 "metadata": {
  "kernelspec": {
   "display_name": "Python 3",
   "language": "python",
   "name": "python3"
  },
  "language_info": {
   "codemirror_mode": {
    "name": "ipython",
    "version": 3
   },
   "file_extension": ".py",
   "mimetype": "text/x-python",
   "name": "python",
   "nbconvert_exporter": "python",
   "pygments_lexer": "ipython3",
   "version": "3.7.4"
  }
 },
 "nbformat": 4,
 "nbformat_minor": 2
}
