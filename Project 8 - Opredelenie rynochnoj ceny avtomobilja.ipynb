{
 "cells": [
  {
   "cell_type": "markdown",
   "metadata": {},
   "source": [
    "# Определение рыночной цены автомобиля."
   ]
  },
  {
   "cell_type": "markdown",
   "metadata": {},
   "source": [
    "### Введение.\n",
    "\n",
    "\n",
    "Сервис по продаже автомобилей с пробегом разрабатывает приложение для привлечения новых клиентов. В нём можно быстро узнать рыночную стоимость своего автомобиля. В нашем распоряжении исторические данные: технические характеристики, комплектации и цены автомобилей. Задача - построить модель для определения стоимости. \n",
    "\n",
    "Заказчику важны:\n",
    "\n",
    "- качество предсказания;\n",
    "- скорость предсказания;\n",
    "- время обучения.\n",
    "\n",
    "**Описание данных:**\n",
    "\n",
    "Признаки:    \n",
    "•\tDateCrawled — дата скачивания анкеты из базы  \n",
    "•\tVehicleType — тип автомобильного кузова   \n",
    "•\tRegistrationYear — год регистрации автомобиля  \n",
    "•\tGearbox — тип коробки передач  \n",
    "•\tPower — мощность (л. с.)  \n",
    "•\tModel — модель автомобиля  \n",
    "•\tKilometer — пробег (км)  \n",
    "•\tRegistrationMonth — месяц регистрации автомобиля  \n",
    "•\tFuelType — тип топлива  \n",
    "•\tBrand — марка автомобиля  \n",
    "•\tNotRepaired — была машина в ремонте или нет  \n",
    "•\tDateCreated — дата создания анкеты  \n",
    "•\tNumberOfPictures — количество фотографий автомобиля  \n",
    "•\tPostalCode — почтовый индекс владельца анкеты (пользователя)  \n",
    "•\tLastSeen — дата последней активности пользователя  \n",
    "Целевой признак:  \n",
    "Price — цена (евро) \n",
    "\n",
    "План работы:  \n",
    "1.\tЗагрузка и подготовка данных.  \n",
    "2.\tСоздание и обучение разных моделей с различными гиперпараметрами.  \n",
    "3.\tАнализ скорости работы и качества моделей (метрика - RMSE). "
   ]
  },
  {
   "cell_type": "markdown",
   "metadata": {},
   "source": [
    "### 1. Подготовка данных"
   ]
  },
  {
   "cell_type": "code",
   "execution_count": 1,
   "metadata": {},
   "outputs": [],
   "source": [
    "# импорт библиотек и опций\n",
    "import pandas as pd\n",
    "import numpy as np\n",
    "pd.set_option('display.max_columns', None)"
   ]
  },
  {
   "cell_type": "code",
   "execution_count": 2,
   "metadata": {},
   "outputs": [],
   "source": [
    "# загрузка данных\n",
    "data = pd.read_csv('/datasets/autos.csv')"
   ]
  },
  {
   "cell_type": "code",
   "execution_count": 3,
   "metadata": {},
   "outputs": [
    {
     "data": {
      "text/html": [
       "<div>\n",
       "<style scoped>\n",
       "    .dataframe tbody tr th:only-of-type {\n",
       "        vertical-align: middle;\n",
       "    }\n",
       "\n",
       "    .dataframe tbody tr th {\n",
       "        vertical-align: top;\n",
       "    }\n",
       "\n",
       "    .dataframe thead th {\n",
       "        text-align: right;\n",
       "    }\n",
       "</style>\n",
       "<table border=\"1\" class=\"dataframe\">\n",
       "  <thead>\n",
       "    <tr style=\"text-align: right;\">\n",
       "      <th></th>\n",
       "      <th>DateCrawled</th>\n",
       "      <th>Price</th>\n",
       "      <th>VehicleType</th>\n",
       "      <th>RegistrationYear</th>\n",
       "      <th>Gearbox</th>\n",
       "      <th>Power</th>\n",
       "      <th>Model</th>\n",
       "      <th>Kilometer</th>\n",
       "      <th>RegistrationMonth</th>\n",
       "      <th>FuelType</th>\n",
       "      <th>Brand</th>\n",
       "      <th>NotRepaired</th>\n",
       "      <th>DateCreated</th>\n",
       "      <th>NumberOfPictures</th>\n",
       "      <th>PostalCode</th>\n",
       "      <th>LastSeen</th>\n",
       "    </tr>\n",
       "  </thead>\n",
       "  <tbody>\n",
       "    <tr>\n",
       "      <td>0</td>\n",
       "      <td>2016-03-24 11:52:17</td>\n",
       "      <td>480</td>\n",
       "      <td>NaN</td>\n",
       "      <td>1993</td>\n",
       "      <td>manual</td>\n",
       "      <td>0</td>\n",
       "      <td>golf</td>\n",
       "      <td>150000</td>\n",
       "      <td>0</td>\n",
       "      <td>petrol</td>\n",
       "      <td>volkswagen</td>\n",
       "      <td>NaN</td>\n",
       "      <td>2016-03-24 00:00:00</td>\n",
       "      <td>0</td>\n",
       "      <td>70435</td>\n",
       "      <td>2016-04-07 03:16:57</td>\n",
       "    </tr>\n",
       "    <tr>\n",
       "      <td>1</td>\n",
       "      <td>2016-03-24 10:58:45</td>\n",
       "      <td>18300</td>\n",
       "      <td>coupe</td>\n",
       "      <td>2011</td>\n",
       "      <td>manual</td>\n",
       "      <td>190</td>\n",
       "      <td>NaN</td>\n",
       "      <td>125000</td>\n",
       "      <td>5</td>\n",
       "      <td>gasoline</td>\n",
       "      <td>audi</td>\n",
       "      <td>yes</td>\n",
       "      <td>2016-03-24 00:00:00</td>\n",
       "      <td>0</td>\n",
       "      <td>66954</td>\n",
       "      <td>2016-04-07 01:46:50</td>\n",
       "    </tr>\n",
       "    <tr>\n",
       "      <td>2</td>\n",
       "      <td>2016-03-14 12:52:21</td>\n",
       "      <td>9800</td>\n",
       "      <td>suv</td>\n",
       "      <td>2004</td>\n",
       "      <td>auto</td>\n",
       "      <td>163</td>\n",
       "      <td>grand</td>\n",
       "      <td>125000</td>\n",
       "      <td>8</td>\n",
       "      <td>gasoline</td>\n",
       "      <td>jeep</td>\n",
       "      <td>NaN</td>\n",
       "      <td>2016-03-14 00:00:00</td>\n",
       "      <td>0</td>\n",
       "      <td>90480</td>\n",
       "      <td>2016-04-05 12:47:46</td>\n",
       "    </tr>\n",
       "    <tr>\n",
       "      <td>3</td>\n",
       "      <td>2016-03-17 16:54:04</td>\n",
       "      <td>1500</td>\n",
       "      <td>small</td>\n",
       "      <td>2001</td>\n",
       "      <td>manual</td>\n",
       "      <td>75</td>\n",
       "      <td>golf</td>\n",
       "      <td>150000</td>\n",
       "      <td>6</td>\n",
       "      <td>petrol</td>\n",
       "      <td>volkswagen</td>\n",
       "      <td>no</td>\n",
       "      <td>2016-03-17 00:00:00</td>\n",
       "      <td>0</td>\n",
       "      <td>91074</td>\n",
       "      <td>2016-03-17 17:40:17</td>\n",
       "    </tr>\n",
       "    <tr>\n",
       "      <td>4</td>\n",
       "      <td>2016-03-31 17:25:20</td>\n",
       "      <td>3600</td>\n",
       "      <td>small</td>\n",
       "      <td>2008</td>\n",
       "      <td>manual</td>\n",
       "      <td>69</td>\n",
       "      <td>fabia</td>\n",
       "      <td>90000</td>\n",
       "      <td>7</td>\n",
       "      <td>gasoline</td>\n",
       "      <td>skoda</td>\n",
       "      <td>no</td>\n",
       "      <td>2016-03-31 00:00:00</td>\n",
       "      <td>0</td>\n",
       "      <td>60437</td>\n",
       "      <td>2016-04-06 10:17:21</td>\n",
       "    </tr>\n",
       "  </tbody>\n",
       "</table>\n",
       "</div>"
      ],
      "text/plain": [
       "           DateCrawled  Price VehicleType  RegistrationYear Gearbox  Power  \\\n",
       "0  2016-03-24 11:52:17    480         NaN              1993  manual      0   \n",
       "1  2016-03-24 10:58:45  18300       coupe              2011  manual    190   \n",
       "2  2016-03-14 12:52:21   9800         suv              2004    auto    163   \n",
       "3  2016-03-17 16:54:04   1500       small              2001  manual     75   \n",
       "4  2016-03-31 17:25:20   3600       small              2008  manual     69   \n",
       "\n",
       "   Model  Kilometer  RegistrationMonth  FuelType       Brand NotRepaired  \\\n",
       "0   golf     150000                  0    petrol  volkswagen         NaN   \n",
       "1    NaN     125000                  5  gasoline        audi         yes   \n",
       "2  grand     125000                  8  gasoline        jeep         NaN   \n",
       "3   golf     150000                  6    petrol  volkswagen          no   \n",
       "4  fabia      90000                  7  gasoline       skoda          no   \n",
       "\n",
       "           DateCreated  NumberOfPictures  PostalCode             LastSeen  \n",
       "0  2016-03-24 00:00:00                 0       70435  2016-04-07 03:16:57  \n",
       "1  2016-03-24 00:00:00                 0       66954  2016-04-07 01:46:50  \n",
       "2  2016-03-14 00:00:00                 0       90480  2016-04-05 12:47:46  \n",
       "3  2016-03-17 00:00:00                 0       91074  2016-03-17 17:40:17  \n",
       "4  2016-03-31 00:00:00                 0       60437  2016-04-06 10:17:21  "
      ]
     },
     "execution_count": 3,
     "metadata": {},
     "output_type": "execute_result"
    }
   ],
   "source": [
    "data.head()"
   ]
  },
  {
   "cell_type": "code",
   "execution_count": 4,
   "metadata": {},
   "outputs": [
    {
     "name": "stdout",
     "output_type": "stream",
     "text": [
      "<class 'pandas.core.frame.DataFrame'>\n",
      "RangeIndex: 354369 entries, 0 to 354368\n",
      "Data columns (total 16 columns):\n",
      "DateCrawled          354369 non-null object\n",
      "Price                354369 non-null int64\n",
      "VehicleType          316879 non-null object\n",
      "RegistrationYear     354369 non-null int64\n",
      "Gearbox              334536 non-null object\n",
      "Power                354369 non-null int64\n",
      "Model                334664 non-null object\n",
      "Kilometer            354369 non-null int64\n",
      "RegistrationMonth    354369 non-null int64\n",
      "FuelType             321474 non-null object\n",
      "Brand                354369 non-null object\n",
      "NotRepaired          283215 non-null object\n",
      "DateCreated          354369 non-null object\n",
      "NumberOfPictures     354369 non-null int64\n",
      "PostalCode           354369 non-null int64\n",
      "LastSeen             354369 non-null object\n",
      "dtypes: int64(7), object(9)\n",
      "memory usage: 43.3+ MB\n"
     ]
    }
   ],
   "source": [
    "data.info()"
   ]
  },
  {
   "cell_type": "code",
   "execution_count": 5,
   "metadata": {},
   "outputs": [
    {
     "data": {
      "text/plain": [
       "4"
      ]
     },
     "execution_count": 5,
     "metadata": {},
     "output_type": "execute_result"
    }
   ],
   "source": [
    "data.duplicated().sum()"
   ]
  },
  {
   "cell_type": "code",
   "execution_count": 6,
   "metadata": {},
   "outputs": [],
   "source": [
    "# удалим дупликаты\n",
    "data = data.drop_duplicates().reset_index(drop=True)"
   ]
  },
  {
   "cell_type": "markdown",
   "metadata": {},
   "source": [
    "Теперь займемся пропусками и аномальными значениями данных.  \n",
    "Прежде всего удалим те наблюдения, где пропущены данные, критичные для определения цены, - это модель и год производства автомобиля (здесь - год регистрации)."
   ]
  },
  {
   "cell_type": "code",
   "execution_count": 7,
   "metadata": {},
   "outputs": [
    {
     "data": {
      "text/plain": [
       "golf                  29232\n",
       "other                 24420\n",
       "3er                   19761\n",
       "polo                  13066\n",
       "corsa                 12570\n",
       "                      ...  \n",
       "serie_2                   8\n",
       "rangerover                4\n",
       "serie_3                   4\n",
       "range_rover_evoque        2\n",
       "serie_1                   2\n",
       "Name: Model, Length: 250, dtype: int64"
      ]
     },
     "execution_count": 7,
     "metadata": {},
     "output_type": "execute_result"
    }
   ],
   "source": [
    "data['Model'].value_counts()"
   ]
  },
  {
   "cell_type": "code",
   "execution_count": 8,
   "metadata": {},
   "outputs": [
    {
     "name": "stdout",
     "output_type": "stream",
     "text": [
      "Удалено, %: 5.6\n"
     ]
    }
   ],
   "source": [
    "# удалим наблюдения, для которых не указана модель\n",
    "len1 = len(data)\n",
    "data = data.dropna(subset=['Model']).reset_index(drop=True)\n",
    "print ('Удалено, %:', round((len1-len(data))/len1*100,1))"
   ]
  },
  {
   "cell_type": "markdown",
   "metadata": {},
   "source": [
    "Удалим наблюдения, где дата регистрации автомобиля превышает дату создания объявления. В этом случае можно утверждать, что нам возраст автомобиля неизвестен."
   ]
  },
  {
   "cell_type": "code",
   "execution_count": 9,
   "metadata": {},
   "outputs": [],
   "source": [
    "# объединим RegistrationYear и RegistrationMonth - создадим признак RegYM\n",
    "data['RegYM'] = data['RegistrationYear'] + data['RegistrationMonth']/12"
   ]
  },
  {
   "cell_type": "code",
   "execution_count": 10,
   "metadata": {},
   "outputs": [],
   "source": [
    "# переведем DateCreated из типа 'object' в тип 'datetime'\n",
    "data['DateCreated'] = pd.to_datetime(data['DateCreated'], format='%Y-%m-%d')\n",
    "# и представим в виде десятичного значения года (в таком виде уже представлен признак RegYM - год и месяц регистрации автомобиля)\n",
    "data['DateCreated'] = pd.DatetimeIndex(data['DateCreated']).year+pd.DatetimeIndex(data['DateCreated']).month/12"
   ]
  },
  {
   "cell_type": "code",
   "execution_count": 11,
   "metadata": {},
   "outputs": [
    {
     "name": "stdout",
     "output_type": "stream",
     "text": [
      "Удалено, %: 5.0\n"
     ]
    }
   ],
   "source": [
    "# удалим наблюдения, где дата регистрации автомобиля превышает дату создания объявления\n",
    "len2 = len(data)\n",
    "data = data[data['RegYM']<data['DateCreated']]\n",
    "print ('Удалено, %:', round((len2-len(data))/len1*100,1))"
   ]
  },
  {
   "cell_type": "markdown",
   "metadata": {},
   "source": [
    "Удалим наблюдения, в которых автомобиль был зарегистрирован ранее даты нижней границы диаграммы размаха. Т.е. удалим выбросы по дате регистрации."
   ]
  },
  {
   "cell_type": "code",
   "execution_count": 12,
   "metadata": {},
   "outputs": [
    {
     "data": {
      "text/plain": [
       "1987.125"
      ]
     },
     "execution_count": 12,
     "metadata": {},
     "output_type": "execute_result"
    }
   ],
   "source": [
    "# вычислим пределы нижнего нормального значения даты регистрации\n",
    "k = 1.5 # коэффициент IQR\n",
    "q1 = data['RegYM'].quantile(0.25) # квартиль 25%\n",
    "q3 = data['RegYM'].quantile(0.75) # квартиль 75%\n",
    "iqr = q3 - q1 # межквартильный интервал\n",
    "low = q1 - k*iqr # минимальное нормальное значение\n",
    "low"
   ]
  },
  {
   "cell_type": "code",
   "execution_count": 13,
   "metadata": {},
   "outputs": [
    {
     "name": "stdout",
     "output_type": "stream",
     "text": [
      "Удалено, %: 1.5\n"
     ]
    }
   ],
   "source": [
    "# удалим выбросы по дате регистрации\n",
    "len3 = len(data)\n",
    "data = data[data['RegYM']>low]\n",
    "print ('Удалено, %:', round((len3-len(data))/len1*100,1))"
   ]
  },
  {
   "cell_type": "markdown",
   "metadata": {},
   "source": [
    "Теперь займемся пропусками и аномальными значениями в других признаках. Но прежде, несколько преобразуем таблицу."
   ]
  },
  {
   "cell_type": "code",
   "execution_count": 14,
   "metadata": {},
   "outputs": [],
   "source": [
    "# объединим Model и Brand - создадим признак ModelBrand\n",
    "data['ModelBrand'] = data['Brand']+str('_')+data['Model']"
   ]
  },
  {
   "cell_type": "code",
   "execution_count": 15,
   "metadata": {},
   "outputs": [
    {
     "data": {
      "text/html": [
       "<div>\n",
       "<style scoped>\n",
       "    .dataframe tbody tr th:only-of-type {\n",
       "        vertical-align: middle;\n",
       "    }\n",
       "\n",
       "    .dataframe tbody tr th {\n",
       "        vertical-align: top;\n",
       "    }\n",
       "\n",
       "    .dataframe thead th {\n",
       "        text-align: right;\n",
       "    }\n",
       "</style>\n",
       "<table border=\"1\" class=\"dataframe\">\n",
       "  <thead>\n",
       "    <tr style=\"text-align: right;\">\n",
       "      <th></th>\n",
       "      <th>Price</th>\n",
       "      <th>VehicleType</th>\n",
       "      <th>Gearbox</th>\n",
       "      <th>Power</th>\n",
       "      <th>Kilometer</th>\n",
       "      <th>FuelType</th>\n",
       "      <th>NotRepaired</th>\n",
       "      <th>RegYM</th>\n",
       "      <th>ModelBrand</th>\n",
       "    </tr>\n",
       "  </thead>\n",
       "  <tbody>\n",
       "    <tr>\n",
       "      <td>0</td>\n",
       "      <td>480</td>\n",
       "      <td>NaN</td>\n",
       "      <td>manual</td>\n",
       "      <td>0</td>\n",
       "      <td>150000</td>\n",
       "      <td>petrol</td>\n",
       "      <td>NaN</td>\n",
       "      <td>1993.000000</td>\n",
       "      <td>volkswagen_golf</td>\n",
       "    </tr>\n",
       "    <tr>\n",
       "      <td>1</td>\n",
       "      <td>9800</td>\n",
       "      <td>suv</td>\n",
       "      <td>auto</td>\n",
       "      <td>163</td>\n",
       "      <td>125000</td>\n",
       "      <td>gasoline</td>\n",
       "      <td>NaN</td>\n",
       "      <td>2004.666667</td>\n",
       "      <td>jeep_grand</td>\n",
       "    </tr>\n",
       "    <tr>\n",
       "      <td>2</td>\n",
       "      <td>1500</td>\n",
       "      <td>small</td>\n",
       "      <td>manual</td>\n",
       "      <td>75</td>\n",
       "      <td>150000</td>\n",
       "      <td>petrol</td>\n",
       "      <td>no</td>\n",
       "      <td>2001.500000</td>\n",
       "      <td>volkswagen_golf</td>\n",
       "    </tr>\n",
       "    <tr>\n",
       "      <td>3</td>\n",
       "      <td>3600</td>\n",
       "      <td>small</td>\n",
       "      <td>manual</td>\n",
       "      <td>69</td>\n",
       "      <td>90000</td>\n",
       "      <td>gasoline</td>\n",
       "      <td>no</td>\n",
       "      <td>2008.583333</td>\n",
       "      <td>skoda_fabia</td>\n",
       "    </tr>\n",
       "    <tr>\n",
       "      <td>4</td>\n",
       "      <td>650</td>\n",
       "      <td>sedan</td>\n",
       "      <td>manual</td>\n",
       "      <td>102</td>\n",
       "      <td>150000</td>\n",
       "      <td>petrol</td>\n",
       "      <td>yes</td>\n",
       "      <td>1995.833333</td>\n",
       "      <td>bmw_3er</td>\n",
       "    </tr>\n",
       "  </tbody>\n",
       "</table>\n",
       "</div>"
      ],
      "text/plain": [
       "   Price VehicleType Gearbox  Power  Kilometer  FuelType NotRepaired  \\\n",
       "0    480         NaN  manual      0     150000    petrol         NaN   \n",
       "1   9800         suv    auto    163     125000  gasoline         NaN   \n",
       "2   1500       small  manual     75     150000    petrol          no   \n",
       "3   3600       small  manual     69      90000  gasoline          no   \n",
       "4    650       sedan  manual    102     150000    petrol         yes   \n",
       "\n",
       "         RegYM       ModelBrand  \n",
       "0  1993.000000  volkswagen_golf  \n",
       "1  2004.666667       jeep_grand  \n",
       "2  2001.500000  volkswagen_golf  \n",
       "3  2008.583333      skoda_fabia  \n",
       "4  1995.833333          bmw_3er  "
      ]
     },
     "execution_count": 15,
     "metadata": {},
     "output_type": "execute_result"
    }
   ],
   "source": [
    "# удалим признаки, которые не оказывают влияние на формирование цены,\n",
    "# а также столбцы RegistrationYear, RegistrationMonth, Model и Brand\n",
    "data = data.drop(columns=['DateCrawled','DateCreated','NumberOfPictures','PostalCode','LastSeen', 'RegistrationYear', 'RegistrationMonth','Model','Brand'])\n",
    "data.head()"
   ]
  },
  {
   "cell_type": "code",
   "execution_count": 16,
   "metadata": {},
   "outputs": [
    {
     "name": "stdout",
     "output_type": "stream",
     "text": [
      "0 ... 20000\n"
     ]
    }
   ],
   "source": [
    "# проверим разброс значений цены\n",
    "print(data['Price'].min(),'...',data['Price'].max())"
   ]
  },
  {
   "cell_type": "markdown",
   "metadata": {},
   "source": [
    "-требуется обработка аномальных значений цены."
   ]
  },
  {
   "cell_type": "code",
   "execution_count": 17,
   "metadata": {},
   "outputs": [
    {
     "data": {
      "text/plain": [
       "sedan          86230\n",
       "small          75893\n",
       "wagon          62763\n",
       "bus            27507\n",
       "convertible    18742\n",
       "coupe          14371\n",
       "suv            10964\n",
       "other           2606\n",
       "Name: VehicleType, dtype: int64"
      ]
     },
     "execution_count": 17,
     "metadata": {},
     "output_type": "execute_result"
    }
   ],
   "source": [
    "# проверим значения типа кузова\n",
    "data['VehicleType'].value_counts()"
   ]
  },
  {
   "cell_type": "markdown",
   "metadata": {},
   "source": [
    "-смысловых дупликатов нет; присутствует значение 'other', но не будем его обрабатывать, чтобы не искажать данные."
   ]
  },
  {
   "cell_type": "code",
   "execution_count": 18,
   "metadata": {},
   "outputs": [
    {
     "name": "stdout",
     "output_type": "stream",
     "text": [
      "0 ... 20000\n"
     ]
    }
   ],
   "source": [
    "# проверим разброс значений мощности\n",
    "print(data['Power'].min(),'...',data['Power'].max())"
   ]
  },
  {
   "cell_type": "markdown",
   "metadata": {},
   "source": [
    "-требуется обработка аномальных значений мощности."
   ]
  },
  {
   "cell_type": "code",
   "execution_count": 19,
   "metadata": {},
   "outputs": [
    {
     "name": "stdout",
     "output_type": "stream",
     "text": [
      "5000 ... 150000\n"
     ]
    }
   ],
   "source": [
    "# проверим разброс значений пробега\n",
    "print(data['Kilometer'].min(),'...',data['Kilometer'].max())"
   ]
  },
  {
   "cell_type": "code",
   "execution_count": 20,
   "metadata": {},
   "outputs": [
    {
     "data": {
      "text/plain": [
       "petrol      195136\n",
       "gasoline     92456\n",
       "lpg           4734\n",
       "cng            511\n",
       "hybrid         195\n",
       "other          100\n",
       "electric        63\n",
       "Name: FuelType, dtype: int64"
      ]
     },
     "execution_count": 20,
     "metadata": {},
     "output_type": "execute_result"
    }
   ],
   "source": [
    "# проверим значения типа топлива\n",
    "data['FuelType'].value_counts()"
   ]
  },
  {
   "cell_type": "markdown",
   "metadata": {},
   "source": [
    "-смысловых дупликатов нет; присутствует значение 'other', но не будем его обрабатывать, чтобы не искажать данные."
   ]
  },
  {
   "cell_type": "markdown",
   "metadata": {},
   "source": [
    "Для каждой модели удалим наблюдения с аномальными значениями цены (лежащими за пределами диаграммы размаха) и заполним пропуски типа кузова, коробки передач и топлива наиболее часто встречающимися значениями для данной модели."
   ]
  },
  {
   "cell_type": "code",
   "execution_count": 21,
   "metadata": {},
   "outputs": [
    {
     "name": "stdout",
     "output_type": "stream",
     "text": [
      "Удалено, %: 10.3\n",
      "CPU times: user 1min 6s, sys: 484 ms, total: 1min 7s\n",
      "Wall time: 1min 7s\n"
     ]
    }
   ],
   "source": [
    "%%time\n",
    "\n",
    "min_price = 300 # минимально возможная цена\n",
    "k_price = 1.5 # коэффициент IQR для цены\n",
    "len4 = len(data)\n",
    "\n",
    "for model in data['ModelBrand'].unique():\n",
    "    \n",
    "    extract = data[data['ModelBrand'] == model] # выборка по модели, рассматриваемой на текущем шаге цикла\n",
    "    q1 = extract['Price'].quantile(0.25) # квартиль 25%\n",
    "    q3 = extract['Price'].quantile(0.75) # квартиль 75%\n",
    "    iqr = q3 - q1 # межквартильный интервал\n",
    "    low = q1 - k_price*iqr # минимальное нормальное значение\n",
    "    if low < min_price:\n",
    "        low = min_price\n",
    "    high = q3 + k_price*iqr # максимальное нормальное значение\n",
    "    extract = extract[(extract['Price']>=low) & (extract['Price']<=high)] # выборка по модели за исключением аномальных значений\n",
    "    \n",
    "    # заполнение пропусков в типе кузова\n",
    "    vtype = extract['VehicleType'].mode()[0]\n",
    "    extract['VehicleType']=extract['VehicleType'].fillna(vtype)\n",
    "    \n",
    "    # заполнение пропусков в типе коробки передач\n",
    "    gearbox = extract['Gearbox'].mode()[0]\n",
    "    extract['Gearbox']=extract['Gearbox'].fillna(gearbox)\n",
    "    \n",
    "    # заполнение пропусков в типе топлива\n",
    "    ftype = extract['FuelType'].mode()[0]\n",
    "    extract['FuelType']=extract['FuelType'].fillna(ftype)\n",
    "\n",
    "    # замена в базе данных выборки по данной модели на выборку с удаленными аномальными значениями и заполненными пропусками:\n",
    "    data = data[data['ModelBrand'] != model]\n",
    "    data = pd.concat([data, extract])\n",
    "\n",
    "print ('Удалено, %:', round((len4-len(data))/len4*100,1))"
   ]
  },
  {
   "cell_type": "code",
   "execution_count": 22,
   "metadata": {},
   "outputs": [],
   "source": [
    "# заполним пропуски в информации о ремонте на 'yes' - логично предположить, что при отсутствии ремонта, продавец обязательно\n",
    "# указал бы это преимущество\n",
    "data['NotRepaired']=data['NotRepaired'].fillna('yes')"
   ]
  },
  {
   "cell_type": "markdown",
   "metadata": {},
   "source": [
    "Заменим аномальные значения мощности на медианные значения по модели и типу топлива."
   ]
  },
  {
   "cell_type": "code",
   "execution_count": 23,
   "metadata": {},
   "outputs": [],
   "source": [
    "# ограничим пределы мощности исходя из практически возможных значений\n",
    "min_power = 50\n",
    "max_power = 500\n",
    "\n",
    "# дополнительно ограничим пределы мощности согласно диограмме размаха\n",
    "k_power = 1.5 # коэффициент IQR для мощности\n",
    "q1 = data['Power'].quantile(0.25)\n",
    "q3 = data['Power'].quantile(0.75)       \n",
    "iqr = q3 - q1\n",
    "low = q1 - k_power*iqr # нижний предел мощности\n",
    "if low < min_power:\n",
    "    low = min_power    \n",
    "high = q3 + k_power*iqr # верхний предел мощности\n",
    "if high > max_power:\n",
    "    high = max_power"
   ]
  },
  {
   "cell_type": "code",
   "execution_count": 24,
   "metadata": {},
   "outputs": [],
   "source": [
    "# временно заменим аномальные значения мощности на пропуски\n",
    "data.loc[data.Power < low, 'Power'] = np.nan\n",
    "data.loc[data.Power > high, 'Power'] = np.nan"
   ]
  },
  {
   "cell_type": "code",
   "execution_count": 25,
   "metadata": {},
   "outputs": [],
   "source": [
    "# создадим вспомогательный столбец 'FBM' - Fuel_Model_Brand\n",
    "data['FMB'] = data['FuelType']+str('_')+data['ModelBrand']"
   ]
  },
  {
   "cell_type": "code",
   "execution_count": 26,
   "metadata": {},
   "outputs": [
    {
     "name": "stdout",
     "output_type": "stream",
     "text": [
      "CPU times: user 56.4 s, sys: 51.9 ms, total: 56.4 s\n",
      "Wall time: 57.6 s\n"
     ]
    }
   ],
   "source": [
    "%%time\n",
    "\n",
    "# заменим пропуски (аномальные значения) мощности на медианные значения по модели и типу топлива\n",
    "for fmb in data['FMB'].unique():\n",
    "    power = data[(data['FMB']==fmb) & (data['Power'].isna()==False)]['Power'].median()\n",
    "    data.loc[(data['FMB']==fmb) & (data['Power'].isna()==True), 'Power'] = data[(data['FMB']==fmb) & (data['Power'].isna()==True)]['Power'].fillna(power)"
   ]
  },
  {
   "cell_type": "code",
   "execution_count": 27,
   "metadata": {},
   "outputs": [
    {
     "data": {
      "text/plain": [
       "242"
      ]
     },
     "execution_count": 27,
     "metadata": {},
     "output_type": "execute_result"
    }
   ],
   "source": [
    "# для редких моделей/типов топлива возможно значение power == NaN в ячейке выше:\n",
    "data['Power'].isna().sum()"
   ]
  },
  {
   "cell_type": "code",
   "execution_count": 28,
   "metadata": {},
   "outputs": [],
   "source": [
    "# заменим оставшиеся пропуски в столбце 'Power' на медианное значение мощности по всей базе данных\n",
    "data['Power'] = data['Power'].fillna(data['Power'].median())"
   ]
  },
  {
   "cell_type": "code",
   "execution_count": 29,
   "metadata": {},
   "outputs": [
    {
     "name": "stdout",
     "output_type": "stream",
     "text": [
      "50.0 ... 247.0\n"
     ]
    }
   ],
   "source": [
    "# еще раз проверим разброс значений мощности\n",
    "print(data['Power'].min(),'...',data['Power'].max())"
   ]
  },
  {
   "cell_type": "markdown",
   "metadata": {},
   "source": [
    "-теперь ок."
   ]
  },
  {
   "cell_type": "code",
   "execution_count": 30,
   "metadata": {},
   "outputs": [],
   "source": [
    "# удалим вспомогательный столбец 'FMB'\n",
    "data = data.drop(columns='FMB')"
   ]
  },
  {
   "cell_type": "markdown",
   "metadata": {},
   "source": [
    "Предобработка данных произведена.  "
   ]
  },
  {
   "cell_type": "code",
   "execution_count": 31,
   "metadata": {},
   "outputs": [
    {
     "data": {
      "text/html": [
       "<div>\n",
       "<style scoped>\n",
       "    .dataframe tbody tr th:only-of-type {\n",
       "        vertical-align: middle;\n",
       "    }\n",
       "\n",
       "    .dataframe tbody tr th {\n",
       "        vertical-align: top;\n",
       "    }\n",
       "\n",
       "    .dataframe thead th {\n",
       "        text-align: right;\n",
       "    }\n",
       "</style>\n",
       "<table border=\"1\" class=\"dataframe\">\n",
       "  <thead>\n",
       "    <tr style=\"text-align: right;\">\n",
       "      <th></th>\n",
       "      <th>Price</th>\n",
       "      <th>VehicleType</th>\n",
       "      <th>Gearbox</th>\n",
       "      <th>Power</th>\n",
       "      <th>Kilometer</th>\n",
       "      <th>FuelType</th>\n",
       "      <th>NotRepaired</th>\n",
       "      <th>RegYM</th>\n",
       "      <th>ModelBrand</th>\n",
       "    </tr>\n",
       "  </thead>\n",
       "  <tbody>\n",
       "    <tr>\n",
       "      <td>0</td>\n",
       "      <td>480</td>\n",
       "      <td>sedan</td>\n",
       "      <td>manual</td>\n",
       "      <td>90.0</td>\n",
       "      <td>150000</td>\n",
       "      <td>petrol</td>\n",
       "      <td>yes</td>\n",
       "      <td>1993.000000</td>\n",
       "      <td>volkswagen_golf</td>\n",
       "    </tr>\n",
       "    <tr>\n",
       "      <td>2</td>\n",
       "      <td>1500</td>\n",
       "      <td>small</td>\n",
       "      <td>manual</td>\n",
       "      <td>75.0</td>\n",
       "      <td>150000</td>\n",
       "      <td>petrol</td>\n",
       "      <td>no</td>\n",
       "      <td>2001.500000</td>\n",
       "      <td>volkswagen_golf</td>\n",
       "    </tr>\n",
       "    <tr>\n",
       "      <td>8</td>\n",
       "      <td>999</td>\n",
       "      <td>small</td>\n",
       "      <td>manual</td>\n",
       "      <td>101.0</td>\n",
       "      <td>150000</td>\n",
       "      <td>petrol</td>\n",
       "      <td>yes</td>\n",
       "      <td>1998.000000</td>\n",
       "      <td>volkswagen_golf</td>\n",
       "    </tr>\n",
       "    <tr>\n",
       "      <td>57</td>\n",
       "      <td>1000</td>\n",
       "      <td>sedan</td>\n",
       "      <td>manual</td>\n",
       "      <td>101.0</td>\n",
       "      <td>150000</td>\n",
       "      <td>petrol</td>\n",
       "      <td>no</td>\n",
       "      <td>1998.833333</td>\n",
       "      <td>volkswagen_golf</td>\n",
       "    </tr>\n",
       "    <tr>\n",
       "      <td>72</td>\n",
       "      <td>6600</td>\n",
       "      <td>sedan</td>\n",
       "      <td>manual</td>\n",
       "      <td>105.0</td>\n",
       "      <td>150000</td>\n",
       "      <td>gasoline</td>\n",
       "      <td>no</td>\n",
       "      <td>2006.833333</td>\n",
       "      <td>volkswagen_golf</td>\n",
       "    </tr>\n",
       "  </tbody>\n",
       "</table>\n",
       "</div>"
      ],
      "text/plain": [
       "    Price VehicleType Gearbox  Power  Kilometer  FuelType NotRepaired  \\\n",
       "0     480       sedan  manual   90.0     150000    petrol         yes   \n",
       "2    1500       small  manual   75.0     150000    petrol          no   \n",
       "8     999       small  manual  101.0     150000    petrol         yes   \n",
       "57   1000       sedan  manual  101.0     150000    petrol          no   \n",
       "72   6600       sedan  manual  105.0     150000  gasoline          no   \n",
       "\n",
       "          RegYM       ModelBrand  \n",
       "0   1993.000000  volkswagen_golf  \n",
       "2   2001.500000  volkswagen_golf  \n",
       "8   1998.000000  volkswagen_golf  \n",
       "57  1998.833333  volkswagen_golf  \n",
       "72  2006.833333  volkswagen_golf  "
      ]
     },
     "execution_count": 31,
     "metadata": {},
     "output_type": "execute_result"
    }
   ],
   "source": [
    "data.head()"
   ]
  },
  {
   "cell_type": "markdown",
   "metadata": {},
   "source": [
    "### 2. Обучение моделей"
   ]
  },
  {
   "cell_type": "markdown",
   "metadata": {},
   "source": [
    "Т.к. будем использовать библиотеку LightGBM, то переведем тип категориальных признаков из 'object' в 'category'.  \n",
    "Масштабируем численные признаки.  \n",
    "В качестве метрики качества будем использовать RMSE (кв.корень из СКО)."
   ]
  },
  {
   "cell_type": "code",
   "execution_count": 32,
   "metadata": {},
   "outputs": [],
   "source": [
    "# список категориальных признаков\n",
    "categorical = ['VehicleType', 'Gearbox', 'FuelType', 'NotRepaired', 'ModelBrand']"
   ]
  },
  {
   "cell_type": "code",
   "execution_count": 33,
   "metadata": {},
   "outputs": [],
   "source": [
    "data[categorical]=data[categorical].astype('category')"
   ]
  },
  {
   "cell_type": "code",
   "execution_count": 34,
   "metadata": {},
   "outputs": [
    {
     "name": "stdout",
     "output_type": "stream",
     "text": [
      "<class 'pandas.core.frame.DataFrame'>\n",
      "Int64Index: 279586 entries, 0 to 254318\n",
      "Data columns (total 9 columns):\n",
      "Price          279586 non-null int64\n",
      "VehicleType    279586 non-null category\n",
      "Gearbox        279586 non-null category\n",
      "Power          279586 non-null float64\n",
      "Kilometer      279586 non-null int64\n",
      "FuelType       279586 non-null category\n",
      "NotRepaired    279586 non-null category\n",
      "RegYM          279586 non-null float64\n",
      "ModelBrand     279586 non-null category\n",
      "dtypes: category(5), float64(2), int64(2)\n",
      "memory usage: 12.3 MB\n"
     ]
    }
   ],
   "source": [
    "data.info()"
   ]
  },
  {
   "cell_type": "code",
   "execution_count": 35,
   "metadata": {},
   "outputs": [],
   "source": [
    "# инициализация scaler'a\n",
    "from sklearn.preprocessing import StandardScaler\n",
    "scaler = StandardScaler()"
   ]
  },
  {
   "cell_type": "code",
   "execution_count": 36,
   "metadata": {},
   "outputs": [],
   "source": [
    "# список признаков, которые будем масштабировать\n",
    "numeric = ['Power', 'Kilometer', 'RegYM']"
   ]
  },
  {
   "cell_type": "code",
   "execution_count": 37,
   "metadata": {},
   "outputs": [
    {
     "data": {
      "text/plain": [
       "StandardScaler(copy=True, with_mean=True, with_std=True)"
      ]
     },
     "execution_count": 37,
     "metadata": {},
     "output_type": "execute_result"
    }
   ],
   "source": [
    "# настроим scaler по полной выборке\n",
    "scaler.fit(data[numeric])"
   ]
  },
  {
   "cell_type": "markdown",
   "metadata": {},
   "source": [
    "Выделим обучающую,валидационную и тестовую выборки. Затем применим scaler к каждой выборке отдельно."
   ]
  },
  {
   "cell_type": "code",
   "execution_count": 38,
   "metadata": {},
   "outputs": [],
   "source": [
    "# импорт функции train_test_split библиотеки sklearn\n",
    "from sklearn.model_selection import train_test_split"
   ]
  },
  {
   "cell_type": "code",
   "execution_count": 39,
   "metadata": {},
   "outputs": [],
   "source": [
    "# выделение тестовой выборки\n",
    "data_1, test = train_test_split(data, test_size=0.2, random_state=12345)"
   ]
  },
  {
   "cell_type": "code",
   "execution_count": 40,
   "metadata": {},
   "outputs": [],
   "source": [
    "# выделение обучающей и валидационной выборок\n",
    "train, valid = train_test_split(data_1, test_size=0.25, random_state=12345)"
   ]
  },
  {
   "cell_type": "code",
   "execution_count": 41,
   "metadata": {},
   "outputs": [
    {
     "name": "stdout",
     "output_type": "stream",
     "text": [
      "Длина выборки\n",
      "- обучающая:  167751\n",
      "- валидационная:  55917\n",
      "- тестовая:  55918\n"
     ]
    }
   ],
   "source": [
    "print('Длина выборки')\n",
    "print('- обучающая: ', len(train))\n",
    "print('- валидационная: ', len(valid))\n",
    "print('- тестовая: ', len(test))"
   ]
  },
  {
   "cell_type": "markdown",
   "metadata": {},
   "source": [
    "Применим scaler к каждой выборке:"
   ]
  },
  {
   "cell_type": "code",
   "execution_count": 42,
   "metadata": {},
   "outputs": [
    {
     "name": "stderr",
     "output_type": "stream",
     "text": [
      "/opt/conda/lib/python3.7/site-packages/ipykernel_launcher.py:1: SettingWithCopyWarning: \n",
      "A value is trying to be set on a copy of a slice from a DataFrame.\n",
      "Try using .loc[row_indexer,col_indexer] = value instead\n",
      "\n",
      "See the caveats in the documentation: http://pandas.pydata.org/pandas-docs/stable/user_guide/indexing.html#returning-a-view-versus-a-copy\n",
      "  \"\"\"Entry point for launching an IPython kernel.\n",
      "/opt/conda/lib/python3.7/site-packages/pandas/core/indexing.py:494: SettingWithCopyWarning: \n",
      "A value is trying to be set on a copy of a slice from a DataFrame.\n",
      "Try using .loc[row_indexer,col_indexer] = value instead\n",
      "\n",
      "See the caveats in the documentation: http://pandas.pydata.org/pandas-docs/stable/user_guide/indexing.html#returning-a-view-versus-a-copy\n",
      "  self.obj[item] = s\n",
      "/opt/conda/lib/python3.7/site-packages/ipykernel_launcher.py:2: SettingWithCopyWarning: \n",
      "A value is trying to be set on a copy of a slice from a DataFrame.\n",
      "Try using .loc[row_indexer,col_indexer] = value instead\n",
      "\n",
      "See the caveats in the documentation: http://pandas.pydata.org/pandas-docs/stable/user_guide/indexing.html#returning-a-view-versus-a-copy\n",
      "  \n",
      "/opt/conda/lib/python3.7/site-packages/pandas/core/indexing.py:494: SettingWithCopyWarning: \n",
      "A value is trying to be set on a copy of a slice from a DataFrame.\n",
      "Try using .loc[row_indexer,col_indexer] = value instead\n",
      "\n",
      "See the caveats in the documentation: http://pandas.pydata.org/pandas-docs/stable/user_guide/indexing.html#returning-a-view-versus-a-copy\n",
      "  self.obj[item] = s\n",
      "/opt/conda/lib/python3.7/site-packages/ipykernel_launcher.py:3: SettingWithCopyWarning: \n",
      "A value is trying to be set on a copy of a slice from a DataFrame.\n",
      "Try using .loc[row_indexer,col_indexer] = value instead\n",
      "\n",
      "See the caveats in the documentation: http://pandas.pydata.org/pandas-docs/stable/user_guide/indexing.html#returning-a-view-versus-a-copy\n",
      "  This is separate from the ipykernel package so we can avoid doing imports until\n",
      "/opt/conda/lib/python3.7/site-packages/pandas/core/indexing.py:494: SettingWithCopyWarning: \n",
      "A value is trying to be set on a copy of a slice from a DataFrame.\n",
      "Try using .loc[row_indexer,col_indexer] = value instead\n",
      "\n",
      "See the caveats in the documentation: http://pandas.pydata.org/pandas-docs/stable/user_guide/indexing.html#returning-a-view-versus-a-copy\n",
      "  self.obj[item] = s\n"
     ]
    }
   ],
   "source": [
    "train[numeric] = scaler.transform(train[numeric])\n",
    "valid[numeric] = scaler.transform(valid[numeric])\n",
    "test[numeric] = scaler.transform(test[numeric])"
   ]
  },
  {
   "cell_type": "markdown",
   "metadata": {},
   "source": [
    "Предупреждение SettingWithCopyWarning (выше) можно проигнорировать, т.к. датасеты train, valid и test изменились корректно:"
   ]
  },
  {
   "cell_type": "code",
   "execution_count": 43,
   "metadata": {},
   "outputs": [
    {
     "data": {
      "text/html": [
       "<div>\n",
       "<style scoped>\n",
       "    .dataframe tbody tr th:only-of-type {\n",
       "        vertical-align: middle;\n",
       "    }\n",
       "\n",
       "    .dataframe tbody tr th {\n",
       "        vertical-align: top;\n",
       "    }\n",
       "\n",
       "    .dataframe thead th {\n",
       "        text-align: right;\n",
       "    }\n",
       "</style>\n",
       "<table border=\"1\" class=\"dataframe\">\n",
       "  <thead>\n",
       "    <tr style=\"text-align: right;\">\n",
       "      <th></th>\n",
       "      <th>Price</th>\n",
       "      <th>VehicleType</th>\n",
       "      <th>Gearbox</th>\n",
       "      <th>Power</th>\n",
       "      <th>Kilometer</th>\n",
       "      <th>FuelType</th>\n",
       "      <th>NotRepaired</th>\n",
       "      <th>RegYM</th>\n",
       "      <th>ModelBrand</th>\n",
       "    </tr>\n",
       "  </thead>\n",
       "  <tbody>\n",
       "    <tr>\n",
       "      <td>128968</td>\n",
       "      <td>12500</td>\n",
       "      <td>small</td>\n",
       "      <td>manual</td>\n",
       "      <td>0.088687</td>\n",
       "      <td>-2.110794</td>\n",
       "      <td>petrol</td>\n",
       "      <td>no</td>\n",
       "      <td>1.523868</td>\n",
       "      <td>audi_a1</td>\n",
       "    </tr>\n",
       "    <tr>\n",
       "      <td>6756</td>\n",
       "      <td>3200</td>\n",
       "      <td>sedan</td>\n",
       "      <td>manual</td>\n",
       "      <td>-0.627414</td>\n",
       "      <td>0.548394</td>\n",
       "      <td>petrol</td>\n",
       "      <td>no</td>\n",
       "      <td>0.144911</td>\n",
       "      <td>volkswagen_golf</td>\n",
       "    </tr>\n",
       "    <tr>\n",
       "      <td>40955</td>\n",
       "      <td>1200</td>\n",
       "      <td>small</td>\n",
       "      <td>manual</td>\n",
       "      <td>-1.298759</td>\n",
       "      <td>0.548394</td>\n",
       "      <td>petrol</td>\n",
       "      <td>no</td>\n",
       "      <td>-0.409842</td>\n",
       "      <td>peugeot_2_reihe</td>\n",
       "    </tr>\n",
       "    <tr>\n",
       "      <td>281897</td>\n",
       "      <td>3790</td>\n",
       "      <td>bus</td>\n",
       "      <td>manual</td>\n",
       "      <td>-0.381254</td>\n",
       "      <td>0.548394</td>\n",
       "      <td>gasoline</td>\n",
       "      <td>yes</td>\n",
       "      <td>0.430212</td>\n",
       "      <td>opel_zafira</td>\n",
       "    </tr>\n",
       "    <tr>\n",
       "      <td>31570</td>\n",
       "      <td>950</td>\n",
       "      <td>small</td>\n",
       "      <td>manual</td>\n",
       "      <td>-1.522541</td>\n",
       "      <td>0.548394</td>\n",
       "      <td>petrol</td>\n",
       "      <td>yes</td>\n",
       "      <td>-0.806095</td>\n",
       "      <td>volkswagen_lupo</td>\n",
       "    </tr>\n",
       "  </tbody>\n",
       "</table>\n",
       "</div>"
      ],
      "text/plain": [
       "        Price VehicleType Gearbox     Power  Kilometer  FuelType NotRepaired  \\\n",
       "128968  12500       small  manual  0.088687  -2.110794    petrol          no   \n",
       "6756     3200       sedan  manual -0.627414   0.548394    petrol          no   \n",
       "40955    1200       small  manual -1.298759   0.548394    petrol          no   \n",
       "281897   3790         bus  manual -0.381254   0.548394  gasoline         yes   \n",
       "31570     950       small  manual -1.522541   0.548394    petrol         yes   \n",
       "\n",
       "           RegYM       ModelBrand  \n",
       "128968  1.523868          audi_a1  \n",
       "6756    0.144911  volkswagen_golf  \n",
       "40955  -0.409842  peugeot_2_reihe  \n",
       "281897  0.430212      opel_zafira  \n",
       "31570  -0.806095  volkswagen_lupo  "
      ]
     },
     "execution_count": 43,
     "metadata": {},
     "output_type": "execute_result"
    }
   ],
   "source": [
    "train.head()"
   ]
  },
  {
   "cell_type": "markdown",
   "metadata": {},
   "source": [
    "Данные готовы для обучения моделей."
   ]
  },
  {
   "cell_type": "code",
   "execution_count": 44,
   "metadata": {},
   "outputs": [],
   "source": [
    "# импорт библиотеки LightGBM\n",
    "import lightgbm as lgb"
   ]
  },
  {
   "cell_type": "code",
   "execution_count": 45,
   "metadata": {},
   "outputs": [],
   "source": [
    "# признаки\n",
    "x_train = train.drop(columns='Price')\n",
    "x_valid = valid.drop(columns='Price')\n",
    "x_test = test.drop(columns='Price')"
   ]
  },
  {
   "cell_type": "code",
   "execution_count": 46,
   "metadata": {},
   "outputs": [],
   "source": [
    "# целевой признак\n",
    "y_train = train['Price']\n",
    "y_valid = valid['Price']\n",
    "y_test = test['Price']"
   ]
  },
  {
   "cell_type": "code",
   "execution_count": 47,
   "metadata": {},
   "outputs": [],
   "source": [
    "# импорт функции расчета СКО (MSE) \n",
    "from sklearn.metrics import mean_squared_error as mse"
   ]
  },
  {
   "cell_type": "markdown",
   "metadata": {},
   "source": [
    "### 2.1. Модель Gradient Boosting Decision Tree."
   ]
  },
  {
   "cell_type": "code",
   "execution_count": 48,
   "metadata": {},
   "outputs": [],
   "source": [
    "# заготовка таблицы вывода результата алгоритма 'gradient boosting decision tree'\n",
    "columns = ['boosting_type','rmse','feature_fraction','learning_rate', 'iterations/n_estimators','max_depth','num_leaves','min_data_in_leaf','max_bin']\n",
    "data_gbdt = []"
   ]
  },
  {
   "cell_type": "code",
   "execution_count": 49,
   "metadata": {},
   "outputs": [],
   "source": [
    "pd.set_option('display.max_rows', None)"
   ]
  },
  {
   "cell_type": "code",
   "execution_count": 50,
   "metadata": {},
   "outputs": [
    {
     "name": "stdout",
     "output_type": "stream",
     "text": [
      "CPU times: user 55.3 s, sys: 317 ms, total: 55.6 s\n",
      "Wall time: 56.1 s\n"
     ]
    }
   ],
   "source": [
    "%%time\n",
    "\n",
    "# Эти параметры менять не будем:\n",
    "feature_fraction = 0.8\n",
    "bagging_freq = 2\n",
    "bagging_fraction = 0.5\n",
    "\n",
    "# Подбор параметров (https://lightgbm.readthedocs.io/en/latest/Parameters-Tuning.html).\n",
    "# Т.к. даже при небольшом количестве вариантов значений параметров эта операция длится 33 мин, то реально рассмотренные\n",
    "# варианты значений закомментируем. Оставим только вариант с наилучшими результатами.\n",
    "\n",
    "for learning_rate in [0.1]: #[0.1,0.3,0.5]:\n",
    "    for max_depth in [9]: #[7,8,9]:\n",
    "        for num_leaves in [250]: #[150,200,250]:\n",
    "            for min_data_in_leaf in [10]: #[5,10,15]:\n",
    "                for max_bin in [100]: #[50,100]:\n",
    "                    params = {} \n",
    "                    params['feature_fraction'] = feature_fraction\n",
    "                    params['bagging_freq'] = bagging_freq\n",
    "                    params['bagging_fraction'] = bagging_fraction\n",
    "                    params['learning_rate'] = learning_rate\n",
    "                    params['boosting_type'] = 'gbdt'\n",
    "                    params['objective'] = 'regression'\n",
    "                    params['metric'] = 'rmse'\n",
    "                    params['max_depth'] = max_depth\n",
    "                    params['num_leaves'] = num_leaves\n",
    "                    params['min_data_in_leaf'] = min_data_in_leaf\n",
    "                    params['max_bin'] = max_bin\n",
    "                    params['n_estimators'] = 100\n",
    "                    params['random_state'] = 12345\n",
    "                    model = lgb.LGBMRegressor(**params)\n",
    "                    model.fit(x_train, y_train)\n",
    "                    y_pred = model.predict(x_valid)\n",
    "                    rmse = round(mse(y_valid,y_pred)**0.5,1)\n",
    "                    line_gbdt1 = ['gbdt',rmse, feature_fraction, learning_rate, 100, max_depth,num_leaves,min_data_in_leaf,max_bin]\n",
    "                    data_gbdt.append(line_gbdt1)             "
   ]
  },
  {
   "cell_type": "code",
   "execution_count": 51,
   "metadata": {},
   "outputs": [
    {
     "data": {
      "text/html": [
       "<div>\n",
       "<style scoped>\n",
       "    .dataframe tbody tr th:only-of-type {\n",
       "        vertical-align: middle;\n",
       "    }\n",
       "\n",
       "    .dataframe tbody tr th {\n",
       "        vertical-align: top;\n",
       "    }\n",
       "\n",
       "    .dataframe thead th {\n",
       "        text-align: right;\n",
       "    }\n",
       "</style>\n",
       "<table border=\"1\" class=\"dataframe\">\n",
       "  <thead>\n",
       "    <tr style=\"text-align: right;\">\n",
       "      <th></th>\n",
       "      <th>boosting_type</th>\n",
       "      <th>rmse</th>\n",
       "      <th>feature_fraction</th>\n",
       "      <th>learning_rate</th>\n",
       "      <th>iterations/n_estimators</th>\n",
       "      <th>max_depth</th>\n",
       "      <th>num_leaves</th>\n",
       "      <th>min_data_in_leaf</th>\n",
       "      <th>max_bin</th>\n",
       "    </tr>\n",
       "  </thead>\n",
       "  <tbody>\n",
       "    <tr>\n",
       "      <td>0</td>\n",
       "      <td>gbdt</td>\n",
       "      <td>1466.5</td>\n",
       "      <td>0.8</td>\n",
       "      <td>0.1</td>\n",
       "      <td>100</td>\n",
       "      <td>9</td>\n",
       "      <td>250</td>\n",
       "      <td>10</td>\n",
       "      <td>100</td>\n",
       "    </tr>\n",
       "  </tbody>\n",
       "</table>\n",
       "</div>"
      ],
      "text/plain": [
       "  boosting_type    rmse  feature_fraction  learning_rate  \\\n",
       "0          gbdt  1466.5               0.8            0.1   \n",
       "\n",
       "   iterations/n_estimators  max_depth  num_leaves  min_data_in_leaf  max_bin  \n",
       "0                      100          9         250                10      100  "
      ]
     },
     "execution_count": 51,
     "metadata": {},
     "output_type": "execute_result"
    }
   ],
   "source": [
    "# предварительная таблица результатов алгоритма 'gradient boosting decision tree'\n",
    "summary_gbdt = pd.DataFrame(data=data_gbdt, columns=columns).sort_values(by='rmse').reset_index(drop=True)\n",
    "summary_gbdt"
   ]
  },
  {
   "cell_type": "code",
   "execution_count": 52,
   "metadata": {},
   "outputs": [],
   "source": [
    "# зафиксируем значения параметров лучшего результата на данном этапе\n",
    "learning_rate1 = summary_gbdt.loc[0,'learning_rate']\n",
    "max_depth1 = summary_gbdt.loc[0,'max_depth']\n",
    "num_leaves1 =  summary_gbdt.loc[0,'num_leaves']\n",
    "min_data_in_leaf1 = summary_gbdt.loc[0,'min_data_in_leaf']\n",
    "max_bin1 = summary_gbdt.loc[0,'max_bin']\n",
    "iterations1 = summary_gbdt.loc[0,'iterations/n_estimators']"
   ]
  },
  {
   "cell_type": "code",
   "execution_count": 53,
   "metadata": {},
   "outputs": [
    {
     "name": "stdout",
     "output_type": "stream",
     "text": [
      "CPU times: user 11min 50s, sys: 2.77 s, total: 11min 53s\n",
      "Wall time: 11min 57s\n"
     ]
    }
   ],
   "source": [
    "%%time\n",
    "\n",
    "# Попробуем улучшить результат, увеличив параметр 'num_leaves' до значения, рекомендованного документацией\n",
    "# библиотеки (num_leaves несколько меньше, чем 2^(max_depth) - возьмем коэффициент 0.6) и увеличив число итераций в два раза (до 200).\n",
    "\n",
    "iterations = 200\n",
    "params['learning_rate'] = learning_rate1\n",
    "params['max_depth'] = max_depth1\n",
    "params['num_leaves'] = int(0.6*(2**max_depth1))\n",
    "params['min_data_in_leaf'] = min_data_in_leaf1\n",
    "params['max_bin'] = max_bin1\n",
    "params['n_estimators'] = iterations\n",
    "params['random_state'] = 12345\n",
    "model = lgb.LGBMRegressor(**params)\n",
    "model.fit(x_train, y_train)\n",
    "y_pred = model.predict(x_valid)\n",
    "rmse = round(mse(y_valid,y_pred)**0.5,1)\n",
    "line_gbdt2 = ['gbdt',rmse, feature_fraction,learning_rate1, iterations, max_depth1,int(0.6*(2**max_depth1)),min_data_in_leaf1,max_bin1]\n",
    "data_gbdt.append(line_gbdt2)"
   ]
  },
  {
   "cell_type": "code",
   "execution_count": 54,
   "metadata": {},
   "outputs": [
    {
     "data": {
      "text/html": [
       "<div>\n",
       "<style scoped>\n",
       "    .dataframe tbody tr th:only-of-type {\n",
       "        vertical-align: middle;\n",
       "    }\n",
       "\n",
       "    .dataframe tbody tr th {\n",
       "        vertical-align: top;\n",
       "    }\n",
       "\n",
       "    .dataframe thead th {\n",
       "        text-align: right;\n",
       "    }\n",
       "</style>\n",
       "<table border=\"1\" class=\"dataframe\">\n",
       "  <thead>\n",
       "    <tr style=\"text-align: right;\">\n",
       "      <th></th>\n",
       "      <th>boosting_type</th>\n",
       "      <th>rmse</th>\n",
       "      <th>feature_fraction</th>\n",
       "      <th>learning_rate</th>\n",
       "      <th>iterations/n_estimators</th>\n",
       "      <th>max_depth</th>\n",
       "      <th>num_leaves</th>\n",
       "      <th>min_data_in_leaf</th>\n",
       "      <th>max_bin</th>\n",
       "    </tr>\n",
       "  </thead>\n",
       "  <tbody>\n",
       "    <tr>\n",
       "      <td>0</td>\n",
       "      <td>gbdt</td>\n",
       "      <td>1453.8</td>\n",
       "      <td>0.8</td>\n",
       "      <td>0.1</td>\n",
       "      <td>200</td>\n",
       "      <td>9</td>\n",
       "      <td>307</td>\n",
       "      <td>10</td>\n",
       "      <td>100</td>\n",
       "    </tr>\n",
       "    <tr>\n",
       "      <td>1</td>\n",
       "      <td>gbdt</td>\n",
       "      <td>1466.5</td>\n",
       "      <td>0.8</td>\n",
       "      <td>0.1</td>\n",
       "      <td>100</td>\n",
       "      <td>9</td>\n",
       "      <td>250</td>\n",
       "      <td>10</td>\n",
       "      <td>100</td>\n",
       "    </tr>\n",
       "  </tbody>\n",
       "</table>\n",
       "</div>"
      ],
      "text/plain": [
       "  boosting_type    rmse  feature_fraction  learning_rate  \\\n",
       "0          gbdt  1453.8               0.8            0.1   \n",
       "1          gbdt  1466.5               0.8            0.1   \n",
       "\n",
       "   iterations/n_estimators  max_depth  num_leaves  min_data_in_leaf  max_bin  \n",
       "0                      200          9         307                10      100  \n",
       "1                      100          9         250                10      100  "
      ]
     },
     "execution_count": 54,
     "metadata": {},
     "output_type": "execute_result"
    }
   ],
   "source": [
    "# окончательная таблица результатов алгоритма 'gradient boosting decision tree'\n",
    "summary_gbdt2 = pd.DataFrame(data=data_gbdt, columns=columns).sort_values(by='rmse').reset_index(drop=True)\n",
    "summary_gbdt2"
   ]
  },
  {
   "cell_type": "markdown",
   "metadata": {},
   "source": [
    "Значение RMSE незначительно, но улучшилось."
   ]
  },
  {
   "cell_type": "code",
   "execution_count": 55,
   "metadata": {},
   "outputs": [],
   "source": [
    "# зафиксируем значения параметров лучшего результата 'gbdt'\n",
    "learning_rate2 = summary_gbdt2.loc[0,'learning_rate']\n",
    "max_depth2 = summary_gbdt2.loc[0,'max_depth']\n",
    "num_leaves2 =  summary_gbdt2.loc[0,'num_leaves']\n",
    "min_data_in_leaf2 = summary_gbdt2.loc[0,'min_data_in_leaf']\n",
    "max_bin2 = summary_gbdt2.loc[0,'max_bin']\n",
    "iterations2 = summary_gbdt2.loc[0,'iterations/n_estimators']"
   ]
  },
  {
   "cell_type": "markdown",
   "metadata": {},
   "source": [
    "### 2.2. Модель Random Forest."
   ]
  },
  {
   "cell_type": "markdown",
   "metadata": {},
   "source": [
    "Применим алгоритм Random Forest с теми же параметрами, что и лучший вариант Decision Tree.  \n",
    "Попробуем разные значения n_estimators."
   ]
  },
  {
   "cell_type": "code",
   "execution_count": 56,
   "metadata": {},
   "outputs": [],
   "source": [
    "# заготовка таблицы вывода результата алгоритма 'gradient boosting decision tree'\n",
    "data_rf = []"
   ]
  },
  {
   "cell_type": "code",
   "execution_count": 57,
   "metadata": {},
   "outputs": [
    {
     "name": "stdout",
     "output_type": "stream",
     "text": [
      "CPU times: user 2min 11s, sys: 664 ms, total: 2min 12s\n",
      "Wall time: 2min 12s\n"
     ]
    }
   ],
   "source": [
    "%%time\n",
    "\n",
    "for n_estimators in [iterations2]: #[iterations2, 50,100,150]: для экономии времени оставили параметр лучшего результата\n",
    "    params = {}\n",
    "    params['feature_fraction'] = feature_fraction\n",
    "    params['bagging_freq'] = bagging_freq\n",
    "    params['bagging_fraction'] = bagging_fraction\n",
    "    params['learning_rate'] = learning_rate2\n",
    "    params['boosting_type'] = 'rf'\n",
    "    params['objective'] = 'regression'\n",
    "    params['metric'] = 'rmse'\n",
    "    params['max_depth'] = max_depth2\n",
    "    params['num_leaves'] = num_leaves2\n",
    "    params['min_data_in_leaf'] = min_data_in_leaf2\n",
    "    params['max_bin'] = max_bin2\n",
    "    params['n_estimators'] = n_estimators\n",
    "    params['random_state'] = 12345\n",
    "    model = lgb.LGBMRegressor(**params)\n",
    "    model.fit(x_train, y_train)\n",
    "    y_pred = model.predict(x_valid)\n",
    "    rmse = round(mse(y_valid,y_pred)**0.5,1)\n",
    "    line_rf = ['random_forest',rmse, feature_fraction, learning_rate2, n_estimators, max_depth2, num_leaves2, min_data_in_leaf2, max_bin2]\n",
    "    data_rf.append(line_rf)"
   ]
  },
  {
   "cell_type": "code",
   "execution_count": 58,
   "metadata": {},
   "outputs": [
    {
     "data": {
      "text/html": [
       "<div>\n",
       "<style scoped>\n",
       "    .dataframe tbody tr th:only-of-type {\n",
       "        vertical-align: middle;\n",
       "    }\n",
       "\n",
       "    .dataframe tbody tr th {\n",
       "        vertical-align: top;\n",
       "    }\n",
       "\n",
       "    .dataframe thead th {\n",
       "        text-align: right;\n",
       "    }\n",
       "</style>\n",
       "<table border=\"1\" class=\"dataframe\">\n",
       "  <thead>\n",
       "    <tr style=\"text-align: right;\">\n",
       "      <th></th>\n",
       "      <th>boosting_type</th>\n",
       "      <th>rmse</th>\n",
       "      <th>feature_fraction</th>\n",
       "      <th>learning_rate</th>\n",
       "      <th>iterations/n_estimators</th>\n",
       "      <th>max_depth</th>\n",
       "      <th>num_leaves</th>\n",
       "      <th>min_data_in_leaf</th>\n",
       "      <th>max_bin</th>\n",
       "    </tr>\n",
       "  </thead>\n",
       "  <tbody>\n",
       "    <tr>\n",
       "      <td>0</td>\n",
       "      <td>random_forest</td>\n",
       "      <td>1739.4</td>\n",
       "      <td>0.8</td>\n",
       "      <td>0.1</td>\n",
       "      <td>200</td>\n",
       "      <td>9</td>\n",
       "      <td>307</td>\n",
       "      <td>10</td>\n",
       "      <td>100</td>\n",
       "    </tr>\n",
       "  </tbody>\n",
       "</table>\n",
       "</div>"
      ],
      "text/plain": [
       "   boosting_type    rmse  feature_fraction  learning_rate  \\\n",
       "0  random_forest  1739.4               0.8            0.1   \n",
       "\n",
       "   iterations/n_estimators  max_depth  num_leaves  min_data_in_leaf  max_bin  \n",
       "0                      200          9         307                10      100  "
      ]
     },
     "execution_count": 58,
     "metadata": {},
     "output_type": "execute_result"
    }
   ],
   "source": [
    "summary_rf = pd.DataFrame(data=data_rf, columns=columns).sort_values(by='rmse').reset_index(drop=True)\n",
    "summary_rf"
   ]
  },
  {
   "cell_type": "markdown",
   "metadata": {},
   "source": [
    "Как видим, модель 'random_forest' дала менее точный результат."
   ]
  },
  {
   "cell_type": "code",
   "execution_count": 59,
   "metadata": {},
   "outputs": [],
   "source": [
    "# зафиксируем значения параметра n_estimators лучшего результата 'random_forest'\n",
    "n_estimators_rf = summary_rf.loc[0,'iterations/n_estimators']"
   ]
  },
  {
   "cell_type": "markdown",
   "metadata": {},
   "source": [
    "### 2.3. Модель Dropouts meet Multiple Additive Regression Trees."
   ]
  },
  {
   "cell_type": "markdown",
   "metadata": {},
   "source": [
    "Применим алгоритм Dropouts meet Multiple Additive Regression Trees с теми же параметрами, что и лучший вариант Decision Tree. "
   ]
  },
  {
   "cell_type": "code",
   "execution_count": 60,
   "metadata": {},
   "outputs": [
    {
     "name": "stdout",
     "output_type": "stream",
     "text": [
      "CPU times: user 6min 31s, sys: 1.43 s, total: 6min 32s\n",
      "Wall time: 6min 34s\n"
     ]
    }
   ],
   "source": [
    "%%time\n",
    "\n",
    "params = {}\n",
    "params['feature_fraction'] = feature_fraction\n",
    "params['bagging_freq'] = bagging_freq\n",
    "params['bagging_fraction'] = bagging_fraction\n",
    "params['learning_rate'] = learning_rate2\n",
    "params['boosting_type'] = 'dart'\n",
    "params['objective'] = 'regression'\n",
    "params['metric'] = 'rmse'\n",
    "params['max_depth'] = max_depth2\n",
    "params['num_leaves'] = num_leaves2\n",
    "params['min_data_in_leaf'] = min_data_in_leaf2\n",
    "params['max_bin'] = max_bin2\n",
    "params['n_estimators'] = iterations2\n",
    "params['random_state'] = 12345\n",
    "model = lgb.LGBMRegressor(**params)\n",
    "model.fit(x_train, y_train)\n",
    "y_pred = model.predict(x_valid)\n",
    "rmse = round(mse(y_valid,y_pred)**0.5,1)\n",
    "data_dart = [['dart',rmse, feature_fraction, learning_rate2, iterations2, max_depth2, num_leaves2, min_data_in_leaf2, max_bin2]] "
   ]
  },
  {
   "cell_type": "code",
   "execution_count": 61,
   "metadata": {},
   "outputs": [
    {
     "data": {
      "text/html": [
       "<div>\n",
       "<style scoped>\n",
       "    .dataframe tbody tr th:only-of-type {\n",
       "        vertical-align: middle;\n",
       "    }\n",
       "\n",
       "    .dataframe tbody tr th {\n",
       "        vertical-align: top;\n",
       "    }\n",
       "\n",
       "    .dataframe thead th {\n",
       "        text-align: right;\n",
       "    }\n",
       "</style>\n",
       "<table border=\"1\" class=\"dataframe\">\n",
       "  <thead>\n",
       "    <tr style=\"text-align: right;\">\n",
       "      <th></th>\n",
       "      <th>boosting_type</th>\n",
       "      <th>rmse</th>\n",
       "      <th>feature_fraction</th>\n",
       "      <th>learning_rate</th>\n",
       "      <th>iterations/n_estimators</th>\n",
       "      <th>max_depth</th>\n",
       "      <th>num_leaves</th>\n",
       "      <th>min_data_in_leaf</th>\n",
       "      <th>max_bin</th>\n",
       "    </tr>\n",
       "  </thead>\n",
       "  <tbody>\n",
       "    <tr>\n",
       "      <td>0</td>\n",
       "      <td>dart</td>\n",
       "      <td>1535.4</td>\n",
       "      <td>0.8</td>\n",
       "      <td>0.1</td>\n",
       "      <td>200</td>\n",
       "      <td>9</td>\n",
       "      <td>307</td>\n",
       "      <td>10</td>\n",
       "      <td>100</td>\n",
       "    </tr>\n",
       "  </tbody>\n",
       "</table>\n",
       "</div>"
      ],
      "text/plain": [
       "  boosting_type    rmse  feature_fraction  learning_rate  \\\n",
       "0          dart  1535.4               0.8            0.1   \n",
       "\n",
       "   iterations/n_estimators  max_depth  num_leaves  min_data_in_leaf  max_bin  \n",
       "0                      200          9         307                10      100  "
      ]
     },
     "execution_count": 61,
     "metadata": {},
     "output_type": "execute_result"
    }
   ],
   "source": [
    "summary_dart = pd.DataFrame(data=data_dart, columns=columns)\n",
    "summary_dart"
   ]
  },
  {
   "cell_type": "markdown",
   "metadata": {},
   "source": [
    "### 3. Анализ моделей."
   ]
  },
  {
   "cell_type": "code",
   "execution_count": 64,
   "metadata": {},
   "outputs": [
    {
     "data": {
      "text/html": [
       "<div>\n",
       "<style scoped>\n",
       "    .dataframe tbody tr th:only-of-type {\n",
       "        vertical-align: middle;\n",
       "    }\n",
       "\n",
       "    .dataframe tbody tr th {\n",
       "        vertical-align: top;\n",
       "    }\n",
       "\n",
       "    .dataframe thead th {\n",
       "        text-align: right;\n",
       "    }\n",
       "</style>\n",
       "<table border=\"1\" class=\"dataframe\">\n",
       "  <thead>\n",
       "    <tr style=\"text-align: right;\">\n",
       "      <th></th>\n",
       "      <th>boosting_type</th>\n",
       "      <th>rmse</th>\n",
       "      <th>feature_fraction</th>\n",
       "      <th>learning_rate</th>\n",
       "      <th>iterations/n_estimators</th>\n",
       "      <th>max_depth</th>\n",
       "      <th>num_leaves</th>\n",
       "      <th>min_data_in_leaf</th>\n",
       "      <th>max_bin</th>\n",
       "    </tr>\n",
       "  </thead>\n",
       "  <tbody>\n",
       "    <tr>\n",
       "      <td>0</td>\n",
       "      <td>gbdt</td>\n",
       "      <td>1453.8</td>\n",
       "      <td>0.8</td>\n",
       "      <td>0.1</td>\n",
       "      <td>200</td>\n",
       "      <td>9</td>\n",
       "      <td>307</td>\n",
       "      <td>10</td>\n",
       "      <td>100</td>\n",
       "    </tr>\n",
       "    <tr>\n",
       "      <td>1</td>\n",
       "      <td>dart</td>\n",
       "      <td>1535.4</td>\n",
       "      <td>0.8</td>\n",
       "      <td>0.1</td>\n",
       "      <td>200</td>\n",
       "      <td>9</td>\n",
       "      <td>307</td>\n",
       "      <td>10</td>\n",
       "      <td>100</td>\n",
       "    </tr>\n",
       "    <tr>\n",
       "      <td>2</td>\n",
       "      <td>random_forest</td>\n",
       "      <td>1739.4</td>\n",
       "      <td>0.8</td>\n",
       "      <td>0.1</td>\n",
       "      <td>200</td>\n",
       "      <td>9</td>\n",
       "      <td>307</td>\n",
       "      <td>10</td>\n",
       "      <td>100</td>\n",
       "    </tr>\n",
       "  </tbody>\n",
       "</table>\n",
       "</div>"
      ],
      "text/plain": [
       "   boosting_type    rmse  feature_fraction  learning_rate  \\\n",
       "0           gbdt  1453.8               0.8            0.1   \n",
       "1           dart  1535.4               0.8            0.1   \n",
       "2  random_forest  1739.4               0.8            0.1   \n",
       "\n",
       "   iterations/n_estimators  max_depth  num_leaves  min_data_in_leaf  max_bin  \n",
       "0                      200          9         307                10      100  \n",
       "1                      200          9         307                10      100  \n",
       "2                      200          9         307                10      100  "
      ]
     },
     "execution_count": 64,
     "metadata": {},
     "output_type": "execute_result"
    }
   ],
   "source": [
    "# таблица сравнения рассмотренных моделей на валидационной выборке\n",
    "summary_valid = pd.concat([summary_gbdt2.head(1), summary_rf.head(1), summary_dart]).sort_values(by='rmse').reset_index(drop=True)\n",
    "summary_valid"
   ]
  },
  {
   "cell_type": "markdown",
   "metadata": {},
   "source": [
    "Проверим работу этих четырех моделей на тестовой выборке и сравним также скорость их работы - добавим столбец 'time'."
   ]
  },
  {
   "cell_type": "code",
   "execution_count": 65,
   "metadata": {},
   "outputs": [],
   "source": [
    "# заготовка таблицы вывода результата алгоритма 'gradient boosting decision tree'\n",
    "columns_test = ['boosting_type','execution_time, sec','rmse','feature_fraction','learning_rate', 'iterations/n_estimators','max_depth','num_leaves','min_data_in_leaf','max_bin']\n",
    "data_test = []"
   ]
  },
  {
   "cell_type": "code",
   "execution_count": 66,
   "metadata": {},
   "outputs": [],
   "source": [
    "import time"
   ]
  },
  {
   "cell_type": "code",
   "execution_count": 67,
   "metadata": {},
   "outputs": [],
   "source": [
    "# параметры, общие для всех моделей\n",
    "\n",
    "params = {}\n",
    "params['feature_fraction'] = feature_fraction\n",
    "params['bagging_freq'] = bagging_freq\n",
    "params['bagging_fraction'] = bagging_fraction\n",
    "params['learning_rate'] = learning_rate2\n",
    "params['objective'] = 'regression'\n",
    "params['metric'] = 'rmse'\n",
    "params['max_depth'] = max_depth2\n",
    "params['num_leaves'] = num_leaves2\n",
    "params['min_data_in_leaf'] = min_data_in_leaf2\n",
    "params['max_bin'] = max_bin2\n",
    "params['random_state'] = 12345\n",
    "n_estimators = iterations2 # кроме модели 'random_forest', будет ниже учтено в цикле"
   ]
  },
  {
   "cell_type": "code",
   "execution_count": 68,
   "metadata": {},
   "outputs": [],
   "source": [
    "# работа моделей \n",
    "for boosting_type in ['gbdt', 'rf', 'dart']:\n",
    "    if boosting_type == 'rf':\n",
    "        n_estimators = n_estimators_rf\n",
    "    start = time.time()\n",
    "    model = lgb.LGBMRegressor(**params, boosting_type=boosting_type, n_estimators=n_estimators)\n",
    "    model.fit(x_train, y_train)\n",
    "    y_pred_test = model.predict(x_test)\n",
    "    end = time.time()\n",
    "    execution_time = round((end-start),2)\n",
    "    rmse = round(mse(y_test,y_pred_test)**0.5,1)\n",
    "    line_test = [boosting_type, execution_time, rmse, feature_fraction, learning_rate2, n_estimators, max_depth2, num_leaves2, min_data_in_leaf2, max_bin2]\n",
    "    data_test.append(line_test)"
   ]
  },
  {
   "cell_type": "code",
   "execution_count": 69,
   "metadata": {},
   "outputs": [
    {
     "data": {
      "text/html": [
       "<div>\n",
       "<style scoped>\n",
       "    .dataframe tbody tr th:only-of-type {\n",
       "        vertical-align: middle;\n",
       "    }\n",
       "\n",
       "    .dataframe tbody tr th {\n",
       "        vertical-align: top;\n",
       "    }\n",
       "\n",
       "    .dataframe thead th {\n",
       "        text-align: right;\n",
       "    }\n",
       "</style>\n",
       "<table border=\"1\" class=\"dataframe\">\n",
       "  <thead>\n",
       "    <tr style=\"text-align: right;\">\n",
       "      <th></th>\n",
       "      <th>boosting_type</th>\n",
       "      <th>execution_time, sec</th>\n",
       "      <th>rmse</th>\n",
       "      <th>feature_fraction</th>\n",
       "      <th>learning_rate</th>\n",
       "      <th>iterations/n_estimators</th>\n",
       "      <th>max_depth</th>\n",
       "      <th>num_leaves</th>\n",
       "      <th>min_data_in_leaf</th>\n",
       "      <th>max_bin</th>\n",
       "    </tr>\n",
       "  </thead>\n",
       "  <tbody>\n",
       "    <tr>\n",
       "      <td>0</td>\n",
       "      <td>gbdt</td>\n",
       "      <td>96.59</td>\n",
       "      <td>1453.2</td>\n",
       "      <td>0.8</td>\n",
       "      <td>0.1</td>\n",
       "      <td>200</td>\n",
       "      <td>9</td>\n",
       "      <td>307</td>\n",
       "      <td>10</td>\n",
       "      <td>100</td>\n",
       "    </tr>\n",
       "    <tr>\n",
       "      <td>1</td>\n",
       "      <td>dart</td>\n",
       "      <td>268.00</td>\n",
       "      <td>1542.9</td>\n",
       "      <td>0.8</td>\n",
       "      <td>0.1</td>\n",
       "      <td>200</td>\n",
       "      <td>9</td>\n",
       "      <td>307</td>\n",
       "      <td>10</td>\n",
       "      <td>100</td>\n",
       "    </tr>\n",
       "    <tr>\n",
       "      <td>2</td>\n",
       "      <td>rf</td>\n",
       "      <td>147.01</td>\n",
       "      <td>1751.5</td>\n",
       "      <td>0.8</td>\n",
       "      <td>0.1</td>\n",
       "      <td>200</td>\n",
       "      <td>9</td>\n",
       "      <td>307</td>\n",
       "      <td>10</td>\n",
       "      <td>100</td>\n",
       "    </tr>\n",
       "  </tbody>\n",
       "</table>\n",
       "</div>"
      ],
      "text/plain": [
       "  boosting_type  execution_time, sec    rmse  feature_fraction  learning_rate  \\\n",
       "0          gbdt                96.59  1453.2               0.8            0.1   \n",
       "1          dart               268.00  1542.9               0.8            0.1   \n",
       "2            rf               147.01  1751.5               0.8            0.1   \n",
       "\n",
       "   iterations/n_estimators  max_depth  num_leaves  min_data_in_leaf  max_bin  \n",
       "0                      200          9         307                10      100  \n",
       "1                      200          9         307                10      100  \n",
       "2                      200          9         307                10      100  "
      ]
     },
     "execution_count": 69,
     "metadata": {},
     "output_type": "execute_result"
    }
   ],
   "source": [
    "# таблица сравнения рассмотренных моделей на тестовой выборке\n",
    "summary_test = pd.DataFrame(data = data_test, columns = columns_test).sort_values(by='rmse').reset_index(drop=True)\n",
    "summary_test"
   ]
  },
  {
   "cell_type": "markdown",
   "metadata": {},
   "source": [
    "Значения метрики вполне соответствуют результатам работы моделей на валидационной выборке."
   ]
  },
  {
   "cell_type": "markdown",
   "metadata": {},
   "source": [
    "### Вывод."
   ]
  },
  {
   "cell_type": "markdown",
   "metadata": {},
   "source": [
    "Наилучшее значение метрики, как и наиболее короткое время работы показала модель Gradient Boosting Decision Tree."
   ]
  }
 ],
 "metadata": {
  "kernelspec": {
   "display_name": "Python 3",
   "language": "python",
   "name": "python3"
  },
  "language_info": {
   "codemirror_mode": {
    "name": "ipython",
    "version": 3
   },
   "file_extension": ".py",
   "mimetype": "text/x-python",
   "name": "python",
   "nbconvert_exporter": "python",
   "pygments_lexer": "ipython3",
   "version": "3.7.4"
  }
 },
 "nbformat": 4,
 "nbformat_minor": 2
}
