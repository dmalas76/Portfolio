{
 "cells": [
  {
   "cell_type": "markdown",
   "metadata": {},
   "source": [
    "# Рекомендация тарифов"
   ]
  },
  {
   "cell_type": "markdown",
   "metadata": {},
   "source": [
    "### Введение  \n",
    "\n",
    "В нашем распоряжении данные о поведении клиентов, которые уже перешли на рекомендуемые тарифы. Нужно построить модель для задачи классификации, которая выберет подходящий тариф. Предобработка данных уже сделана.  \n",
    "Построим модель с максимально большим значением *accuracy*, по крайней мере не менее 0.75. Проверим *accuracy* на тестовой выборке.  \n",
    "\n",
    "Описание данных  \n",
    "\n",
    "•\tсalls — количество звонков,  \n",
    "•\tminutes — суммарная длительность звонков в минутах,  \n",
    "•\tmessages — количество sms-сообщений,  \n",
    "•\tmb_used — израсходованный интернет-трафик в Мб,  \n",
    "•\tis_ultra — каким тарифом пользовался в течение месяца («Ультра» — 1, «Смарт» — 0).  \n",
    "Каждый объект в наборе данных — это информация о поведении одного пользователя за месяц.  \n",
    "\n",
    "Краткий план работы:\n",
    "1. Изучение общей информации о базе данных.  \n",
    "2. Разделение данных на выборки.  \n",
    "3. Исследование моделей.  \n",
    "4. Проверка модели на тестовой выборке.  \n",
    "5. Проверка модели на адекватность.\n",
    "6. Общий вывод."
   ]
  },
  {
   "cell_type": "markdown",
   "metadata": {},
   "source": [
    "### 1. Изучение общей информации о базе данных."
   ]
  },
  {
   "cell_type": "code",
   "execution_count": 1,
   "metadata": {},
   "outputs": [],
   "source": [
    "# импорт библиотеки pandas\n",
    "import pandas as pd\n",
    "import numpy as np"
   ]
  },
  {
   "cell_type": "code",
   "execution_count": 2,
   "metadata": {},
   "outputs": [],
   "source": [
    "# чтение файла базы данных\n",
    "df = pd.read_csv('/datasets/users_behavior.csv')"
   ]
  },
  {
   "cell_type": "code",
   "execution_count": 3,
   "metadata": {},
   "outputs": [
    {
     "data": {
      "text/html": [
       "<div>\n",
       "<style scoped>\n",
       "    .dataframe tbody tr th:only-of-type {\n",
       "        vertical-align: middle;\n",
       "    }\n",
       "\n",
       "    .dataframe tbody tr th {\n",
       "        vertical-align: top;\n",
       "    }\n",
       "\n",
       "    .dataframe thead th {\n",
       "        text-align: right;\n",
       "    }\n",
       "</style>\n",
       "<table border=\"1\" class=\"dataframe\">\n",
       "  <thead>\n",
       "    <tr style=\"text-align: right;\">\n",
       "      <th></th>\n",
       "      <th>calls</th>\n",
       "      <th>minutes</th>\n",
       "      <th>messages</th>\n",
       "      <th>mb_used</th>\n",
       "      <th>is_ultra</th>\n",
       "    </tr>\n",
       "  </thead>\n",
       "  <tbody>\n",
       "    <tr>\n",
       "      <td>0</td>\n",
       "      <td>40.0</td>\n",
       "      <td>311.90</td>\n",
       "      <td>83.0</td>\n",
       "      <td>19915.42</td>\n",
       "      <td>0</td>\n",
       "    </tr>\n",
       "    <tr>\n",
       "      <td>1</td>\n",
       "      <td>85.0</td>\n",
       "      <td>516.75</td>\n",
       "      <td>56.0</td>\n",
       "      <td>22696.96</td>\n",
       "      <td>0</td>\n",
       "    </tr>\n",
       "    <tr>\n",
       "      <td>2</td>\n",
       "      <td>77.0</td>\n",
       "      <td>467.66</td>\n",
       "      <td>86.0</td>\n",
       "      <td>21060.45</td>\n",
       "      <td>0</td>\n",
       "    </tr>\n",
       "    <tr>\n",
       "      <td>3</td>\n",
       "      <td>106.0</td>\n",
       "      <td>745.53</td>\n",
       "      <td>81.0</td>\n",
       "      <td>8437.39</td>\n",
       "      <td>1</td>\n",
       "    </tr>\n",
       "    <tr>\n",
       "      <td>4</td>\n",
       "      <td>66.0</td>\n",
       "      <td>418.74</td>\n",
       "      <td>1.0</td>\n",
       "      <td>14502.75</td>\n",
       "      <td>0</td>\n",
       "    </tr>\n",
       "  </tbody>\n",
       "</table>\n",
       "</div>"
      ],
      "text/plain": [
       "   calls  minutes  messages   mb_used  is_ultra\n",
       "0   40.0   311.90      83.0  19915.42         0\n",
       "1   85.0   516.75      56.0  22696.96         0\n",
       "2   77.0   467.66      86.0  21060.45         0\n",
       "3  106.0   745.53      81.0   8437.39         1\n",
       "4   66.0   418.74       1.0  14502.75         0"
      ]
     },
     "execution_count": 3,
     "metadata": {},
     "output_type": "execute_result"
    }
   ],
   "source": [
    "df.head()"
   ]
  },
  {
   "cell_type": "code",
   "execution_count": 4,
   "metadata": {},
   "outputs": [
    {
     "name": "stdout",
     "output_type": "stream",
     "text": [
      "<class 'pandas.core.frame.DataFrame'>\n",
      "RangeIndex: 3214 entries, 0 to 3213\n",
      "Data columns (total 5 columns):\n",
      "calls       3214 non-null float64\n",
      "minutes     3214 non-null float64\n",
      "messages    3214 non-null float64\n",
      "mb_used     3214 non-null float64\n",
      "is_ultra    3214 non-null int64\n",
      "dtypes: float64(4), int64(1)\n",
      "memory usage: 125.7 KB\n"
     ]
    }
   ],
   "source": [
    "df.info()"
   ]
  },
  {
   "cell_type": "code",
   "execution_count": 5,
   "metadata": {},
   "outputs": [
    {
     "data": {
      "text/plain": [
       "0"
      ]
     },
     "execution_count": 5,
     "metadata": {},
     "output_type": "execute_result"
    }
   ],
   "source": [
    "df.duplicated().sum()"
   ]
  },
  {
   "cell_type": "markdown",
   "metadata": {},
   "source": [
    "#### Вывод по изучению базы данных   \n",
    "\n",
    "Действительно, как и указано в задании, предобработки данных не требуется."
   ]
  },
  {
   "cell_type": "markdown",
   "metadata": {},
   "source": [
    "### 2. Разделение данных на выборки"
   ]
  },
  {
   "cell_type": "markdown",
   "metadata": {},
   "source": [
    "Т.к. тестовой выборки нет, то разделим датасет на три части - обучающую, валидационную и тестовую выборки - в соотношении 3:1:1.  \n",
    "Будем использовать функцию деления train_test_split библиотеки sklearn. Эта функция позволяет делить выборку только на две части. Поэтому воспользуемся функцией деления в два этапа - сначала 4:1, а затем первую часть разделим в соотношении 3:1."
   ]
  },
  {
   "cell_type": "code",
   "execution_count": 6,
   "metadata": {},
   "outputs": [],
   "source": [
    "# импорт функции train_test_split библиотеки sklearn\n",
    "from sklearn.model_selection import train_test_split"
   ]
  },
  {
   "cell_type": "code",
   "execution_count": 7,
   "metadata": {},
   "outputs": [],
   "source": [
    "# выделение тестовой выборки\n",
    "df_1, df_test = train_test_split(df, test_size=0.2, random_state=12345)"
   ]
  },
  {
   "cell_type": "code",
   "execution_count": 8,
   "metadata": {},
   "outputs": [],
   "source": [
    "# выделение обучающей и валидационной выборок\n",
    "df_train, df_valid = train_test_split(df_1, test_size=0.25, random_state=12345)"
   ]
  },
  {
   "cell_type": "markdown",
   "metadata": {},
   "source": [
    "#### Вывод информации о длине полученных выборок"
   ]
  },
  {
   "cell_type": "code",
   "execution_count": 9,
   "metadata": {},
   "outputs": [
    {
     "name": "stdout",
     "output_type": "stream",
     "text": [
      "Длина выборки\n",
      "- обучающая:    1928\n",
      "- валидационная:    643\n",
      "- тестовая:    643\n"
     ]
    }
   ],
   "source": [
    "print('Длина выборки')\n",
    "print('- обучающая:   ', len(df_train))\n",
    "print('- валидационная:   ', len(df_valid))\n",
    "print('- тестовая:   ', len(df_test))"
   ]
  },
  {
   "cell_type": "markdown",
   "metadata": {},
   "source": [
    "### 3. Исследование моделей"
   ]
  },
  {
   "cell_type": "markdown",
   "metadata": {},
   "source": [
    "Исследуем модели, созданные на основе трех разных алгоритмов, - дерево решений, случайный лес и логистическая регрессия. Для дерева решений и случайного леса проверим результат при разных значениях гиперпараметров. Результаты исследования выведем в виде таблицы. Критерием для выбора лучшей модели будем считать долю правильных ответов (accuracy), которую вычислим с помощью функции accuracy_score() библиотеки sklearn."
   ]
  },
  {
   "cell_type": "code",
   "execution_count": 10,
   "metadata": {},
   "outputs": [],
   "source": [
    "# импорт необходимых функций и библиотек\n",
    "from sklearn.tree import DecisionTreeClassifier\n",
    "from sklearn.ensemble import RandomForestClassifier\n",
    "from sklearn.linear_model import LogisticRegression\n",
    "from sklearn.metrics import accuracy_score\n",
    "import numpy as np"
   ]
  },
  {
   "cell_type": "code",
   "execution_count": 11,
   "metadata": {},
   "outputs": [],
   "source": [
    "# переменные для признаков и целевого признака\n",
    "features_train = df_train.drop(['is_ultra'], axis=1)\n",
    "target_train = df_train['is_ultra']\n",
    "features_valid = df_valid.drop(['is_ultra'], axis=1)\n",
    "target_valid = df_valid['is_ultra']"
   ]
  },
  {
   "cell_type": "code",
   "execution_count": 12,
   "metadata": {},
   "outputs": [],
   "source": [
    "# заготовка параметров таблицы результатов исследования моделей\n",
    "columns = ['method', 'parameter', 'accuracy']\n",
    "data=[]"
   ]
  },
  {
   "cell_type": "code",
   "execution_count": 13,
   "metadata": {},
   "outputs": [],
   "source": [
    "# модель \"решающее дерево\" (oграничим глубину дерева max_depth=4, т.к. в датасете только 4 вводных признака)\n",
    "for md in range (2,5):\n",
    "    model_tree = DecisionTreeClassifier(random_state=12345, max_depth=md)\n",
    "    model_tree.fit(features_train, target_train)\n",
    "    predicted_valid_tree = model_tree.predict(features_valid)\n",
    "    acc_tree = accuracy_score(target_valid, predicted_valid_tree)\n",
    "    line_tree=['decision_tree',md,acc_tree]\n",
    "    data.append(line_tree)\n",
    "summary=pd.DataFrame(data=data, columns=columns)"
   ]
  },
  {
   "cell_type": "code",
   "execution_count": 14,
   "metadata": {},
   "outputs": [],
   "source": [
    "# модель \"случайный лес\" \n",
    "# переберем значения n_estimators от 10 до 50, возьмем только кратные десяти,\n",
    "# oграничим макс глубину деревьев: max_depth=4, т.к. в датасете только 4 вводных признака\n",
    "for estim in range(10, 51, 10):\n",
    "    model_forest = RandomForestClassifier(n_estimators=estim, max_depth=4, random_state=12345)\n",
    "    model_forest.fit(features_train, target_train)\n",
    "    predicted_valid_forest = model_forest.predict(features_valid)\n",
    "    acc_forest = accuracy_score(target_valid, predicted_valid_forest)\n",
    "    summary=summary.append(pd.Series(['random_forest',estim,acc_forest],index = summary.columns), ignore_index=True)"
   ]
  },
  {
   "cell_type": "code",
   "execution_count": 15,
   "metadata": {},
   "outputs": [],
   "source": [
    "# модель \"логистическая регрессия\"\n",
    "model_lr = LogisticRegression(random_state=12345, solver='lbfgs')\n",
    "model_lr.fit(features_train, target_train)\n",
    "predicted_valid_lr = model_lr.predict(features_valid)\n",
    "acc_lr = accuracy_score(target_valid, predicted_valid_lr)\n",
    "summary=summary.append(pd.Series(['logistic regression',np.nan, acc_lr],index = summary.columns), ignore_index=True)"
   ]
  },
  {
   "cell_type": "code",
   "execution_count": 16,
   "metadata": {},
   "outputs": [
    {
     "data": {
      "text/html": [
       "<div>\n",
       "<style scoped>\n",
       "    .dataframe tbody tr th:only-of-type {\n",
       "        vertical-align: middle;\n",
       "    }\n",
       "\n",
       "    .dataframe tbody tr th {\n",
       "        vertical-align: top;\n",
       "    }\n",
       "\n",
       "    .dataframe thead th {\n",
       "        text-align: right;\n",
       "    }\n",
       "</style>\n",
       "<table border=\"1\" class=\"dataframe\">\n",
       "  <thead>\n",
       "    <tr style=\"text-align: right;\">\n",
       "      <th></th>\n",
       "      <th>method</th>\n",
       "      <th>parameter</th>\n",
       "      <th>accuracy</th>\n",
       "    </tr>\n",
       "  </thead>\n",
       "  <tbody>\n",
       "    <tr>\n",
       "      <td>0</td>\n",
       "      <td>decision_tree</td>\n",
       "      <td>2.0</td>\n",
       "      <td>0.757387</td>\n",
       "    </tr>\n",
       "    <tr>\n",
       "      <td>1</td>\n",
       "      <td>decision_tree</td>\n",
       "      <td>3.0</td>\n",
       "      <td>0.765163</td>\n",
       "    </tr>\n",
       "    <tr>\n",
       "      <td>2</td>\n",
       "      <td>decision_tree</td>\n",
       "      <td>4.0</td>\n",
       "      <td>0.763608</td>\n",
       "    </tr>\n",
       "    <tr>\n",
       "      <td>3</td>\n",
       "      <td>random_forest</td>\n",
       "      <td>10.0</td>\n",
       "      <td>0.777605</td>\n",
       "    </tr>\n",
       "    <tr>\n",
       "      <td>4</td>\n",
       "      <td>random_forest</td>\n",
       "      <td>20.0</td>\n",
       "      <td>0.776050</td>\n",
       "    </tr>\n",
       "    <tr>\n",
       "      <td>5</td>\n",
       "      <td>random_forest</td>\n",
       "      <td>30.0</td>\n",
       "      <td>0.776050</td>\n",
       "    </tr>\n",
       "    <tr>\n",
       "      <td>6</td>\n",
       "      <td>random_forest</td>\n",
       "      <td>40.0</td>\n",
       "      <td>0.779160</td>\n",
       "    </tr>\n",
       "    <tr>\n",
       "      <td>7</td>\n",
       "      <td>random_forest</td>\n",
       "      <td>50.0</td>\n",
       "      <td>0.774495</td>\n",
       "    </tr>\n",
       "    <tr>\n",
       "      <td>8</td>\n",
       "      <td>logistic regression</td>\n",
       "      <td>NaN</td>\n",
       "      <td>0.726283</td>\n",
       "    </tr>\n",
       "  </tbody>\n",
       "</table>\n",
       "</div>"
      ],
      "text/plain": [
       "                method  parameter  accuracy\n",
       "0        decision_tree        2.0  0.757387\n",
       "1        decision_tree        3.0  0.765163\n",
       "2        decision_tree        4.0  0.763608\n",
       "3        random_forest       10.0  0.777605\n",
       "4        random_forest       20.0  0.776050\n",
       "5        random_forest       30.0  0.776050\n",
       "6        random_forest       40.0  0.779160\n",
       "7        random_forest       50.0  0.774495\n",
       "8  logistic regression        NaN  0.726283"
      ]
     },
     "execution_count": 16,
     "metadata": {},
     "output_type": "execute_result"
    }
   ],
   "source": [
    "# результаты исследования в сравнении\n",
    "summary"
   ]
  },
  {
   "cell_type": "code",
   "execution_count": 17,
   "metadata": {},
   "outputs": [
    {
     "data": {
      "text/html": [
       "<div>\n",
       "<style scoped>\n",
       "    .dataframe tbody tr th:only-of-type {\n",
       "        vertical-align: middle;\n",
       "    }\n",
       "\n",
       "    .dataframe tbody tr th {\n",
       "        vertical-align: top;\n",
       "    }\n",
       "\n",
       "    .dataframe thead th {\n",
       "        text-align: right;\n",
       "    }\n",
       "</style>\n",
       "<table border=\"1\" class=\"dataframe\">\n",
       "  <thead>\n",
       "    <tr style=\"text-align: right;\">\n",
       "      <th></th>\n",
       "      <th>method</th>\n",
       "      <th>parameter</th>\n",
       "      <th>accuracy</th>\n",
       "    </tr>\n",
       "  </thead>\n",
       "  <tbody>\n",
       "    <tr>\n",
       "      <td>0</td>\n",
       "      <td>random_forest</td>\n",
       "      <td>40.0</td>\n",
       "      <td>0.77916</td>\n",
       "    </tr>\n",
       "  </tbody>\n",
       "</table>\n",
       "</div>"
      ],
      "text/plain": [
       "          method  parameter  accuracy\n",
       "0  random_forest       40.0   0.77916"
      ]
     },
     "execution_count": 17,
     "metadata": {},
     "output_type": "execute_result"
    }
   ],
   "source": [
    "# выбор лучшей модели\n",
    "best=summary[summary['accuracy']==summary['accuracy'].max()].reset_index(drop=True)\n",
    "best"
   ]
  },
  {
   "cell_type": "markdown",
   "metadata": {},
   "source": [
    "Обучим выбранную модель на исходном датасете за исключением тестовой выборки: чем больше данных, тем лучше результат.\n",
    "Валидационная выборка теперь не нужна, т.к. мы уже определились с лучшей моделью."
   ]
  },
  {
   "cell_type": "code",
   "execution_count": 20,
   "metadata": {},
   "outputs": [
    {
     "data": {
      "text/plain": [
       "RandomForestClassifier(bootstrap=True, class_weight=None, criterion='gini',\n",
       "                       max_depth=4, max_features='auto', max_leaf_nodes=None,\n",
       "                       min_impurity_decrease=0.0, min_impurity_split=None,\n",
       "                       min_samples_leaf=1, min_samples_split=2,\n",
       "                       min_weight_fraction_leaf=0.0, n_estimators=40,\n",
       "                       n_jobs=None, oob_score=False, random_state=12345,\n",
       "                       verbose=0, warm_start=False)"
      ]
     },
     "execution_count": 20,
     "metadata": {},
     "output_type": "execute_result"
    }
   ],
   "source": [
    "features = df_1.drop(['is_ultra'], axis=1)\n",
    "target = df_1['is_ultra']\n",
    "model = RandomForestClassifier(n_estimators=40, max_depth=4, random_state=12345)\n",
    "model.fit(features, target)"
   ]
  },
  {
   "cell_type": "markdown",
   "metadata": {},
   "source": [
    "#### Вывод по исследованию моделей\n",
    "\n",
    "Наилучший результат показала модель \"случайный лес\" со значением гиперпараметра n_estimators == 40.  \n",
    "Доля правильных ответов этой модели на валидационной выборке составила 0.779."
   ]
  },
  {
   "cell_type": "markdown",
   "metadata": {},
   "source": [
    "### 4. Проверка модели на тестовой выборке"
   ]
  },
  {
   "cell_type": "code",
   "execution_count": 21,
   "metadata": {},
   "outputs": [],
   "source": [
    "# переменные для признаков и целевого признака\n",
    "features_test = df_test.drop(['is_ultra'], axis=1)\n",
    "target_test = df_test['is_ultra']"
   ]
  },
  {
   "cell_type": "code",
   "execution_count": 22,
   "metadata": {},
   "outputs": [],
   "source": [
    "# предсказания для тестовых данных и доля правильных ответов\n",
    "predicted_test = model.predict(features_test)\n",
    "acc_test = accuracy_score(target_test, predicted_test).round(3)"
   ]
  },
  {
   "cell_type": "code",
   "execution_count": 23,
   "metadata": {},
   "outputs": [],
   "source": [
    "# подготовка вывода результата на экран\n",
    "result=best.rename(columns={'parameter':'n_estimators','accuracy':'test_accuracy'})\n",
    "result['test_accuracy']=acc_test"
   ]
  },
  {
   "cell_type": "code",
   "execution_count": 24,
   "metadata": {},
   "outputs": [
    {
     "data": {
      "text/html": [
       "<div>\n",
       "<style scoped>\n",
       "    .dataframe tbody tr th:only-of-type {\n",
       "        vertical-align: middle;\n",
       "    }\n",
       "\n",
       "    .dataframe tbody tr th {\n",
       "        vertical-align: top;\n",
       "    }\n",
       "\n",
       "    .dataframe thead th {\n",
       "        text-align: right;\n",
       "    }\n",
       "</style>\n",
       "<table border=\"1\" class=\"dataframe\">\n",
       "  <thead>\n",
       "    <tr style=\"text-align: right;\">\n",
       "      <th></th>\n",
       "      <th>method</th>\n",
       "      <th>n_estimators</th>\n",
       "      <th>test_accuracy</th>\n",
       "    </tr>\n",
       "  </thead>\n",
       "  <tbody>\n",
       "    <tr>\n",
       "      <td>0</td>\n",
       "      <td>random_forest</td>\n",
       "      <td>40.0</td>\n",
       "      <td>0.793</td>\n",
       "    </tr>\n",
       "  </tbody>\n",
       "</table>\n",
       "</div>"
      ],
      "text/plain": [
       "          method  n_estimators  test_accuracy\n",
       "0  random_forest          40.0          0.793"
      ]
     },
     "execution_count": 24,
     "metadata": {},
     "output_type": "execute_result"
    }
   ],
   "source": [
    "# вывод результата\n",
    "result"
   ]
  },
  {
   "cell_type": "markdown",
   "metadata": {},
   "source": [
    "#### Вывод по проверке модели на тестовой выборке\n",
    "\n",
    "Т.о., модель \"случайный лес\" со значением гиперпараметра n_estimators = 40 на тестовой выборке обеспечила долю правильных ответов 0.793.  \n",
    "Т.е. модель удовлетворяет поставленному условию accuracy > 0.75."
   ]
  },
  {
   "cell_type": "markdown",
   "metadata": {},
   "source": [
    "### 5. Проверка модели на адекватность"
   ]
  },
  {
   "cell_type": "markdown",
   "metadata": {},
   "source": [
    "Для проверки модели на адекватность сравним ее результат с результатом работы функции dummy библиотеки sklearn.  \n",
    "Функцию dummy применим с разными значениями параметра strategy, т.е. модель будет строиться по разным алгоритмам.  \n",
    "Модели будем обучать на датасете df_1 (исходном датасете за исключением тестовой выборки), проверять - на тестовой выборке df_test.  \n",
    "Будем считать, что проверка на адекватность пройдена, если проверяемая модель покажет лучший результат, чем любая из моделей dummy."
   ]
  },
  {
   "cell_type": "code",
   "execution_count": 25,
   "metadata": {},
   "outputs": [],
   "source": [
    "# импорт функции dummy\n",
    "from sklearn.dummy import DummyClassifier"
   ]
  },
  {
   "cell_type": "code",
   "execution_count": 26,
   "metadata": {},
   "outputs": [],
   "source": [
    "# список значений параметра strategy\n",
    "strategies = ['constant', 'uniform', 'stratified', 'most_frequent', 'prior']"
   ]
  },
  {
   "cell_type": "code",
   "execution_count": 27,
   "metadata": {},
   "outputs": [
    {
     "name": "stdout",
     "output_type": "stream",
     "text": [
      "Доля правильных ответов:\n",
      "dummy constant :   0.305\n",
      "dummy uniform :   0.49\n",
      "dummy stratified :   0.577\n",
      "dummy most_frequent :   0.695\n",
      "dummy prior :   0.695\n"
     ]
    }
   ],
   "source": [
    "# создание и обучение моделей dummy, сравнение с проверяемой моделью \n",
    "print('Доля правильных ответов:')\n",
    "sanity_check_counter = 0 # счетчик количества результатов, полученных dummy, превосходящих результат проверяемой модели\n",
    "for strat in strategies:\n",
    "    if strat == 'constant': # данное значение выведено отдельно, т.к. требуется указать дополнительный параметр (constant)\n",
    "        model_dummy = DummyClassifier(strategy='constant', constant=1, random_state=12345) # создание модели dummy\n",
    "    else:\n",
    "        model_dummy = DummyClassifier(strategy=strat, random_state=12345) # создание модели dummy\n",
    "    model_dummy.fit(features, target) # обучение модели dummy\n",
    "    predicted_test_dummy = model_dummy.predict(features_test) # работа модели dummy\n",
    "    acc_test_dummy = accuracy_score(target_test, predicted_test_dummy).round(3) # результат работы модели dummy\n",
    "    if acc_test_dummy > acc_test: # сравнение результата работы модели dummy с результатом проверяемой модели\n",
    "        sanity_check_counter +=1\n",
    "    print('dummy',strat,':  ',acc_test_dummy)"
   ]
  },
  {
   "cell_type": "code",
   "execution_count": 28,
   "metadata": {},
   "outputs": [
    {
     "name": "stdout",
     "output_type": "stream",
     "text": [
      "Доля тарифа Ультра:   0.305\n",
      "Доля тарифа Смарт:   0.695\n"
     ]
    }
   ],
   "source": [
    "# доли тарифов в тестовой выборке\n",
    "print('Доля тарифа Ультра:  ', round(df_test['is_ultra'].sum()/len(df_test),3))\n",
    "print('Доля тарифа Смарт:  ', round((1-df_test['is_ultra'].sum()/len(df_test)), 3))"
   ]
  },
  {
   "cell_type": "markdown",
   "metadata": {},
   "source": [
    "Как можно заметить, модели dummy дают результат либо близкий к случайному (50%), либо совпадающий с распределением значений целевого признака в тестовой выборке."
   ]
  },
  {
   "cell_type": "markdown",
   "metadata": {},
   "source": [
    "#### Вывод по проверке модели на адекватность"
   ]
  },
  {
   "cell_type": "code",
   "execution_count": 29,
   "metadata": {},
   "outputs": [
    {
     "name": "stdout",
     "output_type": "stream",
     "text": [
      "Модель адекватна.\n"
     ]
    }
   ],
   "source": [
    "if sanity_check_counter == 0: # т.е., если ни одна из моделей dummy не превзошла проверяемую модель, то:\n",
    "    print ('Модель адекватна.')\n",
    "else: # в ином случае:\n",
    "    print ('Модель неадекватна.')"
   ]
  },
  {
   "cell_type": "markdown",
   "metadata": {},
   "source": [
    "### 6. Общий вывод"
   ]
  },
  {
   "cell_type": "markdown",
   "metadata": {},
   "source": [
    "В ходе работы были проделаны следующие операции и получены такие результаты:  \n",
    "Разделили датасет на три части - обучающую, валидационную и тестовую выборки - в соотношении 3:1:1 с использованием функции train_test_split библиотеки sklearn.  \n",
    "Провели сравнение моделей, созданных на основе трех разных алгоритмов, - дерево решений, случайный лес и логистическая регрессия. Для дерева решений и случайного леса применили разные значения гиперпараметров. За критерий выбора лучшей модели приняли долю правильных ответов (accuracy), которую вычислили с помощью функции accuracy_score() библиотеки sklearn.  \n",
    "**Наилучший результат показала модель \"случайный лес\" со значением гиперпараметра n_estimators = 40.**  \n",
    "На тестовой выборке эта модель дала долю правильных ответов 0.793, что удовлетворяет поставленному условию accuracy > 0.75.  \n",
    "Выбранная модель успешно прошла проверку на адекватность - сравнение с результатами работы моделей, полученных с помощью функции dummy библиотеки sklearn."
   ]
  }
 ],
 "metadata": {
  "kernelspec": {
   "display_name": "Python 3",
   "language": "python",
   "name": "python3"
  },
  "language_info": {
   "codemirror_mode": {
    "name": "ipython",
    "version": 3
   },
   "file_extension": ".py",
   "mimetype": "text/x-python",
   "name": "python",
   "nbconvert_exporter": "python",
   "pygments_lexer": "ipython3",
   "version": "3.7.4"
  }
 },
 "nbformat": 4,
 "nbformat_minor": 2
}
