{
 "cells": [
  {
   "cell_type": "markdown",
   "metadata": {},
   "source": [
    "# Выбор региона нефтедобычи"
   ]
  },
  {
   "cell_type": "markdown",
   "metadata": {},
   "source": [
    "### Введение\n",
    "Нефтедобывающая компания должна решить, где бурить новые скважины.\n",
    "Имеются пробы нефти в трёх регионах, в каждом — 100 000 месторождений, где измерили качество нефти и объём её запасов.   \n",
    "Построим модель машинного обучения, которая поможет определить регион, где добыча принесёт наибольшую прибыль. Проанализируем возможную прибыль и риски техникой *Bootstrap.*\n",
    "\n",
    "Шаги для выбора локации:\n",
    "\n",
    "- В избранном регионе ищут месторождения, для каждого определяют значения признаков;\n",
    "- Строят модель и оценивают объём запасов;\n",
    "- Выбирают месторождения с самым высокими оценками значений. Количество месторождений зависит от бюджета компании и стоимости разработки одной скважины;\n",
    "- Прибыль равна суммарной прибыли отобранных месторождений.\n",
    "\n",
    "Условия задачи:\n",
    "\n",
    "•\tДля обучения модели подходит только линейная регрессия (остальные — недостаточно предсказуемые).  \n",
    "•\tПри разведке региона проводится исследование 500 точек.  \n",
    "•\tБюджет на разработку месторождений — 10 млрд рублей, стоимость бурения одной скважины — 50 млн рублей.  \n",
    "•\tОдин баррель сырья приносит 4500 рублей прибыли.  \n",
    "•\tНе рассматривать регионы, в которых риск убытков выше 2.5%. Из оставшихся выбирается регион с наибольшей средней прибылью.\n",
    "\n",
    "\n",
    "Описание данных  \n",
    "\n",
    "•\tid — уникальный идентификатор месторождения;  \n",
    "•\tf0, f1, f2 — три признака точек (неважно, что они означают, но сами признаки значимы);  \n",
    "•\tproduct — объём запасов в месторождении (тыс. баррелей). \n",
    "\n",
    "План работы\n",
    "1. Подготовка данных.  \n",
    "2. Обучение и проверка модели для каждого региона.  \n",
    "3. Подготовка к расчёту прибыли.   \n",
    "4. Оценка риска и прибыли для каждого региона.\n",
    "5. Общий вывод."
   ]
  },
  {
   "cell_type": "markdown",
   "metadata": {},
   "source": [
    "### 1. Подготовка данных"
   ]
  },
  {
   "cell_type": "code",
   "execution_count": 1,
   "metadata": {},
   "outputs": [],
   "source": [
    "# импорт библиотек\n",
    "import pandas as pd\n",
    "import numpy as np"
   ]
  },
  {
   "cell_type": "code",
   "execution_count": 2,
   "metadata": {},
   "outputs": [],
   "source": [
    "# загрузка данных\n",
    "df0 = pd.read_csv('/datasets/geo_data_0.csv')\n",
    "df1 = pd.read_csv('/datasets/geo_data_1.csv')\n",
    "df2 = pd.read_csv('/datasets/geo_data_2.csv')"
   ]
  },
  {
   "cell_type": "markdown",
   "metadata": {},
   "source": [
    "Проверка данных по каждому региону."
   ]
  },
  {
   "cell_type": "code",
   "execution_count": 3,
   "metadata": {},
   "outputs": [
    {
     "name": "stdout",
     "output_type": "stream",
     "text": [
      "Регион_0    Первые пять строк базы данных\n",
      "\n",
      "      id        f0        f1        f2     product\n",
      "0  txEyH  0.705745 -0.497823  1.221170  105.280062\n",
      "1  2acmU  1.334711 -0.340164  4.365080   73.037750\n",
      "2  409Wp  1.022732  0.151990  1.419926   85.265647\n",
      "3  iJLyR -0.032172  0.139033  2.978566  168.620776\n",
      "4  Xdl7t  1.988431  0.155413  4.751769  154.036647\n",
      "\n",
      "Регион_0    Общая информация - проверка на наличие пропусков, проверка типа данных\n",
      "\n",
      "<class 'pandas.core.frame.DataFrame'>\n",
      "RangeIndex: 100000 entries, 0 to 99999\n",
      "Data columns (total 5 columns):\n",
      "id         100000 non-null object\n",
      "f0         100000 non-null float64\n",
      "f1         100000 non-null float64\n",
      "f2         100000 non-null float64\n",
      "product    100000 non-null float64\n",
      "dtypes: float64(4), object(1)\n",
      "memory usage: 3.8+ MB\n",
      "None\n",
      "\n",
      "Регион_0    Количество дупликатов строк: 0\n",
      "\n",
      "Регион_1    Первые пять строк базы данных\n",
      "\n",
      "      id         f0         f1        f2     product\n",
      "0  kBEdx -15.001348  -8.276000 -0.005876    3.179103\n",
      "1  62mP7  14.272088  -3.475083  0.999183   26.953261\n",
      "2  vyE1P   6.263187  -5.948386  5.001160  134.766305\n",
      "3  KcrkZ -13.081196 -11.506057  4.999415  137.945408\n",
      "4  AHL4O  12.702195  -8.147433  5.004363  134.766305\n",
      "\n",
      "Регион_1    Общая информация - проверка на наличие пропусков, проверка типа данных\n",
      "\n",
      "<class 'pandas.core.frame.DataFrame'>\n",
      "RangeIndex: 100000 entries, 0 to 99999\n",
      "Data columns (total 5 columns):\n",
      "id         100000 non-null object\n",
      "f0         100000 non-null float64\n",
      "f1         100000 non-null float64\n",
      "f2         100000 non-null float64\n",
      "product    100000 non-null float64\n",
      "dtypes: float64(4), object(1)\n",
      "memory usage: 3.8+ MB\n",
      "None\n",
      "\n",
      "Регион_1    Количество дупликатов строк: 0\n",
      "\n",
      "Регион_2    Первые пять строк базы данных\n",
      "\n",
      "      id        f0        f1        f2     product\n",
      "0  fwXo0 -1.146987  0.963328 -0.828965   27.758673\n",
      "1  WJtFt  0.262778  0.269839 -2.530187   56.069697\n",
      "2  ovLUW  0.194587  0.289035 -5.586433   62.871910\n",
      "3  q6cA6  2.236060 -0.553760  0.930038  114.572842\n",
      "4  WPMUX -0.515993  1.716266  5.899011  149.600746\n",
      "\n",
      "Регион_2    Общая информация - проверка на наличие пропусков, проверка типа данных\n",
      "\n",
      "<class 'pandas.core.frame.DataFrame'>\n",
      "RangeIndex: 100000 entries, 0 to 99999\n",
      "Data columns (total 5 columns):\n",
      "id         100000 non-null object\n",
      "f0         100000 non-null float64\n",
      "f1         100000 non-null float64\n",
      "f2         100000 non-null float64\n",
      "product    100000 non-null float64\n",
      "dtypes: float64(4), object(1)\n",
      "memory usage: 3.8+ MB\n",
      "None\n",
      "\n",
      "Регион_2    Количество дупликатов строк: 0\n",
      "\n"
     ]
    }
   ],
   "source": [
    "regions = {'Регион_0': df0, 'Регион_1': df1, 'Регион_2': df2}\n",
    "for reg, data in regions.items():\n",
    "    print (reg, '   Первые пять строк базы данных')\n",
    "    print ()\n",
    "    print (data.head())\n",
    "    print ()\n",
    "    print (reg, '   Общая информация - проверка на наличие пропусков, проверка типа данных')\n",
    "    print ()\n",
    "    print (data.info())\n",
    "    print ()\n",
    "    print (reg, '   Количество дупликатов строк:',data.duplicated().sum())\n",
    "    print ()"
   ]
  },
  {
   "cell_type": "markdown",
   "metadata": {},
   "source": [
    "Поиск дупликатов строк в базах данных разных регионов - проверка на наличие ошибок при формировании баз данных:"
   ]
  },
  {
   "cell_type": "code",
   "execution_count": 4,
   "metadata": {},
   "outputs": [
    {
     "data": {
      "text/plain": [
       "0"
      ]
     },
     "execution_count": 4,
     "metadata": {},
     "output_type": "execute_result"
    }
   ],
   "source": [
    "pd.concat([df0,df1,df2]).duplicated().sum()"
   ]
  },
  {
   "cell_type": "markdown",
   "metadata": {},
   "source": [
    "Удалим столбец id - он не нужен в данной работе."
   ]
  },
  {
   "cell_type": "code",
   "execution_count": 5,
   "metadata": {},
   "outputs": [],
   "source": [
    "df0 = df0.drop(columns=['id'])\n",
    "df1 = df1.drop(columns=['id'])\n",
    "df2 = df2.drop(columns=['id'])"
   ]
  },
  {
   "cell_type": "markdown",
   "metadata": {},
   "source": [
    "#### Вывод по предобработке данных   \n",
    "\n",
    "Пропуски в данных не обнаружены. Дупликаты не обнаружены. Изменение типа данных не требуется.  \n",
    "Из таблиц удалили столбцы, не имеющие отношения к данной работе."
   ]
  },
  {
   "cell_type": "markdown",
   "metadata": {},
   "source": [
    "### 2. Обучение и проверка модели"
   ]
  },
  {
   "cell_type": "markdown",
   "metadata": {},
   "source": [
    "Значения признаков и их разбросы в разных столбцах различаются значительно. Поэтому сначала произведем масштабирование признаков.   \n",
    "Чтобы не допустить утечки валидационных данных в обучающую выборку, настроим scaler по обучающей выборке, а затем уже применим к отдельно к каждой выборке базе."
   ]
  },
  {
   "cell_type": "markdown",
   "metadata": {},
   "source": [
    "Для создания модели воспользуемся алгоритмом линейной регрессии."
   ]
  },
  {
   "cell_type": "markdown",
   "metadata": {},
   "source": [
    "Предсказания и правильные ответы сохраним в виде series с согласованными индексами. Это понадобится ниже для расчета прибыли."
   ]
  },
  {
   "cell_type": "markdown",
   "metadata": {},
   "source": [
    "Рассчитаем средний запас сырья в одной скважине каждого региона и корень из средней квадратичной ошибки модели (RMSE).  \n",
    "Дополнительно, чтобы иметь представление об однородности скважин региона, найдем разброс значений запасов сырья и стандартное отклонение.   \n",
    "Данные представим в виде таблицы."
   ]
  },
  {
   "cell_type": "code",
   "execution_count": 6,
   "metadata": {},
   "outputs": [],
   "source": [
    "# импорт функции train_test_split библиотеки sklearn\n",
    "from sklearn.model_selection import train_test_split"
   ]
  },
  {
   "cell_type": "code",
   "execution_count": 7,
   "metadata": {},
   "outputs": [],
   "source": [
    "# импорт функции масштабирования\n",
    "from sklearn.preprocessing import StandardScaler\n",
    "scaler = StandardScaler()\n",
    "# список признаков, которые будем масштабировать\n",
    "numeric = ['f0','f1','f2']"
   ]
  },
  {
   "cell_type": "code",
   "execution_count": 8,
   "metadata": {},
   "outputs": [],
   "source": [
    "# импорт алгоритма линейной регрессии\n",
    "from sklearn.linear_model import LinearRegression"
   ]
  },
  {
   "cell_type": "code",
   "execution_count": 9,
   "metadata": {},
   "outputs": [],
   "source": [
    "# импорт функции расчета СКО (MSE) \n",
    "from sklearn.metrics import mean_squared_error as mse"
   ]
  },
  {
   "cell_type": "code",
   "execution_count": 10,
   "metadata": {},
   "outputs": [],
   "source": [
    "# чтобы избежать дубликации кода, создадим функцию model, которая будет производить\n",
    "# разбивку датасета, масштабирование, обучение модели, получение предсказаний, расчёт RMSE и других величин\n",
    "\n",
    "def model(df):\n",
    "    # выделение обучающей и валидационной выборок\n",
    "    df_train, df_valid = train_test_split(df, test_size=0.25, random_state=12345)\n",
    "    \n",
    "    # масштабирование признаков\n",
    "    scaler.fit(df_train[numeric]) # настраиваем scaler по обучающей выборке \n",
    "    # применяем scaler\n",
    "    df_train[numeric] = scaler.transform(df_train[numeric])\n",
    "    df_valid[numeric] = scaler.transform(df_valid[numeric])\n",
    "    \n",
    "    # создание и обучение модели\n",
    "    model = LinearRegression()\n",
    "    features_train = df_train.drop(columns='product')\n",
    "    target_train = df_train['product']\n",
    "    model.fit(features_train, target_train)\n",
    "    \n",
    "    # предсказания и правильные ответы\n",
    "    features_valid = df_valid.drop(columns='product')\n",
    "    target_valid = df_valid['product'].reset_index(drop=True) # правильные ответы\n",
    "    pred_valid = pd.Series(model.predict(features_valid)) # предсказания\n",
    "    \n",
    "    # средний запас сырья в одной скважине каждого региона и корень из средней квадратичной ошибки модели (RMSE).  \n",
    "    # дополнительно, чтобы иметь представление об однородности скважин региона, найдем разброс значений запасов сырья\n",
    "    # и стандартное отклонение.\n",
    "    mean = round(df['product'].mean(),1) # cредний запас сырья\n",
    "    rmse = round(mse(target_valid,pred_valid)**0.5,1) # кв.корень из СКО (RMSE) модели\n",
    "    ran = round(df['product'].max()-df['product'].min(),1) # разброс значений\n",
    "    sd = round(np.std(df['product']),1) # cтандартное отклонение\n",
    "    \n",
    "    # функция возвращает фактические и прогнозные значения по объемам нефти,\n",
    "    # средний запас сырья в одной скважине каждого региона, RMSE, \n",
    "    # разброс значений запасов сырья и стандартное отклонение\n",
    "    return target_valid, pred_valid, mean, rmse, ran, sd"
   ]
  },
  {
   "cell_type": "code",
   "execution_count": 11,
   "metadata": {},
   "outputs": [],
   "source": [
    "import warnings\n",
    "warnings.simplefilter(\"ignore\")\n",
    "\n",
    "# применим функцию model к регионам\n",
    "target_valid0, pred_valid0, mean0, rmse0, ran0, sd0 = model(df0)\n",
    "target_valid1, pred_valid1, mean1, rmse1, ran1, sd1 = model(df1)\n",
    "target_valid2, pred_valid2, mean2, rmse2, ran2, sd2 = model(df2)"
   ]
  },
  {
   "cell_type": "code",
   "execution_count": 12,
   "metadata": {},
   "outputs": [],
   "source": [
    "# заготовка таблицы\n",
    "columns1 = ['region','mean_volume', 'RMSE', 'range', 'standard_dev']\n",
    "line0 = ['region_0', mean0, rmse0, ran0, sd0]\n",
    "line1 = ['region_1', mean1, rmse1, ran1, sd1]\n",
    "line2 = ['region_2', mean2, rmse2, ran2, sd2]\n",
    "data1 = [line0, line1, line2]"
   ]
  },
  {
   "cell_type": "code",
   "execution_count": 13,
   "metadata": {},
   "outputs": [
    {
     "data": {
      "text/html": [
       "<div>\n",
       "<style scoped>\n",
       "    .dataframe tbody tr th:only-of-type {\n",
       "        vertical-align: middle;\n",
       "    }\n",
       "\n",
       "    .dataframe tbody tr th {\n",
       "        vertical-align: top;\n",
       "    }\n",
       "\n",
       "    .dataframe thead th {\n",
       "        text-align: right;\n",
       "    }\n",
       "</style>\n",
       "<table border=\"1\" class=\"dataframe\">\n",
       "  <thead>\n",
       "    <tr style=\"text-align: right;\">\n",
       "      <th></th>\n",
       "      <th>region</th>\n",
       "      <th>mean_volume</th>\n",
       "      <th>RMSE</th>\n",
       "      <th>range</th>\n",
       "      <th>standard_dev</th>\n",
       "    </tr>\n",
       "  </thead>\n",
       "  <tbody>\n",
       "    <tr>\n",
       "      <td>0</td>\n",
       "      <td>region_0</td>\n",
       "      <td>92.5</td>\n",
       "      <td>37.6</td>\n",
       "      <td>185.4</td>\n",
       "      <td>44.3</td>\n",
       "    </tr>\n",
       "    <tr>\n",
       "      <td>1</td>\n",
       "      <td>region_1</td>\n",
       "      <td>68.8</td>\n",
       "      <td>0.9</td>\n",
       "      <td>137.9</td>\n",
       "      <td>45.9</td>\n",
       "    </tr>\n",
       "    <tr>\n",
       "      <td>2</td>\n",
       "      <td>region_2</td>\n",
       "      <td>95.0</td>\n",
       "      <td>40.0</td>\n",
       "      <td>190.0</td>\n",
       "      <td>44.7</td>\n",
       "    </tr>\n",
       "  </tbody>\n",
       "</table>\n",
       "</div>"
      ],
      "text/plain": [
       "     region  mean_volume  RMSE  range  standard_dev\n",
       "0  region_0         92.5  37.6  185.4          44.3\n",
       "1  region_1         68.8   0.9  137.9          45.9\n",
       "2  region_2         95.0  40.0  190.0          44.7"
      ]
     },
     "execution_count": 13,
     "metadata": {},
     "output_type": "execute_result"
    }
   ],
   "source": [
    "# таблица искомых значений\n",
    "summary1 = pd.DataFrame(data=data1, columns=columns1)\n",
    "summary1"
   ]
  },
  {
   "cell_type": "markdown",
   "metadata": {},
   "source": [
    "#### Анализ результата работы модели."
   ]
  },
  {
   "cell_type": "markdown",
   "metadata": {},
   "source": [
    "Модель показывает исключительно хорошие результаты для региона 1. Для регионов 0 и 2 RМSE модели (т.е., фактически, ошибка предсказания) составляет более 40% от величины среднего запаса сырья в скважине. Это может быть связано с природой признаков f0, f1 и f2 и их применимостью для конкретного региона.   \n",
    "Отметим, что скважины каждого региона очень неоднородны по количеству запасов - это видно по разбросам значений и величине стандартного отклонения."
   ]
  },
  {
   "cell_type": "markdown",
   "metadata": {},
   "source": [
    "### 3. Подготовка к расчёту прибыли"
   ]
  },
  {
   "cell_type": "markdown",
   "metadata": {},
   "source": [
    "### 3.1. Ключевые значения для расчётов."
   ]
  },
  {
   "cell_type": "code",
   "execution_count": 14,
   "metadata": {},
   "outputs": [],
   "source": [
    "# количество точек (points of research), исследуемых при разведке\n",
    "p = 500"
   ]
  },
  {
   "cell_type": "code",
   "execution_count": 15,
   "metadata": {},
   "outputs": [],
   "source": [
    "# бюджет (budget) на разработку месторождения, млн руб.\n",
    "b = 10000"
   ]
  },
  {
   "cell_type": "code",
   "execution_count": 16,
   "metadata": {},
   "outputs": [],
   "source": [
    "# стоимость бурения одной скважины (investments per well), млн руб.\n",
    "ipw = 50"
   ]
  },
  {
   "cell_type": "code",
   "execution_count": 17,
   "metadata": {},
   "outputs": [
    {
     "data": {
      "text/plain": [
       "200"
      ]
     },
     "execution_count": 17,
     "metadata": {},
     "output_type": "execute_result"
    }
   ],
   "source": [
    "# количество скважин исходя из бюджета\n",
    "w = int(b/ipw)\n",
    "w"
   ]
  },
  {
   "cell_type": "code",
   "execution_count": 18,
   "metadata": {},
   "outputs": [
    {
     "data": {
      "text/plain": [
       "4.5"
      ]
     },
     "execution_count": 18,
     "metadata": {},
     "output_type": "execute_result"
    }
   ],
   "source": [
    "# прибыль с одной тысячи баррелей (profit per kilo barrel), млн руб.\n",
    "pkb = 4500*1000/1000000\n",
    "pkb"
   ]
  },
  {
   "cell_type": "code",
   "execution_count": 19,
   "metadata": {},
   "outputs": [],
   "source": [
    "# приемлимый риск убытков (acceptable risk), процент\n",
    "risk_accept = 2.5"
   ]
  },
  {
   "cell_type": "markdown",
   "metadata": {},
   "source": [
    "### 3.2. Минимальный средний объём сырья в месторождениях региона, достаточный для его разработки."
   ]
  },
  {
   "cell_type": "code",
   "execution_count": 20,
   "metadata": {},
   "outputs": [
    {
     "data": {
      "text/plain": [
       "11.1"
      ]
     },
     "execution_count": 20,
     "metadata": {},
     "output_type": "execute_result"
    }
   ],
   "source": [
    "# среднее количество сырья в одной скважине (volume per well), необходимое для компенсации затрат на ее бурение, тыс. барр.\n",
    "vpw = round (ipw / pkb, 1)\n",
    "vpw"
   ]
  },
  {
   "cell_type": "markdown",
   "metadata": {},
   "source": [
    "#### Вывод\n",
    "Одна скважина должна дать в среднем не менее 11.1 тыс. баррелей нефти, чтобы покрыть расходы на бурение."
   ]
  },
  {
   "cell_type": "markdown",
   "metadata": {},
   "source": [
    "### 3.3. Функция для расчёта прибыли по набору отобранных месторождений и предсказаний модели."
   ]
  },
  {
   "cell_type": "code",
   "execution_count": 21,
   "metadata": {},
   "outputs": [],
   "source": [
    "# Функция принимает на вход объемы сырья (тыс. баррелей) в каждой скважине и количество скважин в выборке;\n",
    "# возвращает суммарную валовую прибыль (млн руб.) со всех этих скважин.\n",
    "\n",
    "def prof_reg (target, pred, n): \n",
    "    pred_sorted = pred.sort_values(ascending=False) # предсказанные объемы сырья, сортированные по убыванию\n",
    "    target_selected = target[pred_sorted.index].head(n) # выборка n фактических объемом, соответствующиих макс. предсказанным\n",
    "    income = target_selected.sum()*pkb # фактическая выручка с n отобранных скважин, млн руб.\n",
    "    ips = ipw*n # стоимость бурения n скважин (investment per sample), млн руб.\n",
    "    profit = income-ips # валовая прибыль с n отобранных скважин, млн руб.\n",
    "    return profit"
   ]
  },
  {
   "cell_type": "markdown",
   "metadata": {},
   "source": [
    "### 4.\tРиски и прибыль для каждого региона."
   ]
  },
  {
   "cell_type": "markdown",
   "metadata": {},
   "source": [
    "Применим технику Bootstrap с 1000 выборок, чтобы найти распределение прибыли. Найдем среднюю прибыль, 95%-й доверительный интервал и риск убытков. За меру риска убытков примем процент отрицательных значений profit.  \n",
    "Результат представим в виде таблицы."
   ]
  },
  {
   "cell_type": "code",
   "execution_count": 22,
   "metadata": {},
   "outputs": [],
   "source": [
    "# импорт необходимых функий\n",
    "from scipy import stats as st\n",
    "from numpy.random import RandomState # эта функция необходима для применения метода bootstrap\n",
    "state = RandomState(12345) "
   ]
  },
  {
   "cell_type": "code",
   "execution_count": 23,
   "metadata": {},
   "outputs": [],
   "source": [
    "# заготовка таблицы\n",
    "columns=['region','mean_profit','95%_low', '95%_high', '2.5%_quantile', 'risk_%', 'risk_status']\n",
    "data=[]"
   ]
  },
  {
   "cell_type": "code",
   "execution_count": 24,
   "metadata": {},
   "outputs": [],
   "source": [
    "regions = {'region_0':[target_valid0, pred_valid0], 'region_1': [target_valid1, pred_valid1], 'region_2': [target_valid2, pred_valid2]}\n",
    "for reg, tp in regions.items():\n",
    "    values = []\n",
    "    for i in range(1000): # техника bootsprap для нахождения распределения прибыли\n",
    "        target_subsample = tp[0].sample(n=p, replace=True, random_state = state) # выборка p скважин (p=500)\n",
    "        pred_subsample = tp[1][target_subsample.index] # предсказанные объемы сырья в выбранных скважинах\n",
    "        values.append(prof_reg(target_subsample, pred_subsample, w)) # расчет фактической прибыли с данной выборки\n",
    "    values = pd.Series(values)\n",
    "    mean = values.mean() # среднее значение прибыли, млн\n",
    "    ci = st.t.interval(0.95, len(values)-1,loc=mean, scale=values.sem()) # доверительный интервал\n",
    "    q = values.quantile(0.025).astype('int64') # 2.5% квантиль\n",
    "    values_n = values[values<0] # поиск негативных значений прибыли\n",
    "    risk = round(len(values_n)/len(values)*100,1) # расчет доли негативных значений прибыли\n",
    "    if risk < risk_accept: # проверка критерия риска\n",
    "        risk_status = 'OK'\n",
    "    else:\n",
    "        risk_status = 'NG'\n",
    "    data.append([reg, mean.astype('int64'), ci[0].astype('int64'), ci[1].astype('int64'), q, risk, risk_status])"
   ]
  },
  {
   "cell_type": "code",
   "execution_count": 25,
   "metadata": {},
   "outputs": [
    {
     "data": {
      "text/html": [
       "<div>\n",
       "<style scoped>\n",
       "    .dataframe tbody tr th:only-of-type {\n",
       "        vertical-align: middle;\n",
       "    }\n",
       "\n",
       "    .dataframe tbody tr th {\n",
       "        vertical-align: top;\n",
       "    }\n",
       "\n",
       "    .dataframe thead th {\n",
       "        text-align: right;\n",
       "    }\n",
       "</style>\n",
       "<table border=\"1\" class=\"dataframe\">\n",
       "  <thead>\n",
       "    <tr style=\"text-align: right;\">\n",
       "      <th></th>\n",
       "      <th>region</th>\n",
       "      <th>mean_profit</th>\n",
       "      <th>95%_low</th>\n",
       "      <th>95%_high</th>\n",
       "      <th>2.5%_quantile</th>\n",
       "      <th>risk_%</th>\n",
       "      <th>risk_status</th>\n",
       "    </tr>\n",
       "  </thead>\n",
       "  <tbody>\n",
       "    <tr>\n",
       "      <td>0</td>\n",
       "      <td>region_0</td>\n",
       "      <td>94259</td>\n",
       "      <td>94087</td>\n",
       "      <td>94431</td>\n",
       "      <td>88979</td>\n",
       "      <td>0.0</td>\n",
       "      <td>OK</td>\n",
       "    </tr>\n",
       "    <tr>\n",
       "      <td>1</td>\n",
       "      <td>region_1</td>\n",
       "      <td>95182</td>\n",
       "      <td>95052</td>\n",
       "      <td>95312</td>\n",
       "      <td>91281</td>\n",
       "      <td>0.0</td>\n",
       "      <td>OK</td>\n",
       "    </tr>\n",
       "    <tr>\n",
       "      <td>2</td>\n",
       "      <td>region_2</td>\n",
       "      <td>94201</td>\n",
       "      <td>94025</td>\n",
       "      <td>94378</td>\n",
       "      <td>88841</td>\n",
       "      <td>0.0</td>\n",
       "      <td>OK</td>\n",
       "    </tr>\n",
       "  </tbody>\n",
       "</table>\n",
       "</div>"
      ],
      "text/plain": [
       "     region  mean_profit  95%_low  95%_high  2.5%_quantile  risk_% risk_status\n",
       "0  region_0        94259    94087     94431          88979     0.0          OK\n",
       "1  region_1        95182    95052     95312          91281     0.0          OK\n",
       "2  region_2        94201    94025     94378          88841     0.0          OK"
      ]
     },
     "execution_count": 25,
     "metadata": {},
     "output_type": "execute_result"
    }
   ],
   "source": [
    "# результаты по всем регионам\n",
    "summary = pd.DataFrame(data=data, columns=columns)\n",
    "summary"
   ]
  },
  {
   "cell_type": "code",
   "execution_count": 26,
   "metadata": {},
   "outputs": [
    {
     "data": {
      "text/html": [
       "<div>\n",
       "<style scoped>\n",
       "    .dataframe tbody tr th:only-of-type {\n",
       "        vertical-align: middle;\n",
       "    }\n",
       "\n",
       "    .dataframe tbody tr th {\n",
       "        vertical-align: top;\n",
       "    }\n",
       "\n",
       "    .dataframe thead th {\n",
       "        text-align: right;\n",
       "    }\n",
       "</style>\n",
       "<table border=\"1\" class=\"dataframe\">\n",
       "  <thead>\n",
       "    <tr style=\"text-align: right;\">\n",
       "      <th></th>\n",
       "      <th>region</th>\n",
       "      <th>mean_profit</th>\n",
       "      <th>95%_low</th>\n",
       "      <th>95%_high</th>\n",
       "      <th>2.5%_quantile</th>\n",
       "      <th>risk_%</th>\n",
       "      <th>risk_status</th>\n",
       "    </tr>\n",
       "  </thead>\n",
       "  <tbody>\n",
       "    <tr>\n",
       "      <td>1</td>\n",
       "      <td>region_1</td>\n",
       "      <td>95182</td>\n",
       "      <td>95052</td>\n",
       "      <td>95312</td>\n",
       "      <td>91281</td>\n",
       "      <td>0.0</td>\n",
       "      <td>OK</td>\n",
       "    </tr>\n",
       "  </tbody>\n",
       "</table>\n",
       "</div>"
      ],
      "text/plain": [
       "     region  mean_profit  95%_low  95%_high  2.5%_quantile  risk_% risk_status\n",
       "1  region_1        95182    95052     95312          91281     0.0          OK"
      ]
     },
     "execution_count": 26,
     "metadata": {},
     "output_type": "execute_result"
    }
   ],
   "source": [
    "# выбор региона исходя из среднего значения прибыли\n",
    "best = summary[summary['mean_profit']==summary['mean_profit'].max()]\n",
    "best"
   ]
  },
  {
   "cell_type": "markdown",
   "metadata": {},
   "source": [
    "Т.о., для дальнейшей работы рекомендован регион 1: суммарная валовая прибыль с отобранных скважин - 95182 млн руб., с 95% вероятностью значение прибыли лежит в пределах 95052-95312 млн руб., риск убыточности отсутствует."
   ]
  },
  {
   "cell_type": "markdown",
   "metadata": {},
   "source": [
    "### 5. Общий вывод."
   ]
  },
  {
   "cell_type": "markdown",
   "metadata": {},
   "source": [
    "Была проделана следующая работа:  \n",
    "Данные были проверены на необходимость предобработки и масшабированы.   \n",
    "Для каждого региона были созданы и обучены модели на основе алгоритма линейной регрессии.\n",
    "Вычислены значения RMSE, средние значения запасов сырья в скважинах, минимальное безубыточное значение сырья в одной скважине.  \n",
    "С помощью техники bootstrap вычислена суммарная валовая прибыль с отобранных скважин в каждом районе, 95% доверительный интервал ее значений и оценен риск убыточности.  \n",
    "В результате пришли к заключению, что для дальнейшей работы рекомендован регион 1: суммарная валовая прибыль с отобранных скважин - 95182 млн руб., с 95% вероятностью значение прибыли лежит в пределах 95052-95312 млн руб., риск убыточности отсутствует."
   ]
  },
  {
   "cell_type": "code",
   "execution_count": null,
   "metadata": {},
   "outputs": [],
   "source": []
  }
 ],
 "metadata": {
  "kernelspec": {
   "display_name": "Python 3",
   "language": "python",
   "name": "python3"
  },
  "language_info": {
   "codemirror_mode": {
    "name": "ipython",
    "version": 3
   },
   "file_extension": ".py",
   "mimetype": "text/x-python",
   "name": "python",
   "nbconvert_exporter": "python",
   "pygments_lexer": "ipython3",
   "version": "3.7.4"
  }
 },
 "nbformat": 4,
 "nbformat_minor": 2
}
